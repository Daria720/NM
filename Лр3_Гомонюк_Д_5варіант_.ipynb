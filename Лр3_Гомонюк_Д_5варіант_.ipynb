{
  "cells": [
    {
      "cell_type": "markdown",
      "metadata": {
        "id": "view-in-github",
        "colab_type": "text"
      },
      "source": [
        "<a href=\"https://colab.research.google.com/github/Daria720/NM/blob/main/%D0%9B%D1%803_%D0%93%D0%BE%D0%BC%D0%BE%D0%BD%D1%8E%D0%BA_%D0%94_5%D0%B2%D0%B0%D1%80%D1%96%D0%B0%D0%BD%D1%82_.ipynb\" target=\"_parent\"><img src=\"https://colab.research.google.com/assets/colab-badge.svg\" alt=\"Open In Colab\"/></a>"
      ]
    },
    {
      "cell_type": "markdown",
      "metadata": {
        "id": "VgrW9zRY0dVt"
      },
      "source": [
        "1. Метод ділення навпіл."
      ]
    },
    {
      "cell_type": "code",
      "execution_count": null,
      "metadata": {
        "colab": {
          "base_uri": "https://localhost:8080/"
        },
        "id": "iOTNXySVyeHy",
        "outputId": "5174695b-1ff2-41fa-a5c1-3de136fa53d3"
      },
      "outputs": [
        {
          "name": "stdout",
          "output_type": "stream",
          "text": [
            "Результати обчислень\n",
            "\n",
            "          a      F(a)         c      F(c)       b      F(b)\n",
            "0 -3.000000  0.977954 -2.000000  1.135204 -1.0000 -0.454649\n",
            "1 -2.000000  1.135204 -1.500000 -0.123480 -1.0000 -0.454649\n",
            "2 -2.000000  1.135204 -1.750000  0.405593 -1.5000 -0.123480\n",
            "3 -1.750000  0.405593 -1.625000  0.109040 -1.5000 -0.123480\n",
            "4 -1.625000  0.109040 -1.562500 -0.015587 -1.5000 -0.123480\n",
            "5 -1.625000  0.109040 -1.593750  0.044659 -1.5625 -0.015587\n",
            "6 -1.593750  0.044659 -1.578125  0.014015 -1.5625 -0.015587\n",
            "7 -1.578125  0.014015 -1.570312 -0.000917 -1.5625 -0.015587\n",
            "\n",
            "В точці с =  -1.5703125 , f(c) =  -0.0009171268569415665\n"
          ]
        }
      ],
      "source": [
        "import numpy as np\n",
        "import pandas as pd\n",
        "\n",
        "# Визначаємо функцію\n",
        "def f (x):\n",
        "    y = np.cos(x)*np.sin(x)*(x**2+x+1)\n",
        "    return y\n",
        "# Визначаємо границі відрізку\n",
        "a = -3\n",
        "b = -1\n",
        "# Визначаємо точність розв'язку\n",
        "h = 0.001\n",
        "# Поділяємо відрізок навпіл\n",
        "c = (a+b)/2\n",
        "# Зберігаємо результати обчислень\n",
        "data_A = [a]\n",
        "data_B = [b]\n",
        "data_C = [c]\n",
        "data_F_A = [f(a)]\n",
        "data_F_B = [f(b)]\n",
        "data_F_C = [f(c)]\n",
        "# Перевіряємо досягнення точності\n",
        "while abs(f(c)) > h:\n",
        "    # Звужуємо відрізок\n",
        "    if np.sign(f(c)) == np.sign(f(a)):\n",
        "        a = c\n",
        "    else:\n",
        "        b = c\n",
        "    # Поділяємо відрізок навпіл\n",
        "    c = (a+b)/2\n",
        "    # Зберігаємо результати обчислень\n",
        "    data_A.append(a)\n",
        "    data_B.append(b)\n",
        "    data_C.append(c)\n",
        "    data_F_A.append(f(a))\n",
        "    data_F_B.append(f(b))\n",
        "    data_F_C.append(f(c))\n",
        "# Відображаємо результати обчислень\n",
        "print('Результати обчислень')\n",
        "print()\n",
        "data = pd.DataFrame({'a': data_A,\n",
        "                     'F(a)': data_F_A,\n",
        "                     'c': data_C,\n",
        "                     'F(c)': data_F_C,\n",
        "                     'b': data_B,\n",
        "                     'F(b)': data_F_B})\n",
        "print(data)\n",
        "# Відображаємо наближений корінь рівняння\n",
        "print()\n",
        "print('В точці с = ', c, ', f(c) = ', f(c))"
      ]
    },
    {
      "cell_type": "markdown",
      "metadata": {
        "id": "5hYa7ucn0PEN"
      },
      "source": [
        "2. Метод ділення навпіл"
      ]
    },
    {
      "cell_type": "code",
      "execution_count": null,
      "metadata": {
        "colab": {
          "base_uri": "https://localhost:8080/"
        },
        "id": "ML3KEw5q0H1e",
        "outputId": "99314d3a-c13e-420e-e9ae-6c063defd529"
      },
      "outputs": [
        {
          "name": "stdout",
          "output_type": "stream",
          "text": [
            "The approximate solution x is: -1.5712890625\n",
            "And the value f(x) is: 0.0009350448126615916\n"
          ]
        }
      ],
      "source": [
        "import numpy as np\n",
        "import scipy.optimize as sp\n",
        "\n",
        "def f(x):\n",
        "    y = np.cos(x)*np.sin(x)*(x**2+x+1)\n",
        "    return y\n",
        "\n",
        "a, b = -3, -1\n",
        "tol = 1.e-3\n",
        "\n",
        "x = sp.bisect(f, a, b,(),tol) #функція для метода\n",
        "\n",
        "print('The approximate solution x is:', x)\n",
        "print('And the value f(x) is:', f(x))"
      ]
    },
    {
      "cell_type": "markdown",
      "metadata": {
        "id": "sYf0IvR41ufd"
      },
      "source": [
        "3. Метод хорд"
      ]
    },
    {
      "cell_type": "code",
      "execution_count": null,
      "metadata": {
        "colab": {
          "base_uri": "https://localhost:8080/"
        },
        "id": "3p6i5xHK1y3l",
        "outputId": "fbaa0d08-b4a1-4135-af0c-fd284e71ed10"
      },
      "outputs": [
        {
          "name": "stdout",
          "output_type": "stream",
          "text": [
            "Результати обчислень\n",
            "\n",
            "          a      F(a)         c      F(c)         b      F(b)\n",
            "0 -3.000000  0.977954 -1.634717  0.129889 -1.000000 -0.454649\n",
            "1 -1.634717  0.129889 -1.493678 -0.133455 -1.000000 -0.454649\n",
            "2 -1.634717  0.129889 -1.565152 -0.010636 -1.493678 -0.133455\n",
            "3 -1.634717  0.129889 -1.570418 -0.000718 -1.565152 -0.010636\n",
            "\n",
            "В точці с =  -1.5704175737258015 , f(c) =  -0.0007180376446871882\n"
          ]
        }
      ],
      "source": [
        "import numpy as np\n",
        "import pandas as pd\n",
        "# Визначаємо функцію\n",
        "def f(x):\n",
        "    y = np.cos(x)*np.sin(x)*(x**2+x+1)\n",
        "    return y\n",
        "# Визначаємо межі відрізку\n",
        "a = -3\n",
        "b = -1\n",
        "# Визначаємо точність розв'язку\n",
        "h = 0.001\n",
        "# Точка, де хорда перетинає вісь 0x\n",
        "c = (f(a)*b-a*f(b))/(f(a)-f(b))\n",
        "\n",
        "# Зберігаємо результати обчислень\n",
        "data_A = [a]\n",
        "data_B = [b]\n",
        "data_C = [c]\n",
        "data_F_A = [f(a)]\n",
        "data_F_B = [f(b)]\n",
        "data_F_C = [f(c)]\n",
        "# Перевіряємо досягнення точності\n",
        "while abs(f(c)) > h:\n",
        "    # Звужуємо відрізок\n",
        "    if np.sign(f(c)) == np.sign(f(a)):\n",
        "        a = c\n",
        "    else:\n",
        "        b = c\n",
        "    # Точка, де хорда перетинає вісь 0x\n",
        "    c = (f(a)*b-a*f(b))/(f(a)-f(b))\n",
        "    # Зберігаємо результати обчислень\n",
        "    data_A.append(a)\n",
        "    data_B.append(b)\n",
        "    data_C.append(c)\n",
        "    data_F_A.append(f(a))\n",
        "    data_F_B.append(f(b))\n",
        "    data_F_C.append(f(c))\n",
        "# Відображаємо результати обчислень\n",
        "print('Результати обчислень')\n",
        "print()\n",
        "data = pd.DataFrame({'a': data_A, 'F(a)': data_F_A,\n",
        "                     'c': data_C, 'F(c)': data_F_C,\n",
        "                     'b': data_B, 'F(b)': data_F_B})\n",
        "print(data)\n",
        "# Відображаємо наближений корінь рівняння\n",
        "print()\n",
        "print('В точці с = ', c, ', f(c) = ', f(c))"
      ]
    },
    {
      "cell_type": "markdown",
      "metadata": {
        "id": "40blPBSK2Cdm"
      },
      "source": [
        "4. Метод Ньютона (дотичних)"
      ]
    },
    {
      "cell_type": "code",
      "execution_count": null,
      "metadata": {
        "colab": {
          "base_uri": "https://localhost:8080/"
        },
        "id": "WeGQjbjW2HDz",
        "outputId": "7fd55bf4-4d4c-43ea-ce09-3fbf365aa5c5"
      },
      "outputs": [
        {
          "name": "stdout",
          "output_type": "stream",
          "text": [
            "Результати обчислень\n",
            "\n",
            "          c      F(c)\n",
            "0 -1.400000 -0.261291\n",
            "1 -1.623636  0.106144\n",
            "2 -1.573564  0.005266\n",
            "3 -1.570805  0.000016\n",
            "\n",
            "В точці с =  -1.5708049170979717 , f(c) =  1.6292567852764437e-05\n"
          ]
        }
      ],
      "source": [
        "import numpy as np\n",
        "import pandas as pd\n",
        "# Визначаємо функцію\n",
        "def f(x):\n",
        "    y = np.cos(x)*np.sin(x)*(x**2+x+1)\n",
        "    return y\n",
        "# Визначаємо першу похідну\n",
        "def df(x):\n",
        "    y1 = -(x**2+x+1)*(np.sin(x))**2\n",
        "    y2 = (x**2+x+1)*(np.cos(x))**2\n",
        "    y3 = (2*x+1)*np.sin(x)*np.cos(x)\n",
        "    y = y1+y2+y3\n",
        "    return y\n",
        "# Визначаємо початкову точку\n",
        "c = -1.4\n",
        "# Визначаємо точність розв'язку\n",
        "h = 0.001\n",
        "# Зберігаємо результати обчислень\n",
        "data_C = [c]\n",
        "data_F_C = [f(c)]\n",
        "# Перевіряємо досягнення точності\n",
        "while abs(f(c)) > h:\n",
        "    # Точка, де дотична перетинає вісь 0x\n",
        "    c -= f(c)/df(c)\n",
        "    # Зберігаємо результати обчислень\n",
        "    data_C.append(c)\n",
        "    data_F_C.append(f(c))\n",
        "# Відображаємо результати обчислень\n",
        "print('Результати обчислень')\n",
        "print()\n",
        "data = pd.DataFrame({'c': data_C, 'F(c)': data_F_C})\n",
        "print(data)\n",
        "# Відображаємо наближений корінь рівняння\n",
        "print()\n",
        "print('В точці с = ', c, ', f(c) = ', f(c))"
      ]
    },
    {
      "cell_type": "markdown",
      "metadata": {
        "id": "qjI38bTp0xCo"
      },
      "source": [
        "5. Метод Ньютона (дотичних)"
      ]
    },
    {
      "cell_type": "code",
      "execution_count": null,
      "metadata": {
        "colab": {
          "base_uri": "https://localhost:8080/"
        },
        "id": "AonZxq_H0m6-",
        "outputId": "7acab5b7-6894-4cb1-b0d3-217d498bae02"
      },
      "outputs": [
        {
          "name": "stdout",
          "output_type": "stream",
          "text": [
            "The approximate solution x is: -1.5707963268782201\n",
            "And the value f(x_0) is: 1.5803176499052036e-10\n",
            "The approximate solution x is: 1.5707963267958693\n",
            "And the value f(x_0) is: -4.9007361645997675e-12\n"
          ]
        }
      ],
      "source": [
        "import numpy as np\n",
        "import scipy.optimize as sp\n",
        "\n",
        "def f(x):\n",
        "    y = np.cos(x)*np.sin(x)*(x**2+x+1)\n",
        "    return y\n",
        "\n",
        "def df(x):# Обчислення похідної\n",
        "    y1 = -(x**2+x+1)*(np.sin(x))**2\n",
        "    y2 = (x**2+x+1)*(np.cos(x))**2\n",
        "    y3 = (2*x+1)*np.sin(x)*np.cos(x)\n",
        "    y = y1+y2+y3\n",
        "    return y\n",
        "\n",
        "x0 = -1.4\n",
        "x1 = 1.4\n",
        "\n",
        "x_0 = sp.newton(f, x0, df, tol=1.e-3, maxiter=50)\n",
        "x_1 = sp.newton(f, x1, df, tol=1.e-3, maxiter=50)\n",
        "\n",
        "print('The approximate solution x is:', x_0)\n",
        "print('And the value f(x_0) is:', f(x_0))\n",
        "\n",
        "print('The approximate solution x is:', x_1)\n",
        "print('And the value f(x_0) is:', f(x_1))"
      ]
    },
    {
      "cell_type": "markdown",
      "metadata": {
        "id": "pvK9N9TH1QD-"
      },
      "source": [
        " # Знаходження коренів рівняння за допомогою бібліотеки SymPy"
      ]
    },
    {
      "cell_type": "code",
      "execution_count": null,
      "metadata": {
        "colab": {
          "base_uri": "https://localhost:8080/"
        },
        "id": "PuAp1WCr08qt",
        "outputId": "36c578b1-b0b4-40d5-8142-44bf252e747d"
      },
      "outputs": [
        {
          "name": "stdout",
          "output_type": "stream",
          "text": [
            "[0, pi/2, pi, 3*pi/2, -1/2 - sqrt(3)*I/2, -1/2 + sqrt(3)*I/2]\n"
          ]
        }
      ],
      "source": [
        "import sympy as sym\n",
        "\n",
        "x = sym.Symbol('x')\n",
        "\n",
        "y = sym.cos(x)*sym.sin(x)*(x**2+x+1)\n",
        "\n",
        "s = sym.solve(y)\n",
        "\n",
        "print(s)"
      ]
    },
    {
      "cell_type": "code",
      "execution_count": null,
      "metadata": {
        "colab": {
          "base_uri": "https://localhost:8080/"
        },
        "id": "Y0d-uHtp1c7r",
        "outputId": "42a681c2-3c44-4db2-dbe7-7c1615e9bbe9"
      },
      "outputs": [
        {
          "name": "stdout",
          "output_type": "stream",
          "text": [
            "[(-b - sqrt(-4*a*c + b**2))/(2*a), (-b + sqrt(-4*a*c + b**2))/(2*a)]\n"
          ]
        }
      ],
      "source": [
        "import sympy as sym\n",
        "\n",
        "x, a, b, c = sym.symbols('x, a, b, c')\n",
        "\n",
        "y = a * x**2 + b * x + c\n",
        "\n",
        "s = sym.solve(y, x)\n",
        "\n",
        "print(s)"
      ]
    },
    {
      "cell_type": "markdown",
      "metadata": {
        "id": "mk1oBvYj1GC2"
      },
      "source": []
    },
    {
      "cell_type": "code",
      "execution_count": null,
      "metadata": {
        "colab": {
          "base_uri": "https://localhost:8080/"
        },
        "id": "yiLJNuM3Cq0-",
        "outputId": "a8c2022f-90bb-491c-eda5-425925e3a669"
      },
      "outputs": [
        {
          "output_type": "stream",
          "name": "stdout",
          "text": [
            "Collecting numdifftools\n",
            "  Downloading numdifftools-0.9.41-py2.py3-none-any.whl.metadata (39 kB)\n",
            "Requirement already satisfied: numpy>=1.9 in /usr/local/lib/python3.12/dist-packages (from numdifftools) (2.0.2)\n",
            "Requirement already satisfied: scipy>=0.8 in /usr/local/lib/python3.12/dist-packages (from numdifftools) (1.16.1)\n",
            "Downloading numdifftools-0.9.41-py2.py3-none-any.whl (100 kB)\n",
            "\u001b[?25l   \u001b[90m━━━━━━━━━━━━━━━━━━━━━━━━━━━━━━━━━━━━━━━━\u001b[0m \u001b[32m0.0/100.2 kB\u001b[0m \u001b[31m?\u001b[0m eta \u001b[36m-:--:--\u001b[0m\r\u001b[2K   \u001b[90m━━━━━━━━━━━━━━━━━━━━━━━━━━━━━━━━━━━━━━━━\u001b[0m \u001b[32m100.2/100.2 kB\u001b[0m \u001b[31m4.1 MB/s\u001b[0m eta \u001b[36m0:00:00\u001b[0m\n",
            "\u001b[?25hInstalling collected packages: numdifftools\n",
            "Successfully installed numdifftools-0.9.41\n"
          ]
        }
      ],
      "source": [
        "!pip install numdifftools"
      ]
    },
    {
      "cell_type": "code",
      "execution_count": null,
      "metadata": {
        "colab": {
          "base_uri": "https://localhost:8080/"
        },
        "id": "L-9dn4npCso-",
        "outputId": "41f10763-023b-4e62-e534-2c4ab77965d5"
      },
      "outputs": [
        {
          "name": "stdout",
          "output_type": "stream",
          "text": [
            "Requirement already satisfied: numdifftools in /usr/local/lib/python3.12/dist-packages (0.9.41)\n",
            "Requirement already satisfied: numpy>=1.9 in /usr/local/lib/python3.12/dist-packages (from numdifftools) (2.0.2)\n",
            "Requirement already satisfied: scipy>=0.8 in /usr/local/lib/python3.12/dist-packages (from numdifftools) (1.16.1)\n",
            "Found segment:  [-1, 0]\n",
            "Found segment:  [1, 2]\n"
          ]
        }
      ],
      "source": [
        "#Лабораторна робота 2\n",
        "#Відокремлення коренів\n",
        "!pip install numdifftools\n",
        "import numpy as np\n",
        "import numdifftools as nd\n",
        "\n",
        "def f(x):\n",
        "    return 4.5*x**4 - 4*x**3 + 1.5*x**2 - 2*x - 7\n",
        "\n",
        "\n",
        "def find_segments(): #відокремлюємо корені\n",
        "    search_range = np.arange(-5, 5, 1)\n",
        "\n",
        "    a = None\n",
        "    previous_x = None\n",
        "    current_x  = None\n",
        "    segments = []\n",
        "\n",
        "    for x in search_range:\n",
        "        x = round(x, 4)\n",
        "        current_x = f(x)\n",
        "        if previous_x != None and previous_x * current_x < 0:\n",
        "            segments.append((a, x))\n",
        "        a = x\n",
        "        previous_x = current_x\n",
        "    return segments\n",
        "\n",
        "segments = find_segments()\n",
        "for a, b in segments:\n",
        "    print(f'Found segment:  [{a}, {b}]')"
      ]
    },
    {
      "cell_type": "code",
      "execution_count": null,
      "metadata": {
        "colab": {
          "base_uri": "https://localhost:8080/",
          "height": 564
        },
        "id": "7zUI3d1xZXar",
        "outputId": "53741204-010a-4e35-c6c4-29f8e30e05c2"
      },
      "outputs": [
        {
          "data": {
            "image/png": "[encoded data removed]",
            "text/plain": [
              "<Figure size 800x600 with 1 Axes>"
            ]
          },
          "metadata": {},
          "output_type": "display_data"
        }
      ],
      "source": [
        "import numpy as np\n",
        "import matplotlib.pyplot as plt\n",
        "\n",
        "# Визначення функції\n",
        "def f(x):\n",
        "    return 4.5*x**4 - 4*x**3 + 1.5*x**2 - 2*x - 7\n",
        "\n",
        "# Генерація значень x\n",
        "x = np.linspace(-1, 3, 100)\n",
        "\n",
        "# Генерація значень y\n",
        "y = f(x)\n",
        "\n",
        "# Побудова графіка\n",
        "plt.figure(figsize=(8, 6))\n",
        "plt.plot(x, y, label='4.5*x**4 - 4*x**3 + 1.5*x**2 - 2*x - 7', color='blue')\n",
        "plt.title('Графік функції 4.5*x**4 - 4*x**3 + 1.5*x**2 - 2*x - 7')\n",
        "plt.xlabel('x')\n",
        "plt.ylabel('f(x)')\n",
        "\n",
        "# Додавання осей з стрілками\n",
        "plt.axhline(0, color='black', linewidth=0.5)\n",
        "plt.axvline(0, color='black', linewidth=0.5)\n",
        "\n",
        "plt.text(2.05, -4, 'x', ha='center', va='center')\n",
        "plt.text(-0.3, 190, 'y', ha='center', va='center')\n",
        "\n",
        "plt.grid(True)\n",
        "plt.legend()\n",
        "plt.show()\n"
      ]
    },
    {
      "cell_type": "markdown",
      "metadata": {
        "id": "XKFmX9WznZdH"
      },
      "source": [
        "![Знімок екрана 2025-09-12 140905.png](data:image/png;base64,iVBORw0KGgoAAAANSUhEUgAAAt8AAALaCAYAAADpxz93AAAAAXNSR0IArs4c6QAAAARnQU1BAACxjwv8YQUAAAAJcEhZcwAADsMAAA7DAcdvqGQAAP+lSURBVHhe7P13fFz3fef7v6b3GXSAIMHeCZISaXVazbJjS7bj2EpcEv8cO/HeZHfvZtfJ7yZZr26s5GZvyqat7/XGRXEcybbsWIqsXmiJpEhJlFhBsIMFRK+D6f2c+weKgEOQBBsIgu/n43EeEs/3c86UMzN4z3e+53tsuVzONAwD0zQxDINCoYDb7cbv9yMiIiIiIleO3bpCRERERESuDoVvEREREZFpovAtIiIiIjJNFL5FRERERKaJwreIiIiIyDRR+BYRERERmSY2TTV4YadPn6azs5OGhgbmzJmD0+m0lsxopVKJo0eP0tHRQSqVIp1Oc/fdd1NTU4Pb7baWz3rJZJLm5mbi8ThDQ0NUVlayYcMGysvLraUiIiIiV5R6vi+gp6eHt956i1deeYX29naKxaK1ZEYzTZPOzk727dvHiRMniMVi7N27l7fffpu+vj5r+ayXSqU4ceIEr732GgMDA3R0dPDuu++yY8cODMOwlouIiIhcUTMyfJdKJYrF4pTCkGEYlEqls5apbHs+pmmSyWRobm5mz549tLW1kclkME3TWnpVmaZJoVCgWCxe0m2bpklvby8AjY2NfOQjH2H+/Pns3buXrq4ua/lVYxgG6XSaUqlkbZrU6C8x1uN6ucc2nU7T29tLLpdj06ZN3HfffQC8+OKLl7XfqTJNk1wuRzqdJpfLTcttXqxzPe/jl+k2+j7IZDLX5PZFRESulBk37MQ0Tfr6+iiVSgSDQUKhkLVkTLFYHBtGYeV2uykrK8PhcFibpqRQKHDo0CHeffddurq6CIfDrFu3jjvuuAOfz2ctvypGg1pfXx9er5dwOIzH47GWTYlpmpRKJdra2vjpT39KJBLhQx/6EMuWLbOWXjHjQ9xoj/OKFSsIhULY7ef/3lcsFonH4+RyOWvT2HNxqce2VCqRzWbxer2cOXOGl156iebmZv7n//yfV21IkWmaFItFcrkcXV1dJJNJvF4vc+bMIRgM4nA4sNls1s2uiWg0Sjabta4e43A4qKqquuAxvFKKxSLpdJpoNEo8Hqeuro5IJILL5Zoxz5mIiMhUzajwbRgG/f39fOMb38DhcPDwww9zzz33WMvGnDp1iu9+97v86Ec/sjZx66238ld/9VfMmzfvogNVPp+np6eH733vezzwwANkMhkOHTo07eE7nU7z9ttv88gjj/D5z3+ej3/84yxatMhaNmWvv/46Tz75JLlcjt/7vd9j5cqVV+04m6ZJS0sL27dvZ/v27Rw4cIDu7m5++MMfcsstt+D1eq2bTHD06FH+5m/+hldffdXaxEMPPcQf//EfM2/ePGvTlBmGgd1u5+mnn+bYsWNs2LCBBx544KoFyr6+Pt555x1++MMfUlVVNTYcKJVK8R//439k06ZNVFRUWDe7Jn73d3+XN954Y9IA7nK5WLZsGT/60Y8oKyuzNl9xhUKBl156iRdffJFisUhNTQ0nTpzgjjvu4OGHH76s14CIiMi14HjkkUe+MTqcYTSAOxwOXC6XtfaqMgyDwcFB/uEf/oE33niDQCDA2rVrWbJkibV0TF9fH83NzdhsNn7nd36He++9d2zZtGkTK1aswOPxXHTvWGtrK48//jgnTpwgHo9z8OBBmpub6e3tpbKy8rJ6oKeqWCyyfft2HnvsMQ4ePEhjYyOrVq2isrLSWjplfr+f+vp6IpEI+/bto7Kykrq6OmvZFTMwMIDT6aSmpgaXy8Vrr73GF77wBRoaGi74+uru7mbfvn3U1NTwla98ZcKxveuuu1i8ePFlnSxqs9nYtm0bXV1dLFy4kNtvvx2fz3fRr5Wpeuedd/hf/+t/0dDQwMc//nE2bdpEVVUVbW1tvPbaa2zcuJG6urqrFv4vxo9//GOWLVvGV77yFT70oQ+NLZFIBLvdzpo1a7jvvvsu6/mfqldffZU33ngDt9vNb/7mb3LzzTfjdrs5ePAgJ0+e5M4775wRz5mIiMhUzZi/Wl1dXTz33HMkk0mCweCUe2SDwSCrVq3iM5/5zITlnnvuIRgMnvMPcyqVYnBwkHg8PrbONE0SiQTZbJbly5fzsY99jDVr1lBVVUU4HKaiooJAIHDJwx0uxrvvvsuePXsAqKysPO9t5nI5otEoAwMDY+NhTdMkm83S2dlJe3s7XV1d+P1+Nm7cyOrVq9m7dy+dnZ3WXZ1Tb28vTU1N9PT0TOmkU5vNRnV1NWvWrOHWW29l9erV1pILikQi3HzzzWcd29tuu+28r49EIsHg4CDJZHJsnWEYDA0NEY1GicVivPbaa/T09LB48WKWLFlCLBajUCgw+kX0avB4PNx0003cdNNNbNiwgbvuuosNGzawZ88eTp8+PeH+jspkMgwODjI0NDR230zTJJVK0dPTc1XGP99+++388i//Mp/+9KfHll/6pV9i3rx51NfX8yu/8itX/cunaZrk83k2b95Mb28vGzZs4JZbbmHt2rV8+MMfxufz8fbbb7N//37rpiIiIjPa5Ml0mvX19bF7927efvtt7r33XpYtWzbloR12u31smIzL5cLv9xMKhfD7/ZMGb8Mw6O3tZceOHTz99NO8/vrr5PN5SqUSTU1NPPPMM+zcuZMPfOADfPzjH+djH/sYt956KytWrODmm29mwYIF5w1+l8swDE6ePMmbb75JoVDg3nvvPW/4HhoaYv/+/fz85z/npz/9Kf39/ZRKpbGxzE888QTvvPMOb731Fu+++y5Hjx6lpaWFmpqa846nt+ro6OCdd96hra2NfD5vbZ5UeXk51dXV5/0SdD7WYxsIBAiFQvh8vkn3VygU6O7u5o033uCpp57i7bffplAoYBgG7733Hk8//TTPPPMMb7zxBv/8z//M4cOH6ezsZPfu3bzwwgtks9mrdgLk4sWL+exnP8uGDRsIBAIwMna9oqKCUqk0dj/HGxgY4L333uOZZ57h+eefJ5VKUSqVOHbsGC+88AJPPfUUp0+fnnR4yOX48Ic/zIYNG/D5fGPLyZMnGRgYoLa2lg0bNlz0UK6LZRgGAwMDHDp0CLfbTWNj41jb6JSfiUSCt956a8J2IiIiM93ZCWaaZTIZdu3axc6dO1m6dCn3338/1dXV1rJJ2Ww2DMMgFotx+PBhdu3axYEDB2htbZ3Qoz2eYRi0tbWxZcsWvvOd7/C9732Pnp4eenp6eOGFF/j+97/Pc889R3t7O06nE7/fTzgcprKykkgkgtvtvmpDE0qlEkNDQzz77LPE43HWr1/PbbfdZi2boK+vj/fee48f/ehH/Nmf/RmHDx+mu7ubt99+m3/6p3/iiSeeoKWlhYMHD/Luu++OhfBPfepTrFy50rq7c0okErS3txOLxc4KiVfD6LEdGBjg4MGD7Ny5k+bmZtrb20mlUtZyGBmrf/LkSTZv3sw3v/lNnnzySbq7u+nu7uapp57i+9//Pj/5yU/4xS9+QVdXF01NTTz77LM89dRT7N69+6o+rkWLFvGZz3yGdevWjYXv0ee0vLyc+vp6gsHghG26urp46623+MEPfsDf/u3f0t7ePvbl4p/+6Z/46U9/yuHDh8lkMhO2u1wrV65kzpw5MK4H+tVXX8XpdHLfffeddyhXd3c3p06dmtJy5swZBgcHrbuAkfdCW1sbsViMUChEbW3tWJvD4aCsrAyfz8fRo0cnbCciIjLTXfMTLnft2sW//uu/UigU+Iu/+AtcLhd//Md/TCqV4hOf+AQf+chHrJuMOXnyJI8//jhPP/00hUJhbBjFfffdx5e//GU++clPWjcZUywW+cd//EdeeOEFvvjFL9LZ2cnixYuZO3culZWVNDQ0jAXt3t5eBgYGxnpyz9ULfbkGBwfZvn073/72t/nd3/1dPvrRj3Lw4EH+4A/+gI985CN86lOfmnR2klKpxLvvvstv/dZv8Tu/8zvY7XZCoRBLly4lFAqxcOFCAoEAxWKRQqFwVsibim3btrF582buuecebrvttovaR09PDy+++CK//du/zauvvsqdd955wV82jh49yre+9S22bNlCJpOhs7MTl8vFL//yL/OlL31pbIrAyRQKBR599FFaWlp48MEH6ezsZO3atVRXV1NTU0N9ff20jFc+H9M0+cUvfsHf/d3fsXDhQv7Lf/kvLF261FpGqVTi2Wef5a/+6q/4nd/5HaLRKLW1tSxcuJCysjIWLlyIx+OZ9JeAK6FQKNDe3s7v//7vc/fdd/Pv//2/P+dzZxgG//W//ld27dplbZpUVVUV999/P//u3/07axOZTIbXX3+d//P//D954IEH+PrXv044HB5rf+KJJ/jxj3+Mx+Ph6aefnrCtiIjITHZNw/epU6f4h3/4B6qqqvjMZz7DypUrsdls/NEf/dGUwnc+n2doaIhYLIY5Mi/3L37xC15++WXcbjd/+qd/SmNj46RhwTRN3njjDX72s5/R3d3NqlWrePjhh1mxYgVOp3PCNGbFYpFSqYTD4TjvlHAdHR2cPn3aunqCYDDInDlzqKmpmbA+Ho/z9ttv87d/+7f87u/+LnfeeSfV1dU0NTVdMHwz8kXkW9/6Fq2trdTX1/PhD3+Y+++/f2zoht1uxzRNTNOcUlBLJBI0NTWN/Xvfvn3s2rWLm2++mVWrVuH3+/F6vVRWVrJw4cIJ21pdSvjO5XJj47aNkTnCn3/+eV599VWWLFnCH/zBH0wYijCeaZr827/9Gy+//DLxeJxVq1bx67/+68ydO3fsZOJzHcNzOXny5AXnRQ+Hw8ybN29KV8p89913efbZZzl27BiPPvooixYtmnQGGNM02bdvHz/4wQ84ffo0S5cu5ROf+AS33HLL2GMZfzyz2Sz79u0771hwt9tNRUUFixYtuuBrYXBwkL/7u7/DNE0+8pGP8MEPfvC8z11TUxPRaNS6elIej4eamhoWL15sbSKTybBlyxYeeeQRPvShD50Vvh9//HGefPJJ/H4///qv/zphWxERkZnsms528oMf/IBXX32VlpYWWlpaePXVV3nxxRfZunUrJ0+e5NixYzQ1NbF69epJx3A7HA4CgQCVlZVUVlZSU1PD3LlzaW9v59ChQ9TV1bFq1apJTw6z2Wxjc0+/+uqrfOELX2D9+vVjc4OPDxh2ux2n04ndbj9v8Dh8+DDbtm3jzJkz51xSqdRZP6MDHDp0iGeeeYbNmzcTj8d55513eOWVV3j11VfHLoizf/9+crkcS5YsOev4FAoFotEozz33HBs3buTee++lrq4Op9M5dp9tNtt57/94AwMDPP/882P3++jRo5w+fZpCoUAikaCjo4PBwUGcTucFw3cqleL48eM8++yzfPGLX5zSbCdOp5NQKERlZSVVVVXU1tbS0NBAc3MzHR0dzJ07l8bGxkkfj81mI5FI0NzcTFNTE1/+8pdZsWLFZc2nvXv3bnbu3HnW8Ry/ZLNZKisrLzhl4JtvvsmWLVuw2Ww8/PDDrFu37pxDOWw2G7lcjs7OTp566ikeeughbr/9dqqqqiYc21GJRILnn39+bFjHZEt/fz82m40FCxac91ecTCZDS0sLjz32GA899BC33nrr2JCZcwmHw9TW1jJnzpwLLnV1dZSVlU06fnx0ONnmzZuZM2cOt99++4RfW3bt2kVzczNz587l4x//+IRtRUREZrLzd3tdZXPnzuWhhx7innvuYc6cOVRUVFBRUYHX68Xj8RAOhykvLz9nQBjtyR398mC321mwYAHz5s3D5XKRSqXOO443lUoRi8XGeoatQeZiVVVV0djYeN5l8eLFk/aMBoNBGhsb+eIXv8iKFSuoqamhoqJi7GIiPp+PsrIygsHgpPczn8/T29uLzWa75IA5ns/nm3C/Fy1aRHV1NQsXLmTVqlU0NjaybNmys75EXCmTHdslS5YwZ84c7Hb7pBdWGi8ej5NMJi+pl3syc+bMOetYWpdFixad8yRWc2Qmnddee43t27fj9/vHpk1kZHz3uc5TyGQyDAwMnNXLPRm3283q1avPum/jlxUrVow9j+fT2dnJm2++SUNDA8uXL7/glwrTNNm1axevvPLKlJYtW7acc8y2w+Fg7ty5hMNhkskkfX19Y22lUolYLEYulzvnL0EiIiIz1TUddpJOpye9jPyjjz5KMpnkYx/7GB/60IcIhUKkUqmxK18uWrQIp9NJU1MTuVyOOXPmjF1sY2hoiP/1v/4XW7Zs4T/8h//AAw88MPZYSqUSmUwGu90+NsPKjh07OHXqFCtXruQ3fuM3LmlKvCth9OqHhUJhwvrm5mYeeeQR7rvvPh566CFWrVo1Nh91Op0eC3XHjx9n8+bNHDlyhNraWh588EE++tGPTtjX5biaY75jsRg9PT243W4aGhpwOBy89957OBwO6uvrx+YiHxwc5M/+7M/o7Ozkq1/9Kg888MDYPgqFArlcDrvdTldXF2+//TY7d+6kr6+PlStX8tu//dvX7IIsxsjFo/bs2cMzzzxDbW0tH/rQh1i3bh2lUom+vj4OHz7MihUrWL169dgwG5vNxtDQEAcOHGDr1q0cOXKExYsX8/DDD3PHHXdYb+aKymazbNmyhccee4zf+I3f4K677qKqqspaNoFpmjz22GMcP37c2jSpcDjMTTfdxEMPPWRtwhy5nPx/+S//hVgsxqc+9Sk+85nPYLPZ6Ozs5O///u/Zv38/jzzyCJs2bbJuLiIiMmNd02EnLpcLj8eD1+udsGzZsgXTNFm7di1r1qzBZrNx9OhR/u3f/o1du3bxgQ98ALfbzd/93d/x4osvks/nWbhwIalUir1797Jr1y78fj9f/vKXJ0xzl0gkOHLkCB0dHWzduhWHw8GGDRuw2+1s3759Qs/quXrbrxb7yNhs63MRjUbZvHkzK1euZP369dTV1WEbmQnk6NGjnDlzhj179nDixAkeeOABfD4fBw8exDRNVq9ejd1uvyK9+q2trZw8eZKFCxcyb968ScfRWxmGQSKRoKuri0OHDvHqq6/y0EMPUVFRgcPhGNvHgQMH+MlPfsKZM2dobGzE4/Hw9a9/nbfeeguHw8GcOXNIpVK888477Nmzh/nz5/Orv/qrEwL84OAgx48fp729nc2bN1NdXc2qVavIZrNs3ryZW265hbKysmtybNPpNFu3buWb3/wmqVSK2267DY/HQ1tbGydOnGD79u0cPHiQ+vp6Fi9eTC6XG3udvvPOOwwNDbFp0yY8Hg+7d++mrKyMxYsXjz2Wyz22k2ltbeXtt9/m+PHj/N7v/R4VFRUXvB2bzUZVVRWrV68em8/8fMu6detYtGjRpF/kRn/ByWQynDlzhoGBARobG8fGgjc3N7NgwQK+/OUvX7AHX0REZCa5puH7XDZv3kyhUGDFihVjV7jcuXMnP//5z2ltbeX+++8nEokQj8dpamrijTfe4PDhw7zwwgvs2LGDNWvW8JWvfIWGhoYJf5jPnDnDY489xl/8xV/g9Xr54Ac/yC233ILf7+df/uVfOHz4MIlEgrKysqs2nOJi9fT0jJ1kuHLlyrErXBYKBX70ox/x93//9xw9epTbb7+dBx54gMrKSn7xi1+wbds2Ojs7CYfDVFdXX/bxvJTwHYvFeOKJJ/jOd77DG2+8QU9PD52dnRw4cACbzTb2K8OWLVt4+umnyWaz3HnnnUQikbE5rt966y2ampp4/vnn2blzJ/feey+f/exnx76EjDp48CDf+c53+LM/+zPmz5/PPffcw7p16ygUCnzve9/jzJkz5HI5ysvLL+sqoZfi4MGDPP300/z0pz/lxIkTvPzyy/zrv/4rP/3pT3nqqad44403qK2t5dZbb2Xx4sVEo1F+8IMf8Dd/8zcMDQ1x55138sEPfpCqqiqeeuopdu3aRX9/P5FI5KpdFfPFF19k//79fPKTn2Tt2rWTjsueTCgUoqqqakpLRUXFOYdRjVqyZAmlUomdO3fyk5/8hB07drBlyxY2btzIb/3Wb11wKIyIiMhMc02HnZzLj3/8Y7LZLBs3bmTdunUw0rPZ0dFBqVRi5cqVeDweotEovb29Y7OdhEIh7HY7kUiEysrKs060zGQydHd309nZSXV1NXV1dQSDQdLpNEeOHMHj8VBRUUF5efk1ffzjtba28sQTT7Bu3TpuueWWsSEYpmnS1dU1NgXf3LlzqaqqIpfLcfLkSTKZzNgY+ku9yM148XicWCxGOBweO3HxQorFIv39/USjUfL5PJlMhmAwiNfrnRCC+/v7aWtrw+v1snjxYjweD319ffT29pJIJLDb7WMhrbKykrKysrPCfzKZHHs+GhoaqK2txev1Eo/HOXz4MGVlZWNj6C8008qVlkql6O3tpaenx9o0pry8nLq6OiKRCIWRiwV1dnYSDAapr6+nrKyMXC7HsWPHME2T8vLysSuuni+8XopMJsNzzz1Hb28vn/vc56ioqLjs18+lMk2TaDRKX18fiUSCYrGI1+ulurqa6urqs14HIiIiM92MDN9nzpzBMAzKysooKysbWz96P8cHP9M0x+avHp3v+EJhpFgsjg3HGGUYBraLmA1kuqTTaVpbW4lEImMno443OqXc+OdkdAz9tQpMl2KyxzE67rdUKk1pLuvR18L4WUBGX9dTeV3MNNfqdVosFmlvbyefz7Ns2bKreltTZX2fT+XLn4iIyEw0I8O3iIiIiMhsdP6uRBERERERuWIUvkVEREREponCt4iIiIjINFH4FhERERGZJgrfIiIiIiLTROFbRERERGSaKHyLiIiIiEwThW8RERERkWmi8C0iIiIiMk0UvkVEREREponCt4iIiIjINFH4FhERERGZJgrfIiIiIiLTROFbRERERGSaKHyLiIiIiEwThW8RERERkWliy+VypmEYmKaJYRgUCgXcbre1TkRERERELpN6vkVEREREponCt4iIiIjINFH4FhERERGZJgrfIiIiIiLTROFbRERERGSaKHyLiIiIiEwThW8RERERkWmi8C0iIiIiMk0UvkVEREREponCt4iIiIjINFH4FhERERGZJgrfIiIiIiLTROFbRERERGSaXPPwPdB6hJ1H+8lYG4w4LU1H2NkSpWBtk6kZPMaLb7YyYF0vIiIiItfENQ/frU17+cnuVhIT1mbZ88LLfGvncQYC5bgmtMlU9R4+yuZDzRyIWVtERERE5Fq45uF7Mh1vvsYTnSVqVt/Bg3OsrTJVNXc9yF9++SHujVhbRERERORasOVyOdMwDEzTxDAMCoUCbrfbWnfV7HnuxzyRWM4ffWEjNQBdO/nzZ0+Sqt/II59Yjm9CdYnelia2H4sTdwdZtXIFt80Lvt881MnOM7B0lY/Wdw7SlCgRrlvJh2+qJWT5mpFoP8hrTf2T7ifTdZKmPi9L19VTOboy20/TsX7881eytGysdAr7yb9fDISrFrK03juxN98o0HG0ie2nkmRwsXTdOjaNf1yTitPS1HnWkJLKcfdvssdRGOpk557jtGTBF2rgvtsXUzN2Zwp0HD1Be27038N81UtYNydDS1MnzF9GuGsfb5xKkvFWce8ta1gYmlhf6DnJawfa6M0zyfM/er8DLG1soNL69W+wjZ3tqZHbfP9ZOv8+RURERK4PjkceeeQbpmkCjAVwh8Nhrbtquo4105SvZNPaegLpY3z3mUOcCSzn9z69lgrbuEKjnxd/8hz/cjRGKRDAn+nmzX2H2D4Y5vYlZcNh9sR7/O1bR3jv4EnaS36CxTj7ThzlF8fyNK6pJ2wDyHL41ef4m129E/azOzOHTQv8AET3befbe+Ms+MAixjreBw7zvc0H6Stfy8aai9nPGU70D3Cyu5fj3b3sOnKQ14/nWb165P4Y/bz45PP88FQOX8iDK9vPDst+JpVt4cnn9/NOzwCneno53t3NgdOdxMfu39mPI3PwdR596SCnTT/lbpOetqO8tL+P6hWLGM65Uba/uoPnTvVxpq+P4yP3udc9j9vm9vLUM3t449gxdvQXKfMW6W5r5fUDpynVr2DZSADvePM5/nTHGZKOIEFnhpNHD/PihOe/laee2cOW9jN0uVdyS93411qW7S+9ys+OdtPmmMvdI4//wvsUERERuT7MjL7DQoympoM88cxuDptVfPZTG5lruWcD7+5kcyLIAx9/mN//xD385qd/hW9sqqVwaidPtYyvdLH+3s/wR5++h9/89Cf4xp21eBPH+PmBkdM2W3bx+CnY9NFx+7m1nN4je9mZHb+fC5jyfmp5+EsP8+jI8pcPNOCNHeO148OtiQNN7CzU8tnPf4J//+Dwfr66xEXvsSMcHr8bq1iWKLD0ttF938RSa80Enby2f5Dwqnt49Nfu5zcfvJ/f/+w6FhZ6eKM5ObG07qax+/volx7mP91aPtbkmn8b/9cXPspvPvhR/ujzG1nlSLJ555HhE2ZTR3jxZI5Vt35y+Pl/8KN8/YEGQokTvHFy/A0Mv/JajjRP7Llv389rfeNXXOQ+RURERGa4mRG+8/28vvcwh1KAL8w8r7Ugys6TcahbMWEMuG/NOm4PlDhwsnVcbYRli97vTR2ugZaONgCajrWRDc1nU8P7W/gW1zPX6KfpxPvrLuRS91MwALyEA8P/Dq2/n0e/dD+3+YF8kkQsSW1FBIr5s2eAuSz1fPILD/NHd9cDJTKxJIlCmHkByOam/q1j3pyG94fM+Jfz4FIv9PVwHCCwkq9+6WG+ut4LRoFELEmiopxaSmQsQ1kqG+qZO3Sare3vrzvc3EqiupyF4wsvYp8iIiIiM93MCN+BJfznLz3Mf//4cmpSJ/l/XzhmCZ59dCSgsqxiwlqoYl4ECrnzpbDhGkpFIEr7EJA4xl98+8d8bXR58iAd1s3o4Wc/+Bl/Mrq8eGJcL+2l7ee/PvZj/nBzJ+F1H+TT80bbs7S8+Rp/8t0f87XvP8f//czL/I99/RN3MRmjCHiptT4l5zN4jH/+0U/52rd/ytd/9jL/45md7LzMhD+3MgJGieLIvzOndvOtH/yYr333Z/xfT73M/3jmIOO/Go0JLGNTbZbtu0Z6zbNHeKMNNqxdbBnnfxH7FBEREZnhZkb4HjVnI19ZHSTbuZt/eHN8AA1S6QWGh6aPUyB9wUnAx9cECXuB6jV8/XOf4FHL8hvLx28XZv3NjTw4uqys4v3zCi9mP1U8+KmP8gef+ih//Kl7+OyKMANNr/PPR4fvVGb/m3zrSJb193+Cv/3fPs9//9LDPHpb7fgdTCrTHWUAHxXvjwi5gB6efmE3x/xr+KOvfJ6//a2HefRL93LPSA/8pcrkx51Qmj3C9zcfI96wiUe/+nn+8ivnGw7j5rbGBrw9J9gxBL3vHafFu4BNyyxlF7VPERERkZltZoVvoOauD/Mb9Q56D73Ns12ja6uZG4GBrraJY4SzJ2gasPaIl0aGdowwOjkdhVAgCLiYV+aCaJTeUJBQZNwSCuKbMAWJj2XrVnLb6LI4wvtzwFzMfhz4R9sq67nt3g+wKVSi6dgpAA6f6YdAPZuWjJslZXygnVSW3aeiUF7P+rOG6JxDTzuH07Bo2Zpxs5vkyV7wy4uF5QvQ6Z44eL1UAJzopMUIsm5Nw/szkWQL575I0tJ13F8W5809u3n1WJKljesnDjnhEvYpIiIiMoPNuPANXjY8dD8PhJJseel19qQBXNy2cQGhoSN89/VWBgrD48S3v9xEi6OWj22sGrd9Py9uPsZAHihE2f7sTvYYQW5bUw/Awg3LmWt08vizB+nIj0zz17SVP3nsBTYPjtvNBUx9PyXSseGx3IlYko6mg+xMwdzqOgAWVIch0ckbLdHh9sPb+Ydd0fE7mKiQpbfpLV7sc7BqxUIY2/dwIC3kkiQmy+7VVSxwQsvRJjpiSRIDnWx+9i22T324NwCH925nz2BheNrHPa/xeGuJmqXLh0Pz3HLmkmTvgVZ6Y0kSnSf5yTNNTDgfdoIwd62sInH8GHuo577Jvklc9D5FREREZq6ZNdXg6Eqbn2VLPJxpPs7rLSNTypU18IFQjPeaDvLy7mZe2XeSllIlH//oA9wx2vHdd4pXzrhprOzk317fx0t7WziccbLujg/zq4tH+q29tdwyp0jLoYO8sKuZV/Yc4u3OAivvuJdPL/AAkDpzjO19btaNn2ow1cWbRwYIzB+Zym/K+xnicPMxtowsb3cXqF68kX93Vx0eG/jrK/C0neD10fYuB/csC3K8f4hw7WpWWS+Qc2Qbj7zVQxGT/vbjY/vd0tzDIDDYeYwD+TncvcA/8XHYylgWirHncAu/OHCMLYdaGaxdzrpiP8fzQe5eVYOLNMcPnOSkp55fWjE2w/mIAfbs7iJYH+HgO+/wzK6DbO9M42vYyH++rwGPDfDOYYHRwY4jx9ly4BhbWnpxrVjInL4o7e5K7lsUGttPqnoJdy/w46px0negjeSSW/jVRcGz2qe2TxEREZHrwzW/yM6lKCSSZB0+Qn7Ll4SDr/O17fAb/9v9bDAKJBI5vKEgrnP07xfSSbIlD6HQ5V3A/orsJ58kkZvCPg6+zte2p3jgU5/gwbOGhh/ju9/eTe/qD/P1D47/NWC8EplYBvzW4TEXMrxvNn2er64ZOQaeIKHJXipTeO4v2tXYp4iIiMg0uy5jjCsUPDt4W9ldhCLnD2ouf/DCYXcKrsh+3FdgH1PiwBe52OB9NlfoHMGbqT33F+1q7FNERERkminKXG/mruSzd6xhvXU4CgB13HfHzXxi6aSNIiIiInKNXZfDTs6pkCWRBm/E+/6FYOQKudThKiIiIiIyanaFbxERERGRGUzDTkREREREponCt4iIiIjINFH4FhERERGZJgrfIiIiIiLTROFbRERERGSaKHyLiIiIiEwThW8RERERkWmi8C0iIiIiMk0UvkVEREREpsk5r3Dp9/uttSIiIiIichnU8y0iIiIiMk0UvkVEREREponCt4iIiIjINFH4FhERERGZJgrfIiIiIiLTROFbRERERGSaKHyLiIiIiEwTzfMtYvHyyy+TTqdZvnw5jY2N1mYRERGRS6aebxGLdDqNzWYjFApZm0REREQui8K3iEVVVRVLly5lwYIF1iYRERGRy6LwLSIiIiIyTRS+RURERESmicK3iIiIiMg0UfgWEREREZkmCt8iIiIiItNE4VvEolgsksvlyOfz1iYRERGRy6LwLWJx6tQpduzYwZ49e6xNIiIiIpdF4fsiGaaJaV0ps0pdXR2NjY0sW7bM2iQyLUwTDBN91oiIzEIK31MUTWTZebCLHfs7iMaz1maZRUKhEDU1NVRWVlqbRKZF31CaPUe62bL7DNl80dosIiLXMYXvKYon8+w60s0vdp+hL5q2NssMk8vlSCaTpFKpsXXFYpGhoSE6Ojro6emhUChgmupblJmneyDJzoNdbNvXTjZfsjaLiMh1TOF7ipxOGwGPk8GhDJl8EUOhbUbr7Ozk8OHDtLa2jq3r6+vjwIEDvPXWW+zcuZOuri5yudyE7URmgmSmQCKdx+914rDbrM0iInIdU/ieIo/LSVWZn0LJIJHK66fgGcwwDH74wx/yne98h127dsFIr/e3vvUtdu7cSUNDA4VCgT//8z/nyJEj1s1FrrlUpkAmV6S6zI/dpvAtIjKbKHxPkcftoKZ8+A9hNJEllSlYS2QGyOVyvPnmm+TzeVwuF/l8nkKhwIEDB2hvb8fj8bBy5UpWrVrFnj17OHbsGIlEwrobkWumUDRIpgsUSgbV5X7s6vkWEZlVFL6nyON2UFXuw+EYDt/JtOaAnmlGx3S3trbi9/uJRCIAFAoFjh07RqlUIhwOU1ZWRmVlJaZp0t3dTTQate5K5JpJZvIkM3kcdhvVZT4NOxERmWUUvqfI5bATCXjweZzEkjkSafV8zzSxWIwjR45QUVFBRUUFHo8HRoah9PT04Ha78fv9ANjtdioqKkilUiSTyQn7SSQS9Pb20tHRMbZks5rhRqbHUCJHKlvA43IMDztR+BYRmVUUvqfIZrPhdjmojPhIZQskM+r5nkmKxSJnzpzhtddeY+3atYRCIfL5PPl8nkwmQz6fx+l04nQ6YeR4er1eDMOgWJw4fr+7u5vm5mbee++9sWVoaGhCjcjVMpQcHtbmdTupiqjnW0RktlH4vgh2m42acj+ZbJGker5nlNOnT7Nz506OHz/OT37yE15//XX27t3L7t272bFjB16vl0wmQzo9PE2kYRgMDAzgcrnwer0T9rVo0SLuuusufumXfmlsqa6unlAjcrUMJXLkCiX8XhcBvwubTrgUEZlVFL4vgsM+HL6Lhkkykydf0Py7M0VtbS0PPPAA//k//2cefPBBbrrpJhYvXsySJUtYv34969evp1AoEI/HMU2TfD7P0NAQdXV1ZwVrp9OJx+PB5/ONLQ6HY0KNyNUylMhhmhAJejTTiYjILKTwfRHsI+HbabeRTA/PwyszQzAYZPHixWzcuJGqqipKpRKZTAbDMIhEIqxYsYLFixcTi8XYsmULb7/9NjfffDNLly4lFApZdydyzQwlh88vKAsNn7MgIiKzi8L3RXDYbVSX+/G4HSQzeaIJXaBlprDZbNjtdhwOB8VikXA4TENDA3V1dRiGQVVVFffddx/z5s2jo6ODeDzO5z73OZYuXTo2DlzkWjJNyBdKxFN5nHYb5UGFbxGR2ciWy+VMwzAwTRPDMCgUChNmhZD3maZJOlfkH5/eR8kwuW/DfG5ZXWctkxmsUChQKpVwOBw4nc5Jx9Nu27aN8vJy1q5da20SuWoMw2QgnuGxZw/g8zh54NaFrFlUaS0TEZHrnHq+L4LNZsPvcRLyuykUSwwmMtYSmeFGx3OfK3iLXCslw6QvmiZfKBH0u6nQsBMRkVlJ4fsi2Ww2ykJeTHP4xCi5vthstrHlXNra2ti9ezfNzc3WJpGrxjBM+qIZcvkSQa+LiIadiIjMSgrfl6A85MVmszGUyFIyTGuzXOd8Ph+RSEQnYsq0KpkmfUNpbDYI+Fx43ToXQURkNlL4vgTlYQ9up51EukA6W8A0FcBnk6qqKpYuXcqCBQusTSJXjWEY9A1l8LgdBP0uXdlSRGSWUvi+BBUhL0G/m2y+yMBQRr3fInLZSiWTgaE0Po+LgM9tbRYRkVlC4fsSlIe8BH0ucoUSPdE0hsK3iFwGwzTJF0oMJnIEfC4CPpe1REREZgmF70sQ9LsI+tyUSgZ9Q2n1fIvIZckXDAbjWQpFg0jQTVDhW0Rk1lL4vgQu5/CYTJfTTu+ger5F5PLkC0X6Y8NXZC0LDv+yJiIis5PC9yUK+tz4PC56o2lKhmFtFhGZsly+RP9QBhMoC3rwexW+RURmK4XvSxT0u/B7nQwMZcgXh68QKrNDsVgkl8uRz+etTSJXRa4wHL5dDjtBv6YZFBGZzRS+L1HQ5yYS9JIrlhhK5MgX1fs9W5w6dYodO3awZ88ea5PIVZHLlxiIZaiI+PAoeIuIzGoK35co6HdRHvJQKhn0RlPk8iVriVyn6urqaGxsZNmyZdYmkasiWygxEM9QEfbicTmszSIiMosofF+ioM9NeciLYUJvNE2uULSWyHUqFApRU1NDZWWltUnkiiuWDNLZAqlMgcqID49b4VtEZDZT+L5EHreDUMCN22mnL5ohq55vEbkE2VyRRDpPyTCpivjwuDTsRERkNlP4vkR2mw2f20lZyMtALKNhJyJySZKZArFEDofdRnWZT8NORERmOYXvy+BxO6iK+OiNpsnmNexERC5eKltgKJnDbrdRVe7XsBMRkVlO4fsyeD1Oaiv95PLDPxvnCur9FpGLk0wXSKTzBH0uAl4XDrs+lkVEZjN9yl8Gn9vJnMogJjAYz5BMa17o2aCvr4+WlhZaW1utTSJXXCqTJ50dPtnS5bRjs1krRERkNlH4vgxej5O6ygAuh53+oQzxlML3bJDNZonFYiQSCWuTyBVljoz5zuSKVJX5sNuVvEVEZjuF78vgdjqojPjwepxE4zliqZy1RK5DDQ0NbNy4kcbGRmuTyBVVKhkkM8ND1qrK/DjU7S0iMuspfF8Gmw1cTjt1FQGSmbx6vkXkogwlcyTTBdxOOzXl6vkWEbkRKHxfJofdRn11kEyuSDyZwzBMa4mIyKQGYhni6RzekfNHHArfIiKznsL3ZXI47MypCmID4qkcCZ10KSJTNBjLksoU8XtdVIS96vkWEbkBKHxfJofdRn1VAI/bSSyVZzCetZaIiExqIJahUCwRCXrweV3YNOZbRGTWU/i+TA67jdqKAH6vk0Q6T99QxloiInIW04SB+PDnRUXEi2K3iMiNQeH7MtlsNoI+F+GAh3yhRP9Q2loiIjKBaUKhaBCND19WvjLstZaIiMgspfB9BdhsNqoivuGerJh6vq93bW1t7N69m+bmZmuTyBVhmCZ9Q2kyuQIBn5vKiM9aIiIis5TC9xVSVTZ8dbqhRI5svoipSU+uWz6fj0gkQigUsjaJXBElw6BnMEU2XyLkd1MRVvgWEblRKHxfIVURH36vk2Rm+KRLQ+n7ulVVVcXSpUtZsGCBtUnkijBKJl0DKYolg3DATSTosZaIiMgspfB9hVSW+QgHPGTyRTr7k5RKhrVErjLTNCmVSmQyGTKZDIVCAXPclyDTNMnn82QyGbLZLIahYyTXRskw6RlI4bTbCAfceN0Oa4mIiMxSCt9XSHnISzjgJl8w6OpPUdLFdqZdoVCgq6uLl156iVdeeYXDhw+TTr9/Amw6nebgwYO88sorvPnmm6RSKQVwuSZKxnDPt8/nIuR3W5tFRGQWU/i+QpwOO+GAB6/bQWdfUuF7mhWLRZqamvjrv/5rKisrqays5LXXXuMf//EfKRaLFItFHn/8cd577z3Ky8tJJBJ885vfpKWlxborkauqZJikswWiiSxhv5tQQENORERuJArfV4jNBpGAm4DXRfdgimLRQPF7+thsNvx+P/PmzWPJkiUsXLiQnp4e3nrrLZLJJKdOnWL37t2kUimWLVvGvHnzeOWVVzh69OiE3nGRqy1fKDEYz5DNFSkPewmr51tE5Iai8H0FhQMeIkEP0USWZCavcd/TyOFwsGDBAj796U/jdrvJZrP4/X6qqqrI5XI0NzeTyWSIRCLU19czf/58hoaGaGtrIxaLWXcnctVk80W6B1IYhkll2Ec4oPAtInIjUfi+gsIBD5URH4WiQc9gmmy+ZC2Rq8jtdhMKhTh27Bhbt24lEAjwkY98BL/fT0dHBx6Ph0AgACNhvaqqing8ztDQ0IT9FItFcrnc2ImbmUyGUknHUq6MbK5I10AKgIqwl4BP4VtE5Eai8H0FhYPDF8swDIOu/iTZXNFaIleRzWbD6XTi8Xjw+/0MDg5y4sQJstksmUwGt9uNxzM8vtZmsxEIBCgWixQKhQn7OXXqFDt27OCVV14ZW/r6+ibUiFyqbL5EbzRNWciD3+vC6dCF5UVEbiQK31eQ1+2kLOjB63bSNZAik1f4nk4Oh4NQKMSyZcu45557qKys5NChQ+zatWtsKEomM3wFUsMwiMfjOJ1O3O6JPY91dXU0NjZyyy23jC1lZWUTakQuVSZfpC+apqrMj8/jtDaLiMgsp/B9BTnsNvxeF+Vh7/DV69TzPW0SiQRnzpzh5MmTBINB5s6dSzgcJp1OE41GWbhwIfl8nmQyiWmaFItFotEolZWVVFRUTNhXKBSipqaGuXPnji1er3dCjcilKBQNkuk8iXSe2gq/5vcWEbkBKXxfYV6Pg9ryAIOxLKlsAUNTDk6LbDbLyZMnefnll2lpaaGlpYVUKkVlZSUNDQ00NjZSWVlJLBbj6NGjHD9+nNraWhYuXKhebZk26WyBWDJHqWRSVxHAq55vEZEbjsL3FebzuKirDJDOFYin8mQLOlFvOgQCAQzD4O2332br1q289NJL9Pf3s2bNGu644w6WLFnCpk2bAHj++efZunUrn/vc51i1atVZw05ErpZEOs9ALIvDYaOuMoDXrfAtInKjseVyOdMwDEzTxDAMCoUCbrcbv99vrZUpSKbzHG4d5J9faOZDH5jPnWvnUlc5PMOGXD2maZLL5UgkEuTzeRwOB06nE6/XSzAYhJErXGazWUqlEna7HY/Hg8/nw+GY+NP/tm3bKC8vZ+3atRPWi1yuQ6cG2LLnDC3tQ/zR/+82qiI+7HadcCkiciNRz/cV5vU4qasI4HLYGIhliKdy1hK5Cmw2G16vl6qqKmpqaqiqqqKiomIseAP4/X7Ky8upqKigvLycYDB4VvAWuZoS6TyJTIHKiBePy6HgLSJyA1L4vsIcdjtBv4uykJdYMk88lbeWyFVks9lwuVw4nU7s9rNf3jabDYfDMWnbqL6+PlpaWmhtbbU2iVwyE4incqQzBeoqAjgd534NiojI7KVP/yvMZgOX00FdZYBUZnjct065vL5ks1lisRiJRMLaJHLJ8oUSiXSeQrFEXWUAh3q9RURuSArfV4HDbmNOVZBsvkgsldNl5q8zDQ0NbNy4kcbGRmuTyCWLJ3PEU3mcTjt1lQHsuriOiMgNSeH7KnDYbdRXBXA57cRTOYYSWWuJiNxgBuJZEuk8PreTOVVBHOcZ+iQiIrOXPv2vAofDzpyqIF6Pk1gyT//Q8FUVReTGNRDLkMoU8HtdVIa92G3q+RYRuREpfF8FdpuNyrCPoM9NOlugV+Fb5IY3EMtQLBlEgh48bifK3iIiNyaF76vAZhuecrA87KVQLNEXTVtLROQGYpomg/EsNhtURnzWZhERuYEofF8lNqC2wo/dZqNvKE1Jl5kXuSGZJhSKBtF4FofdrvAtInKDU/i+imrK/fi8LuKpPNFEFkMBXOSGY5gmvdE0mXyRoG94vLeIiNy4FL6voppyP5HA8Ljvjt6ker+vE21tbezevZvm5mZrk8hFK5UMugdSZHNFQgGPer5FRG5wCt9XUXnIS1nIS6Fo0NYbp6j5vq8LPp+PSCRCKBSyNolctJJh0jUw/OU75HcTCritJSIicgNR+L6KfB4nZUEPToed9t6Eer6vE1VVVSxdupQFCxZYm0QuWskw6exL4nTYCQfceFwOa4mIiNxAFL6vsrKQh5DfTWdfkkKxhKn8LXLDMIFi0aCzP0XQ7yIS9FhLRETkBqPwfZWVhbxUlvmIjVzpslAsWUtEZJYqFg1iqRyxZG54GJrCt4jIDU/h+yorC3qoKfcPj/vuSZLJFa0lIjJLZfNFuvqHf/WqLvOp51tERBS+r7ag301VxIfTYaetN046W7CWiMgslc4WaO9LgA2qyvyE/DrZUkTkRqfwfZV5XA7CAQ+RgJuOviRp9XzPeIlEgt7eXgYGBqxNIhclkyvS2ZfE73ERCXjwup3WEhERucEofE+DgNfJnKoQ3f0pUpkChs66nNG6u7tpbm7m+PHj1iaRKTOBdLZIz2Ca2ooAfq8Tm81aJSIiNxqF72ng87poqAmRzReJJrJksur9nskWLVrEXXfdxYYNG6xNIlNWLBokM3mi8Sz1VUF8Hpe1REREbkAK39PA73XSUBvCbrfRM5hiKJm1lsgM4nQ68Xg8uN0anyuXLpHO0T+UARvMrQ7i82rIiYiIKHxPC6/LQU2Fn6DPRV80QzSes5aIyCwTS+bpH8rgdNiprw7i03hvERFR+J4eDoedkN9NTUWAaCLLYCKLRn2LzG5DyRwD8QxBn4uKsBe3Sx+3IiKi8D1tnA47C+eESWcLDMYzFEuGtUREZpFYMkcynWdOVRCPy4FNZ1uKiIjC9/Rx2G0sqIvgcjqIxrMMxDLWEhGZJUolk1gyRzpbZG51CIdDH7UiIjJMfxGmidNhZ35dCL/XRTSRo2cgZS0RkVkimsgSS+ZwOe3Mqw7isKvXW0REhil8TxOb3UZZ0Et5yEMmV6Rb4XvG6uvro6WlhdbWVmuTyJT0x9LEUjm8Hif11UH1fIuIyBj9RZgmNsDltFNbEcA0TboHU5QMnXY5E2WzWWKxGIlEwtokMiW90TSpTIGQz01VmQ+7xnuLiMgIhe9pVlcZwOW00xfNkM7qapczUUNDAxs3bqSxsdHaJDIlPQNpCkWDyjIfXreubCkiIu9T+J5mc6oClIe8pLIF2nrilEoK3yKzSckw6I2msdmgttxvbRYRkRucwvc0qyrzUx72kssXOd0Vp6QpB6+YUqlENBpl69atvPzyy+zfv59YLDbWns1mOXbsGNu2bePdd98lnU5j6pcHuYJKhknvYIZEOk/I76a2QuFbREQmUvieZj63k4qQF5fTwemuGEVD4ftKME2TU6dO8cQTTzA4OIjdbmfXrl0888wzZLNZSqUSr776Krt37yaTydDZ2cnTTz9NR0eHdVcil6xUMmjvS5DOFogEPdRUBKwlIiJyg1P4nmY2G5SHvUSCHjr7k2RyRQydeHnZDMOgv7+fPXv2MG/ePBobG+no6OC5556jt7eX7u5uXnrpJdrb21myZAnhcJgf/vCHHDlyhHw+b92dyCUpGSZtPQlKJZOyoIfykNdaIiIiNziF72ugIuylqsxHLJljMJYlXyxZS+Qi2Ww25s2bx6/+6q+ydu1aamtr8Xg8ZDIZWltb2bNnD/F4nLKyMpYuXcrq1as5ffo0p06dmjA0ReRyFEsGbT1xPB4H5WEvLqc+YkVEZCL9ZbgGKsJe6iuDFEsmJztjpDIFa4lcJLvdzpw5c7j//vvxeDz09PTQ39+P0+mkvr6etrY23G43wWBwrL6mpoZoNEo0GrXuTuSimaZJvlCisz9JJOChLKhebxEROZvC9zXg97qoiHjxuZ20dsdIZRW+rwSHw4HH4yGXy/HSSy8RDof50pe+RFlZGZlMBrfbjcfjgZHwHQqFKBQK5HK5Cftpa2tj9+7dbNu2bWwZGBiYUCNilc2X6B5IkckWqSrzURYafq2JiIiMp/B9DTgddsIBDzUVftp7EyQzBc26cQUYhkEymeSNN97Abrdz55138sEPfhCPx4PH46FUKlEsFmGklzKbzWK323E4HBP24/P5iEQilJeXjy0ul2tCjYhVOlugrTdBsWRQWxFQ+BYRkUkpfF8jQZ+LhXPCDCVyDMWz5Aoa93254vE4+/fv5/Tp09x0003cfvvtlJWVkUqlmDNnDtlslmQyiWmaFItFotEooVCIcDg8YT9VVVUsXbqUtWvXji3WGhGrdLZIW08Ct8tBZdhL0Oe2loiIiCh8XysBn4tF9RFMoHsgxVBi4tAHuTilUoljx47xxBNPsHHjRqqrq0mlUnR0dHDmzBlWrVqF0+kkHo8Tj8cZGhqiVCrR0NBAdXW1dXciFy2dLdDRl6S63E/Q78Zh12UtRUTkbArf14jf42R+bRiPy0Fnf5L+WMZaIhehs7OTd955h+eee47f+73f4wtf+AK//Mu/zB/+4R/S2dlJQ0MDd9xxB7FYjO9973v85Cc/4XOf+xyrV6/G7VYPpVyeYskgns7TG00zrzqI36thSiIiMjlbLpczDcPANE0Mw6BQKOB2u/H7dWW2q8kE4qkcjz3bRDJT4J6bG7jn5gZrmUxROp2mq6uL48eP43a7sdlsmKaJ3+9nwYIF1NTU0NnZSSKRoFQqYZomoVCIuro6fD7fhH1t27aN8vJy1q5dO2G9yLkMxLPsbO7k+R0n+LX7V3DT8hrKNMe3iIhMQuH7Gsrkirz8zil2H+lmw4paPnrHYvwep7VMrqDR4G2z2c460XKUwrdcrJb2KNv2tdN0vI//+Ks30zDyq5aIiIiVhp1cQ06HnSVzy3A67AzEMgwMaejJ1eZwOHA6necM3gCJRILe3l5NLyhTNhDP0h9NUx7yUBnx4Xae+/UlIiI3NoXva8jhsLFgToSQ381gPEt7X8JaItdAd3c3zc3NHD9+3NokchbDNBmMZ4lnCiyYE8HtcmDTuZYiInIOCt/XkN1mI+R3UVPuJ5cv0dGbtJbINbBo0SLuuusuNmzYYG0SOUsilScay4Jpsqg+gtOuj1URETk3/ZW4xuw2G3OrQzgddroHkqSzRXS9nWvL6XTi8Xg0C4pMSfdgisF4Bp/HycI5ERwOdXuLiMi5KXzPAPNqQoSDboYSOTr7k5QMw1oiIjNUZ3+SRCZPWdBLTZlP83uLiMh5KXzPALWVfqoiPrKFIic6ohRLCt8i1wPDNOnqT1EsGlSX+/B5Xdg04FtERM5D4XsGCAc8VJX5sdlstLQPUSgqfIvMdKZpkiuU6B1M4XTYqa8KWktERETOovA9A9iA6rLh3u/TnTFSmQIlQwO/RWaykmHS3p0gkS5QFvQyp1LhW0RELkzhe4aoKfcxtyZEJlfkdFeMdLZgLRGRGaRYMjjdHSObL1Ae8VBboQuTiYjIhSl8zxBlIS/1lQEc9uGhJ4l03loi06Svr4+WlhZaW1utTSJjiiWTU50xnA4HFWEffp/LWiIiInIWhe8ZwudxUhnxUR72crIzRjyVx9Scg9dENpslFouRSOiiRzI5wzDJ5oq09yYIB9xUhr3YdaKliIhMgcL3DBIKuFk8t4zu/iTReJa8Try8JhoaGti4cSONjY3WJhEA8sUSA7EM0USWqjIfFWGftURERGRSCt8zSMjvZnlDOTa7jY7+BAOxjLVERGaAVKbAyc4YxZJJfVWQyojXWiIiIjIphe8ZxOdx0lAbIuhz0dmXpH9I4VtkJkpmCpzqGhoeLlbmx+/VeG8REZkahe8ZxOmwEw54aKgJMRDL0htNa8pBkRnGMEwS6TztPQnmVAWIBNw4HfooFRGRqdFfjBnG5bSzbH45hWKJ3miapGY9EZlRMvkiA7EsQ8kci+vLCPnc1hIREZFzUvieYZwOO8vmlRPwuekfytDRn7SWiMg1NBjP0tWfxGG3sbg+QkBTDIqIyEVQ+J5hHA47DbUhKsJehpJZznTHrSUicg0NDGXoGkji97qYVxPC53FaS0RERM5J4XuGsQFOp4OGmhCYcKY7Tr5YQiO/p09bWxu7d++mubnZ2iQ3OBPoj2WIxnMsqAvj9Tix2zW/t4iITJ3C9wxkAxbOiRAOeugfytDVn6JU0pzf08Xn8xGJRAiFQtYmucElUjn6hzIYhsHiuWW4nPoIFRGRi6O/HDPU3JogNeV+Mrkix84MUlT4njZVVVUsXbqUBQsWWJvkBtc9mGYgnsHrcbJkbplmORERkYumvxwzVFnIS02FH5sNjpweJF8wNPRE5Bpr70kQjWeJBD0sqIvgsOsjVERELo7+csxQNqCuPEB1uZ/TXTFiySwlXW5e5JoxgbaeOKWRq1q6nHZsGu4tIiIXSeF7Bqur9LNwTphMvsjRM1ESGc35LXItGIbJQCxDfyxDwOeioTak4C0iIpdE4XsGCwc81FcFCXhdHDk9QCyl8C1yLRRLBqe7YsRTecrDXubV6GRcERG5NArfM5jb5aAy4qOhNsyZnjiDsQwFDT256hKJBL29vQwMDFib5AZVKBkcbR0+8bm6zEdVxGctERERmRKF7xkuHPCwamElyUyBzv4ksWTOWiJXWHd3N83NzRw/ftzaJDcg04RcvsTxtihBn4uacj9ul8NaJiIiMiUK3zNcOOBm5YIKfG4nJztidA3ocvNX26JFi7jrrrvYsGGDtUluQNl8ka7+JIPxLPXVIWoqAtYSERGRKVP4nuEcdjuRoJsl88rpH0rT2Z+iWNKkg1eT0+nE4/HgdrutTXIDSqTzHG+LUiwaNNSEqC7TkBMREbl0Ct8znM0GHpeTxsVVmCZ09SfpH0pbywQolUqkUilaW1s5cuQIfX19E9rz+TwdHR0cOHCAo0ePksvlME19kZHzS6TyHGuLUh72UF3uw+91WUtERESmTOH7OuB02lk+v5yykIe+aJpTXTFriYyE76GhIfbu3ctrr73GsWPHxtpM06SpqYn9+/dz6tQpjhw5wrvvvks0Gp2wD5Hx8oUSg/EMXf1JFsyJUBb04rBrjkEREbl0Ct/XAYfdRm1lgDmVQZKZAic7YhiGemytDMMgm81y4sQJNm/ezOHDh2EkeKfTaf7lX/6F/fv3s2DBAmw2G3//93/P4cOHMQzNICOTG0rm6OxPkS+UWNFQQSigoUgiInJ5FL6vEzZgybwyAl4XnX0J+mMZBXALj8fDnDlz+MAHPkB5efnY+nw+z549exgcHKSsrIzVq1dz0003ceTIEVpaWojF9EuCTK43mqatJ47H7WRJQzlBn4aciIjI5VH4vo4sqo9QW+FnKJnj0KkBzfltYbPZcDqduN1u7Pb3X9rFYpGTJ0/icDgIhUK4XC68Xi/hcJiBgQENPZFJmSb0DKboj2VYUBcm5HfhGPe6EhERuRT6S3IdKQ95mVMVxGG30Xyij1yhiM4XvDDDMIhGo3g8HrxeL4wE9bKyMrLZLJlMZkJ9X18fLS0tHDhwYGxJJBITamT2iyVz9EbTFEsGy+dX4HE5dEl5ERG5bArf1xGX0059dZCaCj+nu+P0DWUoFEvWMpmEbSQ1jf53POuMJ9lsllgsRjQaHVvy+fyEGpn9OvoT9EUz+DwuljeU43To41JERC6f/ppcZ+qrAiyZW0YmW+DwqQHiKYXCC3E4HFRUVJDJZEilUjDSGz44OIjX68Xv90+ob2hoYOPGjdx9991jS2Vl5YQamd1ME053xojGs1SEvcyvC+NQ+BYRkStAf02uM2VBL/Nqw4QDHva39BJNZq0lYuFyuVi/fj3FYpF4PI5hGOTzeYaGhqivr6e2tta6idzATBMKRYPTXXEAFs6J4HTaOfs3ExERkYun8H2dsdttVIa9rF5cSW80Q0dvkkRavd8A6XSaEydO8Pbbb3PixAmam5vZv38/jFwyfsOGDQwNDfHkk0/y7LPP8tBDD7Fq1Sp8Pl2xUN5XKhmc7BxiMJ6lMuJlUX1EwVtERK4Yhe/rUCTgoXFxNTbgVOcQPYPDQyludKOzmaxdu5bPf/7z3H333YRCIex2O6FQiA9/+MPccccd1NTUsGTJEj772c+yYMGCCTOjiBRKBodPD5DNF6mp8FNfFbCWiIiIXDJbLpczDcPANE0Mw6BQKOB2u88aByszh2GaDCVyfPfnTeQKJe6+aR6b1s/VCWFTUCqVKJVK2O12nE6ntRmAbdu2UV5eztq1a61NMssZpkk0nuW7P2+iUCxxz4YG7r6pwVomIiJyyZTWrkN2mw2/18lNy2tIZwu09cSJpXLWMpmEw+HA7XafM3gzMi94LpfTDCc3oHyhRN9Qho6+BPXVQeqrgtYSERGRy6LwfZ1yOR3cvLyGipCXjr4kx87oQjFXyqlTp9ixYwd79uyxNsksF0vmaD7RR7FosGhOhNoKDTkREZErS+H7OmW32ygPeVlYHyaXL3K0dZBcoaSL7lwBdXV1NDY2smzZMmuTzGImMJTMcfj0ADUVAWorAvi9upy8iIhcWQrf1ynbyEV3VsyvIBL00NGb4FRHjGJJl5y/XKFQiJqaGs3tfYNJpvN09afoH8qwvKGc8rAXh13znIiIyJWl8H2dW1gfYV5tiHSuyJ6jPeTyuuS8yKXoHUxzuiuGzWZj1aJKIgGPtUREROSyKXxf5yIBDwvqIoQDbva39DKUzFEy1PstcjEM06SjL0Frd5zKMh+L68s05ERERK4Khe9ZYGFdmFULK0mk8uw73sdQQjOfiFyMRDpPR3+STK7I+qXVeNwObBpxIiIiV4HC9yxQFvKyoC5MZcTHvqM99McyGBp7IjJlpzpidPUnCQfcrFtag8upj0YREbk69BdmFnA57dRWBFizuIreoTSt3XH1fotMUckwOd4WJZkuMLcqyJyqAA5d9VRERK4S/YWZJSJBD+uWVuN1O2lpi9LRl9CJl5cokUjQ29vLwMCAtUlmGcMwGYxlONMTx+1ysHhuGR6XhpyIiMjVo/A9S/g8Thrqwiyqj9Dem+B0V5x8sWQtkyno7u6mubmZ48ePW5tklikUDQ6eGiCayFJbEWDpvHJriYiIyBWl8D2LeFx27misx+t2cLorxomOIWuJTMGiRYu466672LBhg7VJZpl8scS+470AzK0OUlPht5aIiIhcUQrfs4jLYWfJvDLm1YYZiGVoPtGvi+5cAqfTicfjwe12W5tkFsnmi3T0JenoTVBfFWRudVAX1RERkatO4XsWsdlshPxuVi+sJOB1capziFOduuqlyGRiyTzNJ/vJ5kssnlvGnKqgtUREROSKU/iehZbPL2d+XZhEOs+uw92ks0VMnX0pMqZYMuiPpTl4sp+KsJf5tWHKgrqipYiIXH0K37NQZcTHkrllhPxudh/toX8oTaGo3m+RUalMgc6+JN39SdYuqaIy4sWuISciIjINFL5nqcVzy1i3tIZkpsCOpg76YxlricgN60xPnMOnB/C4ndy0vJaykNdaIiIiclUofM9S4YCbRXMiLK6P0HyinzPdcdLZgrVM5IaTzRc50x2nL5ph1cJKqsp8uHVFSxERmSb6izNLOR126ioD3LK6jlyhxMFTA7T3Ja1lMom+vj5aWlpobW21Nsks0NaToLU7jsNhY8PKWvweJzZdVUdERKaJwvcsFgq4aVxcxYI5YU53xYYvoZ3JW8vEIpvNEovFSCQS1ia5jpkjJ1oePj1A/1CG2ooAK+dX4FKvt4iITCP91ZnFHHYbkYCHu9bNxW63cbwtysnOmC47fwENDQ1s3LiRxsZGa5NcxwzDJJrIcexMFEZmBQoF3Or1FhGRaaXwPcu5nA7WLa1m0ZwIPYMpdh/uoVA0FMDlhlMolHjvYBf9Qxnm14VpXFxlLREREbnqFL5nOZsNPG4nG1bUUlcRoLU7xq4j3RSKJWupyKxVLBlEEzn2HOsh6HexqD5CRVgznIiIyPRT+L4B2IBF9RGWNZSDCTsPdtEfy+jKl3LDSKTyHDrVT89gisVzy1g4J4LL6bCWiYiIXHUK3zeIkN/N8obhK1+e6hyi+WQ/sVTOWiYy65RKBr3RNHuO9uD3uljeUE5dhd9aJiIiMi0Uvm8gC+ZE2LBieGq1LbvP0NaT0JUvJ1EsFsnlcuTzmhlmNkhmCrT1xDnZOcSaRZXUVwfxuJ3WMhERkWmh8H0DcTrtNNSGuP8D84mn8uw52kNrd8xadsM7deoUO3bsYM+ePdYmuQ6d6orRdKIPr9vJ7Y31GustIiLXlML3DcQGhAMeGpdUs3x+Oac6Yhw8OcBQUsNPxqurq6OxsZFly5ZZm+Q6M5TMcaJ9iIFYlnVLq6mpCOB2aay3iIhcOwrfNxiX005VxMed6+bicTs42jpI84k+iiXNPTgqFApRU1NDZWWltUmuM8fODHKqM4bf6+LW1XMIeF3YNa+3iIhcQwrfNyCX08HaxdWsXlRFKltg95Ee2nsTmv1EZg3DNImn8jSf6CeRzrO4PsKy+eU4dTVLERG5xmb0X6JSqUQ2m8XUFWEuWqFQOOcJg8Nzfzu4fc0cFtdHaO9NsHXPGZKpHEYmC+k0ZLPcqFfiKRaLlEqaB/1imaZJNpu9Ns+daQ6/Zkdeu4V8kSOnB2jtjlNV5mP9smrcTgczsc/7fO9VERGZfWZ0+O7r62PLli3kchqTfLFOnDhxwRMGaysDrF9eQ0NtmL1Hu2lubiXxyi/g6adh+3ZIpW7IAH7q1Cl6enqsq+UCcrkcW7Zsoa+vz9p0dZnm8Gt1+3Z4+mmMN98kNTDEG7tayReKLJ1XxpJ55datZoypvFdFRGT2mNHh+3J7vvP5PO+88w4DAwPWpgu6nG1HNTc309raal09JZezLVPsTXPYbSyZW8YHlldRX0xS+Vd/jvv//nP467+m9I1vkP3//x+YXV1wkT2ZAwMDvPPOOxe8/XO5nOf+crYddTk935d73FpbW2lubraunrLLee4vZ1sus+f7ko9bqQTd3fDf/hv86Z/CX/81PPqnFP/468RaWlk9v5zl8ysueJLltTxuU3mvns/lHrdLfu4vc1sRkRvVjA7fl6tUKtHd3U02m7U2XdDlbDtqcHCQeDxuXT0ll7PtxQj63KyIOLi71MOcd7bg3v0eNDVhe2cnjhdfhN274SLvRzabpbu7+5JCGJf53F/OtlfC5R63eDzO4OCgdfWUXc5zfznbXq5LPm6xGOzaBc8/D++8M/za3fkOnldfYnnfSdbVeJhTGbjgcJNrfdwux+Uet0t+7i9zWxGRG5Utl8uZhmFgmiaGYVAoFHC73fj91+4KcAMDA2SzWQYGBjh+/DgbNmzA7XZbyy4on8+zZ88eli1bdtEzV1zOtqMOHjxIMBhkwYIF1qYLupxtGemJSyaTrFmzxtp0FntbO65nfk7Ft/5f7In3A4gRDpP83/930p/8JKW5cydscz7X+3F74oknKC8v58477xxbFwwGcblcE+omM53HbTKX89xfzrZc5nN/qds6OjrwP/sswW9+E/u48Jz3B9n36S9S/pUv4F++aMI2k7mWx+1ytmWGHTev13vR+xARudHMyPD9zjvv0N3dbV0tV4l/cJC5777L8iefxBWPD4+htdnIh0Ic//zn6bj1VtIVFdbNZq1f/OIX5HI5ampqxtYtXbqUsrKyCXVy7Z3vtXv4V3+NrjtuJ6swOG3q6uq4/fbbratFRGScGRm+8/n8Jf+EKhfPls/jOHkS52//NrbDhyGToeT2kFuyFMcT/4K5ZAnmJfSoXa+2bt1KJBJh9erVY+ucTid2+6wepXVdmuy1a3i85JevwP7P/4Rxg712rzWHw3FJve8iIjeSGRm+ZZqNzhbx9tvw1ltET7ZxJO1gX+ViVn3hk6xbv5CKiM+61ay1bds2ysvLWbt2rbVJZhrTxEgmSWzeSsu/vkihs5vaFQuZ/+lfwnHXXRAIDM+tKSIiMkMofMsw04R8HlpbSfQMcKg/z6vdBg6vl003N9C4uIqKsNe61ayk8H19yWQLvLX7NIe37qHeY3DLrctouHUtuN0K3iIiMuPod3QZZrOBxwPLlxP64B0suvcW1jc2MJTKs+dIN4dPDxBPXdpUZiJXSzZfpK03yVtH+xisbSByz51U33bT8GtZwVtERGag6yp8F4tFMpkM6XSafD6PYehy6FNhmibFYpFsNjvlCxZVl/m5/wMLuGl5DR19Sd5p7uRI6yD5QulGvO6OnMfoL2bZbHZa35eGYdI7mGZHUzvdg2nWLq1mzaIqvG6ntXTGGn1fptNpcrncJV/TQERErh+ORx555BujH/ijQ08cDseUplWbToZhcOLECd555x32799PPp8nHA7j9d4YQyEulWmaFAoFTp8+zb59++jo6GDBggXYLtAraLOB02lnUX2EZLbAqY4YbT1xAj4XNeV+HI7r6nvbRWltbcXn81FbW2ttkkkkEglaW1s5cOAA0WiUUCg0Le/LwXiW/cf72Lq3jWUN5Xxw/Tzm1oSwX+C1PZOcOHGC3bt309TURDQapa6uDqfTecH3p4iIXL+um/D94osvsnfvXrxeLytWrOCxxx7D4XBQWVlJIBCwlss4+Xye06dP8/Of/5yDBw/ykY98BLvdfsE/8DabDbfTTmXYh2GadPanONUVw+WwEw568F1HPYwXY/v27bS3t+N0OidMNyiTSyQSHDp0iJdeeomhoSEWLlxIefnVvZx7Jldkz9Ee3jnYhdNh56FNS1hQF8ZzgStZzhT5fJ733nuPzZs34/V6qa2tZdu2bXR2dlJdXU04HLZuIiIis8R1032ZSqUIh8OsXr2aefPm0d/fz8GDB+ns7LSWioXT6WTOnDljIfxiftq22WzMqQrwgVV13Lyshly+xI6mDnYf7qZ7MGUtnxV8Ph+RSIRQKGRtkkn4fD4CgQD5fJ6+vr4pD226VIZhcvBkP/uO91Iolrhr/TyWzC3D75lZHQbnYxgG8XicmpoalixZQl1dHYVCgW3bttHX12ctFxGRWeS6Cd+rVq3izjvvZOXKldjtdhwOB+l0Wpc1vgCbzYbb7WbBggVUV1dbm6fEZrMxvzbEHWvr2biilkQqz3uHuthzpIeugSSGMfUwfz2oqqpi6dKll3y1wxtNIBCgrq6O2tpaHI6r2/NcLBm09SbYeaiLwViW5fMruL1xDn6v87o6v9LhcDBv3jzuu+8+Vq9ejdPpxOFwEIvFKBQK1nIREZlFrnn4NgyDUqlEsVicsJRKpQknbq1du5bFixdjGAbRaJTW1laqq6tv6GEBpVJpSs/dlWCz2airDPDROxZy5/q5pHNFtu9vZ+vedqKJHMWSoRMx5aoqGSaxVJ5fvNfK6c4YC+rC3LVuLuUh73U1zhvA5XKN/Yrncrno7+/n5MmTrFixgkgkYi0XEZFZ5JqH76GhITo7O2lvb5+wdHR0MDg4aC3n5MmTPP744/zKr/wKH/3oR5k/f7615IZQKpXo7++no6PjrOeus7OTZDJp3eSK8Lqd3L9xPh+7YxHlYS9vH+jkiZcP0tGXoFDUVUnl6hmMZ9i+r519x3pZUBfmA6vqmFdz/Q8NOnHiBE1NTVRWVvKVr3yFhQsXWktERGQWueYnXB46dIimpiaOHj3KqVOnxpaOjg5KpdKEcH3w4EEOHDhAbW0t9957LwsWLMDj8UzY342iUCiwe/duDh06xPHjxyc8d11dXfj9/rOGmWzZsoXOzk4++9nP4nA4LnjC5WRsNhsu5/AJl+VBL6YJx9uinOmOY7fbCPrc+LzX94mYmu3k4g0MDHDgwAFKpRLr168/67V3uXqjafYe7WF7UwcVYR933zyP5fMr8Hmu79fa8ePHOXLkCA6HgwcffJAFCxbgdrsv6b0pIiLXh2ve811ZWcnChQtZunTphGXRokUT/oAfPnyY06dPEwgEuPXWW1myZAmZTIZEIjFhfzcKu91OXV0dixYtmvS5u9o/XUcCHpbPr+DOtfVsXFVLNJHl7QOdbN/fTkt7lGLpyg57kRvX6JSC+4734XLY2bR+Lssaygn53dbS60apVKKjo4MjR45gt9u56aabWLlyJYlEQvN9i4jMctfF5eWLxSL/+I//SE9PD0uWLBk7ES6VSrF06VJWrlxp3URGjM7zPTAwwF/+5V/S1NTEd77zHerq6vD5fJd9glyxZDCYyLJ9XzuHTg1QLBksqAuzcWUdDTUhQgE3zutsTnBdXv7ipNNp9u3bx49//GPy+Ty//uu/zsaNGy97ClDDNEllCuw50sO7h7tIpPLcunoO922cj9/ruq5OsLRKp9P8/Oc/Z//+/cybN481a9ZQKpXo6elh06ZNNDQ0YLdfX+8bERGZmms+7ORCTNMkm83y+OOP8+abb3Lw4EG2bNnCL37xCwYGBmhoaGDJkiXWzWSEaZrEYjF27drFu+++Szwep6qqiqqqKvx+P07n5f1sb7fbCHhdLJ9fjt/roi+a5vCpQY61DRLwuvB7nbhdDhx223XzU/qJEydwOp1UVVVd9peTG0FnZyd79+5lz549Y6+vmpqay5rr2zBNMtkiB08PsPm9VhKpPBtX1vKxO5bgdV9fM5tMJplM8p3vfIcDBw7Q1NTEtm3b2LZtG01NTdx66600NDRYNxERkVniuuj5Nk2ToaEh8vn8hADndDrx+/3TcjW965lhGOTzedLpNKVSCb/fj8fjueRx3+eSL5ToGUzT1NLLtr3tpLIFlswt47bGOaxdWk3Id30ME3jsscdIJpPcdttt3H777dZmsSiVSmSzWbLZLKZp4vP58Hg8l/XFLpbK0Xyin2e2teCwwab18/jgTfMIBzzXffBm5D052bSCNpuNcDh8w57LIiJyI7guwrdcP/LFErFkjvaeBPuO93KqM4bNbmNBbZi1S6pYtagKv9c5o6eGe+GFF/B6vdx0001UVlZam+Uq6xlMse94L281dVAoGtx9UwM3La+mpjyA3T5zXzciIiJTofAtV5wJFIol2roTHGsbpKV9iIFYBr/HxeK5ERbVR2ioDVMZ9uKYgePBNeb72mntjrPvWC+HTg+Qzha4a+1cbl5RQ1WZH4eCt4iIzAIK33JVpXNFTnYM0Xyin5b2KPFUnrpKP0vnlbNoToSqcj/lQQ9ut2PG9IYrfE8v0xz+stbVn+Sdg10cPTOI3WZjw4pa7r5pHgGf64oOjxIREbmWFL5lWmTzRTr6kmzf387R1kHiqTyRgIc1iyu5eUUtNeV+/F4XLqf9ms+OovA9fQzTJJcv0TOY4vkdJzjVEaOmws8da+vZtG6ehpmIiMiso/At08I0oWQY5AolegZSHDw1wIETfbR1J3A6bcyvC7NqYSWrF1ayYE4YxzWcZk3he/rEkjmaT/bzyjun6I2m+cCqOm5vrGdpQzlel2aaERGR2UfhW6ZdrlAikcrTH8vQ1Z/keFuUroEUhWIJv8dFRcTLwroIDbUh6quCREKeaR2SovB99RmmybEzUfYe6+FY6yCZfJHb1tSzdkkV9VVB/N6ZMdWpiIjIlabwLddMyTDJZAt09qfo6k/SNZCkZzBNNJHFbrNRFvJQGfFRFfFRGfFRHvZSEfYS9LlwOa9er6jC99WTL5YYjGc52jrIoVMD9EXTBLwuGpdWsX5pDRURL+6reGxFRESuNYVvmRFMIJbI0t6b5HRXjLbeONFEjnS2gA0IBz1URfzUVQaoKvMR9rvxeZx4PU58HicetwOXw3FF5oDWVINXXrFkEEvl6OpLcbw9yt6jPZjA/Now65dVs35ZDW7nlTl+IiIiM5nCt8w45khY6+hNcLIzxsmOIVq748STOQpFA5fLTlnAS21FgDnVAeqrgtSU+4kEPbicdux2Gw6bDbt9ZLHZsNltTDXX6SI7V4YJGIZJvlBiKJGl6UQfuw730N6boCLk4YM3NXDzihpqKy7vMvQiIiLXE4VvmZFMoFQyKJVMCiWDfLFEfzRDe2+C9t4Enf1JegZTZPMl7DZwOuz4vS6qynzUlPupKvNTGfFSGfZSEfYRCrhx2O1T6ll9/fXXCYfDrFu3Drf7+rgq50xUKBoMxrO8d6iLvcd66BlMEw64uWl5LXc01lMZ8eJxOzV/t4iI3FAUvuW6YJrDl69P5wpkskXSuSLpbIFYKsdgLMtgPEssNTxMJZMrUiqZOBw2PC4HbqcDt8tOwOcm5HcR9LsJ+twEfS4CPhcBrwv/yOL1ONj+5psa832JTCAaz3K6K8bxtiinu2JE41lCfjeL55axfEEF86qDVIR9OB1T+zIkIiIymyh8y3XLNIfnD0+m88TTeRLpPMl0gVS2QDKdJ50tkM4Oh/RsvohhMhwPTbDZwOl04HU78bodeNwOPG4nXpeDowd3U1VZwYqVa3C77HhcTjxuO26XA4/LidtlHwn0jhkxL/m1li+UiCVz9EbT9ETTdA+k6O5PEU/ncTvtNNSFWFAXYeGcMLUVATyaQlBERG5gCt8yK+ULJZKZAvFUnngqNxLM8yTSw8E8mcmTK5QoFA0KJYNi0aBYMiiVDDpONhGOlDN3wVLczuGA7XEPB3X/yAme3tHFPdyz7nQMh3CHw47DYcNpt+N02Ib/PfL/w+0j/7XbrsurNhqGSaFokM69/8UmmsjSPZCirSdBz2AKwzQJ+NzMqQywrKGclQsqiAQ9N/yXFBERERS+5UZlmJDLF0mM9pqPhfQCu999C9Pho6xm4VgvejZfpGSYw+8TE0zTxBzpSXc67Pg8LnwjwXx4ceH3Dv//6NCW4eEtw//2eZw4HcMnh9psNmw2sDHyX9u4dePW24f/Mfbvq2X0MRqGiWGaw/8d+f9svkg0nqW9N8GZnuHx9wOxDLlCCY/Lwbya0PDFkhZVMbc6iMupwC0iIjKewrfcsMyREG2MLKYxfPGXN9/cRllZOatWrxmryRcNMtkiqWyBdLZAKjM8vCWVGf53OlsgnSuSGekRzmQLZPJFTHM0TA+H59Fw7bAPj0f3jYZyjxOf14lv5P8DPteEnnafdzjQe1wOvB7n8KwuVyGBG4ZJKlsgkc4TS+YYSmYZGMrSH8vQG00zGMuQyhYoDY/hoabcz/zaMIvqIyyeW0ZZyIPH6cDpHP4V4MrfQxERkeubwreIxQ9/+EMKhQIf+MAHaGxshJErMpZKJiXDoFgyKZWGh6lM+H9j4vpiySCfL5HNF8nmi2RyRTL5Irl8iVy+RL5Yojhu2EuhZJAvlCgZJjbA4bDhsA8PURn9f7t9OLg77HZcTjtulx2X0zE2nGV0SMtwnR37SNgf/hIw/DjMkV7tUmn4NgvF4dvNFYbva3H0/hSHZ5kpFg2cTgcBr5Og300k6KG6zEdVmZ+Qf/jE1aDPTcDnwulU4BYRETkfhW8Ri6effhqbzcaGDRtYsGCBtXnKTBgJsSXyheElN/LvQmE42OZH/jsagPOj49BH1o39/0hIHg72w1MwGuZwSB+9rQk3DCNDVMats01oGjN6HqrNBthsuJ324R529/C4dr/XScA7PEtMyO8mFHATCXgIX8T0jSIiIjJM4VvE4lpfXt40TYolk1yhRC5fHPnvcM/0cJAfDe7DIX44lJfGettLhkFpZJz2+2PTR4wMf3HYh0/+dDnsOJ3Ds7eMnlTq9TgJeJ34RwJ30OfSyZIiIiJXiMK3zBrDQdOkWCxiGAZOpxOn0zmhvVAoUCqVsNlsuN1u7PazQ+W1Dt8iIiIye52dPESuU8VikcHBQXbv3s3WrVs5efLkhPZ0Os3Bgwd55ZVXePPNN0mlUhiGMaFGRERE5GpS+JZZwzAM4vE4+/fv59lnn6W5uXmsrVQq8fjjj/Pee+9RXl5OIpHgm9/8Ji0tLRP2ISIiInI1KXzLrOFwOAgEAkQiEfr7+xkcHISRHvFTp06xe/duUqkUy5YtY968ebzyyiscPXqUdDpt3ZWIiIjIVaHwLbOG0+mkvLychQsXEggExtYXCgUOHjxIJpMhEolQX1/P/PnzGRoaoq2tjVgsNmE/IiIiIleLwrfMeKMnUU62jJ4sfD6lUom2tjY8Hs9YKHc4HFRVVRGPxxkaGppQXywWyeVyZDKZsaVUKk2oEREREbkUCt8y42UyGdrb289aOjo6GBgYoFAoWDeZwDRNstksbrcbj8cDDF94JhAIUCwWz9r+1KlT7Nixg1deeWVs6evrm1AjIiIicikUvmXG6+/v5/XXXz9r2bp1KwcPHiSZTFo3mcBmsxEMBslms2QyGRh3cqbT6cTtdk+or6uro7GxkVtuuWVsKSsrm1AjIiIicikUvmXGCwQCLF269Kxl8eLF1NbWnhWerZxOJ4sXLyafz5NMJseGsUSjUSorK6moqJhQHwqFqKmpYe7cuWOL1+udUCMiIiJyKRS+ZcarrKzk7rvvPmvZtGkTq1atIhgMwshY7VgsRnd3N7FYjIGBAfr7+3E4HKxatYrKykpisRhHjx7l+PHj1NbWsnDhwrN6tSsqKgiHwxPWiYiIiFwJCt8ya2SzWdra2mhubiYej9PR0cGRI0cAmDdvHps2bQLg+eefZ+vWrXzuc59j1apVZ/WcNzY2smDBggnrRERERK4EXV5eZo3Ry8dns1lyuRxOpxO/34/b7cZms5FOp8lms5RKJex2Ox6PB5/Ph8PhsO5KRERE5KpQ+JYbyujr3GazYbfrhx8RERGZXkofckOx2Ww4HA4FbxEREbkmlEBERERERKaJwreIiIiIyDRR+BYRERERmSYK3yIiIiIi00ThW0RERERkmih8i4iIiIhME4VvEREREZFpovAtIiIiIjJNFL5FRERERKaJwreIiIiIyDRR+BYRERERmSYK3yIiIiIi00ThW0RERERkmih8i4iIiIhME4VvEREREZFpovAtIiIiIjJNbLlczjQMA9M0MQyDQqGA2+221omIiIiIyGWaNHyXdf4/1joREREREblM5wzf6YVfs9aKiIiIiMhl0JhvEREREZFpovAtIiIiIjJNFL5FRERERKaJwreIiIiIyDRR+BYRERERmSYK3yIiIiIi00ThW0RERERkmih8i4iIiIhME4VvEREREZFpovAtIiIiIjJNFL5FRERERKbJjArfma6T7DzcQ8baILPEMb777R/z52/2WxtEREREbggzKHzH2bFtJz/Z9hYvtVvbRERERESufzMnfA+dYP+QA68ry85DrdZWEREREZHrni2Xy5mGYWCaJoZhUCgUKOv8f0gv/Jq19qo6veXf+J9t9Xy1Mcp39/j46pfvYdVZXw0KdBw9QXvOstpTxboVVfhGhq409XlZuq6eSksZ2X6ajvVPPqxl3D4S7Qd5ramfuDvIqpUruG1ecKws03WSpniYdfUldr93hJasg5pFa/jwqnJc42us92Hktv3zV7K0bGx3FHpO8tqBNnrzEK5byYdvqiVkn9p9ZbLbSffQ1BJ9/3aGOtl5Jj5hc1+knlUNYVxjz2+clqZO0tVLWDdn9FHAQOsRWrLvPy8AFOK0HGhme3cB3EHWrb+JDdWOsW0mk+k8yEv7+ol7Swwc7yFe3cBqbwlCDdx3+2Jq3r/JYYkedu47zuFEiXDFQjZtXDChZurHII+vaiHr6r3vbwxAlo7Dp2kvhCc+d5fw2EREREQuhuORRx75hmmaAGMB3Jt4l0LZHdbaq6iV539xCvvKO/nkWgcn9h/ntGslt9RZg0+U7a/u4LnWAc709nK8u5dDZzrY3+/k1rX1BIDovu18e2+cBR9YxBzL1sRa+Mm2wzR193K8o4M9rd2c6B/gZHcvx6Nu1q+OcObV5/ibXb2UAgH8mW7e3HeI3Zk5bFrgH74H+7bz7b3HeetgG4PuAK50L3uPHmNrl4c7V1TiOtd9GDjM9zYfpK98LRtrhld1vPkcf7rjDElHkKAzw8mjh3nxWJ7GNfWE4xe6r7Xkz7qdLDtfepUfHu4kOXo7J97jb99q4VjvAKd6hp+zpmNHePnAINUrFjKctVt56pk97HXM5e6Rxwlw5M3X+PHp959b0sf47o+2srnPpCzgxhjq4PW9hzjjW8LGGufYduNljm7lz15todPup9KRoSeeI+twU+bN03qqhdcOxJi/fj7VtpH6g1v5k5eaOJRxUO2103n6CC/t78BTt5SFoeGaqR+DM+xrz7Ni/TzGfd+Btnf5m81H2NOeff+5u4THJiIiInKxzupbviaOn+ZAMcz6lWHwLmFjNbScODZJr+8gHQmoXH4vj37pYR790sM8XGetOY/Kdfynke0eva0WqOXh0X8/vI6all08fgo2ffRhfv8T9/Cbn/4VvnFrOb1H9rIzO24/RpgHf2245qu/9jD/aXWQbOfBixurnjrCiydzrLr1k/zRp+/hNx/8KF9/oIFQ4gRvnJzCfbXuD8gcfIufd5Wsq4Eg9zw4su2XHua///o6FuY7eXVv1Fp4Xi3vHqXdv5jf/eJDfPXBe/jqZz/OpytLHD54jIS1GIAeXnq3k2z1Oh757P385oPLmAeEG24efrwfX0xloY0XdyWHy41WnnqnE+o28o0vfJTffPB+fv9LH+YBb5Rn32xiYPyup3oMsq1sPz5+RYGdu1vPur8X/9hERERELt4MCN8Fdh7spFDewG1lAC5uW1OPq+80O4astVM1yPYXt/LPL27lnzfvZntLlIK1ZBJNx9rIhuazqeH9db7F9cw1+mk6Ma4wUM3ykV5YgLl3rWAVWY61XkSYDazkq196mK+u94JRIBFLkqgop5YSGeuwmqnInuQnO3sIN9SePdzGqjQc0MPB94fTTMXSez/Bo5+7jYV2KKSTJGJF6iq8UCxM8kUJiPVwKg2rlq95f9jKeHPWcFc5dHR3Dv/7+Gn2FINsunX5+/X2Kh5cVwXRNg7Exm07pWNQxYYG2HPwyPv3b6iZ7T1ellZPHIpy0Y9NRERE5BJc+/CdPcHuPpjbUA+x5HAIraxlqTPOm/t6rNUA1FRUWVedW7yT5954mf/2M0vP6VmitA8BiWP8xbd/zNdGlycP0mEttbJXMDcEJWN8r3MPP/vBz/iT0eXFE2fdfubUbr71gx/zte/+jP/rqZf5H88c5FJPNT28bRdN3sV88eaItQlIsvXFkfvxTz/maz86yEDDbXxx/cTB1gPHtrx/f3/wM37WPaEZjDg7X3yOP/zuj/nDH77I//3My/zTqfE/CVhkC2RxUTnZXQIgSNgHJBP0Ar29cSBAXa2lrLqCSgzS57mpyY+Bg9WNCwj1HB7rET+97zQdZQu5r9oylORiH5uIiIjIJbjm4Xtg3wlaDOhoeo0/efK54eVf93K4CIm205yeUJw4K8BOroJND97Dbz54D7/56U/wl/fWw8AxtrZZ68YLEvYC1Wv4+uc+waOW5TeWW+vHy5M9q2s9zPqbG3lwdFlZxbiOWsge4fubjxFv2MSjX/08f/mVh3n0SzexdHzNFBXa3uLJUy42ffA25k56RL3cdvdH+YNPfZQ/+Mz9fHV9PXTs5P/dMXG+7VDNkvfv782NrA9PaOb0tl/wk24vn/jUr/G3X/01/vuXHuY/L7+43vPzCQVdQImCYWnI58hbVp1tsmMAzFvFfeVZdja3QvYYr53IsnRl41m/DlztxyYiIiLCtQ/f/ew8GYf6jfzt//b5ictDiwmlLeN1oxmiBJl7MeO8AcJBwhSIp60N47mYV+aCaJTeUJBQZNwSCuIb30lsFCcOYxnq4VQWyoPju3h9LFu3kttGl8UR3ONaOdFJixFk3ZqG4dlNGO4pniw/nl+KzW+2wrLb+PS44TITOfEGRx9PLatuv4dfroPe1lZ6x1W5yxrev7/rVrLs/XMvgX4OdWahegGbxs0Aki6cZ4xMxEs5Bbr7z/Wo+ulOAKEQNYCvupwQUY6PH+IDnD7RQ8IeoK563MopHQOAMPfeXA9tx3jx3eMcdi/gwbXW6VUu4bGJiIiIXIJrG77bT7Az4WDDykm6lectZL2/xIETwwMxEu1HeOLdNgr+GlZbuy3PUiI9OoRloJPNb59gwFnLugXWuokWbljOXKOTx589SEceMAp0NG3lTx57gc2D4wpTwycGZgpAoo2nXzxCh6ueTausoe485pYzlyR7D7TSG0uS6DzJT55posVad0FJBrINfO7eemvDOEWyyZHnI5akt2U32/vAVVE16Ymbk6tiUYUDek+ypTNJIhal5Z3X+M6JcwVrwLucjbXQsvdNdg6VYLRH2wQo0btnL9sTDlYtXjS8ft56PlxdYs+br7G9pwCUGGh5iyePZ6lZuY4N41+tF3MMlq3kNm8/mw/HmbuskYVnveov4bGJiIiIXIKzYsh0OtzcSsJZy8Yl1haAWjYtDFJoO8bObD9vbtvLnkyYBx64jYXW0rP08/ToEJafbeW1dBWf/Ng9bLBO92xVto7/9NBK5sWa+JvvD4/F/pudgyy644M8UDGuLlBORedbfP2ffszXfrSd7ZkwD3x0E+sutP/xym7mczeXkzr1Fn/x5HP8yQt76Fm4mFV2aO8ZOQFxShysu+u2SeZEHy/L9s0jz8eTz/EXb5wgXb2O3/3QBb6NWKy6+zZu80R59rnn+JMnX+a7LT7uXxSERB/HJh0e7eK2j9zJbe4efvKTn/K17+7mMDBw+DW+9u2f8hfv9RNYchu/sWY0MHvZ9In7ebAixnPP/Iyvffun/Pkb7bDoTn7vg5Zx/hd1DGq5Z0UY7FVsuskylmbExT82ERERkYs3Yy6yM9MU0kmyJQ+h0MSe1N43n+Mv2ur5oy9spKaQJZEGb8Q7dnGXi2YUSCRyeEPBcRe9mdkK6SRZfIT81nnYz62QSJL1dPLk93fTu/rD/B83eSl6LcN5xitkSaSLkz4vV/wYjHMpj01ERERkqq6TuDf9XP7gWcH7LC4vocsNfXYXocjZAXMmc/mDFx1OXaEgoXGD3l3WcfRWLu/UnpcrcQzGuZTHJiIiIjJVF4o2IiIiIiJyhWjYycXKJ0nkzh6OIlNRIhPLUPRN7AW/aDoGIiIicp1Sz/fFck9hOIqcgwNf5DKDNzoGIiIicv1S+BYRERERmSYK3yIiIiIi00ThW0RERERkmih8i4iIiIhME4VvEREREZFpovAtIiIiIjJNFL5FRERERKaJwreIiIiIyDQ55xUuWf3frLUiIiIiInIZ1PMtIiIiIjJNFL5FRERERKaJwreIiIiIyDRR+BYRERERmSYK3yIiIiIi00ThW0RERERkmih8i4iIiIhME4VvEREREZFpovAtIteNUqlEJpMhn89bm0TkPAqFAolEAtM0rU0iMs0UvkXkupDNZnnjjTfo6emxNk3KNE06Ojp46623eOWVV3jyySc5dOgQ6XTaWioy6+XzeXp6eti1axexWMzaLCLTSOFbRGa8VCrF0aNHaWlpIZ/P43A4rCVniUaj7N+/n507dxKNRmlqamLbtm20tLRYS0VmPZvNRrFYZPfu3XR2dpLNZq0lIjJNZmT4NgyDUqmEYRjWprOYpkmpVDprmcq2M1U+n6dUKllXT9n45+RcTNOkUChQKBSsTRMYhkE+n6dQKJz358qp1o0a/Qm0r6+PRCJxwftxvTAMg0KhcEnDIkqlErlcjnQ6fd7n0TRNisUi2WyWXC435df6hd4bhmGQy+UoFovnvW3DMMZu+0KvsXw+PzZM5Fy3eyGmadLZ2clrr73GmjVrqK6unlL47u3tpbu7m2AwyK/8yq+wadMm9u/fz969e62lV8XocbrQ8zSZ0fdnNpulUChc8LkrFosUCoUp385knxGjx9b6WTp+Odfr4np6P+fz+fO+xicz+loePR7n23b0fTT6XjqfQqFAJpO54Pu4VCqRzWbJZrPn3efo5/Bk99Pv91NfX4/D4eD48eNT/gXpahj/3jjf4xaZrRyPPPLIN0bfoKMfvt7Eu1B9t7V22iQSCTKZDAAul8vaPGb0Q270j/v4xTAMnE4nNpvNutmMZhgGp06dwmaz4fF4sNsv/vtRPp8nmUySTqfx+/3WZhj5MO/q6iKbzRIKhazNY+LxOH19feRyOXw+3zlDTzabpauri1QqRSAQOGcdI4+xp6eHd999lxdffJF0Ok0kEiEcDltLrzupVIr+/n6i0SiRSOSijl8ikaCjo4PW1lZsNhterxen02kto1gsMjg4SGtrK6lUCq/Xi8vluuBrffR9ZZombrd7QlupVCKdTnPmzBlsNhsul2vSY2gYBqlUipMnTxKPx7Hb7Xi93klvu1gscubMGdra2shms/h8vrNudyqKxSJHjx7lhRde4Nd//depqKiY9PasKisrWb16NY2NjbhcLrLZLE1NTdTU1HDzzTdby6+4QqHA4OAgPT09uN1uPB7PlO43I+/hrq4u2tvbMQwDj8dzzs9C0zTp7+9ncHAQwzDw+XwXvJ1sNksikaBYLOJyubDb7RMCnvXzdHSx2WzY7fYJ+zcMg+7ubt577z1eeumlsffz+T5XrqXW1tbhv3Ne75Tfn/l8ns7OTjo7OykWi+c8HqN/k1pbWxkYGMAwDAKBwKTHwxwZFtXW1kYsFsPv9+N2uyetHX2/9/b24nA48Pv9k9ZlMhm6urro7u6mUCgQCoUmPEan08n8+fN59tlnsdlsrFy5csL20yWfz4+9N7xeLx6Px1oiMqvZcrmcaRjGWPAuFAqUdf4/sPq/WWuvOsMwGBwc5K/+6q+w2+188pOf5M4777SWjWltbeXxxx/n6aeftjZx8803841vfIM5c+ZMGmAY+fDr7u5mx44dfOADH6Curg6v12stu+o6OjrYs2cPb7/9Nk1NTXR0dPCHf/iHfOITnyAQCFjLz6tUKvEv//Iv7N27lxUrVvAf/sN/GGtrb2/nvffeY+fOnRw4cIBSqcSnPvUpfud3fmfCPtLpNIcOHeL73/8+Ho+HYDBINBolmUzy/7H339FxXOfh///eirroHSAAggAB9t5BUqRIiaKoLtuyreImyXZ+X0VxbEuJPo7sWEoUO3EcJ1Fsy5Jly1ax1UiKFHuvIkGAKCSIDhC97y4W23d/f3B3hF0A7ARF6nmdM+eQM3cGu3dndp+589x777nnHlasWEF0dDQA3d3dfPTRRxw9epTo6GgliLv77rtZtGjRsIC6s7OT9957j9OnT5Oamkpubi7Tpk1j3LhxSrDW1NREYWGh8jfOx+v1cvz4cSwWC1OnTiUhISG4yDXn9bVSvvrqq1RXV6PRaAgNDaWmpoZvfvObzJ07l5iYmODdFB6Phz/+8Y+UlJSgVqtJTk6msrKSjIwM1q1bx4IFC5Syu3btYv/+/XR1dREdHU1jYyN2u5077riDdevWkZSUFHBsfOdEf38/L7zwAuHh4axbt45FixaBL0A8cOAAu3btorOzk8zMTOrr64mMjGTp0qXcc889yvVTWlrKrl27qKioIDU1lba2NkwmEwUFBXzzm98kPT0djUaD1Wrl2LFjvP7668THxxMfH097ezter5d169axdOlSent7aWpqQqPRMG/evKBXHKi6uprjx4/T3t7ON7/5zWHn1Pl4vV68Xi9Wq5WXX36ZiIgIFi1adE2Db5fLxb59+/j444+x2+3Ex8fT2trK1KlTuf/++0lPTw/eRWE0Gtm9ezc7d+5UAvaqqipiY2NZu3Yt9913n1K2s7OTI0eO8Je//IXx48ejUqno7OxEr9fz+OOPk5eXN+L3mdls5sMPP2TLli3cf//9rFq1iujoaA4ePMgf//hHjh07FryL4jvf+Q733nsviYmJ4HsNf/3rXzlz5gxpaWnK9ZyRkXHJ313XSnt7OydPnuTgwYOcPHmS5uZmvv3tb/PlL3+ZyMjI4OIBurq62L9/P5s2bSIqKgqtVktTUxMxMTE88MAD3HrrrcpNakNDA9u3b+fo0aMkJiZiMpno6ekhLi6Op556iuzsbEJDQ7Hb7dTX1/Of//mfhIeHEx8fj8Vioa2tjbvvvpvly5cTHx+P1+ulp6eHV155haamJuLi4tBqtbS0tDB+/HgefvhhsrKyAOjv7+cvf/kLJSUlys1Uc3MzYWFh/M3f/A0zZswgNDQUr++Jx09/+lPy8vK49957L1gHV5PT6WTnzp3s2LEDl8tFXFwcZ8+eZe7cudx1112kpaUF7yLETekz0/Lt8Xjo7+/nd7/7HR9//DEajYbJkyczYcKE4KKKzs5Ojh8/Tl9fH/fddx/Tpk1TlpkzZzJlypRRW+UAysrKOHbsGHFxcWRlZREeHn7RLSFXU19fH4ODg+h0OkJCQti1axcLFy5k+vTpl9Qi4Ha72bJlC++//z41NTUkJiayYsUKZXt/fz/9/f3ExsbS29vL2bNnSU9PZ9myTz9rr9fLsWPHePfdd7FaraxYsYIZM2aQnJzMwMAAf/3rX5kyZQpxcXEYjUYOHz7Mq6++yrJly1iwYAGZmZnYbDbeeustJk2aRFxcHHq9HpfLRV9fH7/61a8wmUzMmDGDBQsWUFBQQHJyMmFhYajVahwOB3V1dbS1tREWFnbBAHzTpk309vaSmppKamrqiK1R15rJZGLjxo0cOHCA7OxsbrnlFsaNG4fRaOT48eMYDAZycnJGPA+tVisnTpzg3XffJSkpidWrV1NQUEBaWhp79+7F4/GQmZlJeHg47e3t/Pd//zeDg4MsXryYefPmMWHCBEpLS2loaECr1TJt2rSA43s8Hnp6evjd737Hli1b0Ol0AdfVvn372Lp1KxaLhTvuuIOpU6eSnp5OQ0MDp0+fJj4+ntTUVPr6+njvvfc4dOgQhYWFLFiwgLy8PLq6uigtLcVsNjNr1iz0ej3FxcVs376dnp4e7rrrLqZMmUJsbCwdHR3s3LmTFStWEB4eTl9fH42NjbS3t5/3Jrm4uJjTp08zbdo0cnJyLukzVqlU9PT0cPjwYfr7+5k3bx75+fmXdF1dqkOHDrFjxw6MRiP33HMPBQUFuN1uqquraWhoYNGiRahUqhHPh507d7J9+3ZsNhv3338/+fn5hIWFUVtbS0VFBdOmTcNgMGC329m+fTsbNmygoKCAxYsXk5+fj16vp7GxkcOHDzNnzhyioqIC/o7L5WLTpk389a9/paGhgSlTplBQUEBYWBgVFRUUFRUxffp0Fi1axOzZs5k5cyZ5eXlKPRYWFjJjxgxUKhW9vb3813/9FxaLhRkzZjB//nzy8/NJTk6+pFbla62/v5+BgQF0Oh0RERHs27ePKVOmMG/evAueBzt37mTnzp1oNBrWrVvH5MmT0Wq11NXVUVpayi233EJISAgmk4ldu3bx9ttvs3DhQhYsWMCkSZNwuVwcPXqUrq4uCgoKiI2Npb6+no0bN1JbW8utt97KnDlzSElJwWq18sEHHzB79mySk5Pp7e3l4MGDvPPOOyxbtozFixeTm5tLWFgY77//PpmZmSQlJeFyuSguLuY//uM/mD9/PkuXLmXy5MnExcWxZcsW1Go1SUlJJCcnK08uTp06hcPhIDIykpSUlOC3fc3s27ePXbt2Ybfbueuuu8jPz8fhcHDmzBna2tqYO3fuZ+a8EeJa+syc5d3d3ezatYuGhgblUfbFiI6OZs6cOXzrW98KWO666y6ioqJGvZDb2tooKSmhvr6eKVOmEBMTg1arxW63YzKZMBqNeHy5aF6vF7vdTnd393nz7S5XVFQU+fn5LFu2jOXLl19Wi9Hg4CAVFRXs3bsXm802YtAaHR3NpEmTWLlyJbNnzyYuLi64CGazmeLiYg4fPkxhYSErV66ksLCQ2267jeXLl1NdXc2xY8fo6uqioaGB3bt3Y7fbWb58OcuXL2fFihUsWbKE2tpaDh48SFtbG/gC1K1bt1JeXk52dja33XYbc+fOZdy4cURGRqLRaAgJCSEpKYmCggKldd5sNge/RADsdjs1NTUcOXIElUpFdna2kmJjsVgwGo0Bo1p4vV7MZjMmkwn/zeZo2tvbqauro7+//4JlPR4P3d3d/OlPf0Kv17Nw4UJWrFhBYWEh999/P1VVVRw5ckSph2A2m40TJ07Q3d1NXl4eK1euZO7cuaxbtw6dTkdLSwsdHR14fTmnAwMDjBs3juXLl1NYWMi6deuYOXMmra2tI7ZYdnZ2smfPHurq6tBqtcOuq+3bt1NXV8fEiRNZu3YtCxcuZO3atUydOpXu7m62bduGw5cja7FYiIyMZMWKFSxevJg1a9YogaS/lRegtraWqqoqcnNzWbp0KfPnz2flypXk5+dz9OhR5RH7uHHj0Gq1bN68mZaWFmX/YK2trTQ3N5OZmRkQoLtcLkwmE/39/QE5xm63m56eHmw2G2fPnuXkyZP09vYyb9484uLiLik3+lI5nU52795NbW0t06dPZ/Xq1SxevJi1a9cSHh7Ozp07qa6uHjUn2mg0olarKSgoYOXKlSxdupT777+f7OxsSktLKS0txW6309TUxNGjR2lsbOSBBx5g2bJlLF26lDVr1jBz5kw++ugjzpw5w8DAgHJsj8fD4cOHKS8vZ3BwcFhaSGxsLPPnz+eb3/xmwHfpvffeS1RUFKtXr2bKlCmEh4djNBrZtm0b5eXljB8/PuB6Pl/amcPhUD4z/2fgP7e7urqG5SkHs9lsnDp1ivb2dmwX2WHQYDCQl5fH0qVLWbly5SU9OXE6nURHR7N48WJWrlzJ8uXLWbNmDePGjeP48eN0dnYq55PVasXj8bB8+XKWLFnC6tWrlVbsjRs30tPTA77z+ejRo6Snp7NgwQIWLlzI0qVLKSws5JNPPqGjowOn00lPTw8nT57EYrEoQfXixYu55ZZbGBgYoKmpif7+fjy+PP2wsDAKCwu59dZbWbFiBWvWrCExMZHTp09z9uzZgPflb0ypq6sLWH+t+J8Obt++nebmZmbOnMmqVatYvHgx69atQ6PRsHv3bqqqqoJ3FeKmNHJkOsZMJhMnT55ky5YtLF26lIKCgosOQP2BelRUFBEREURFRRETE0NkZOSogTdAUVERjY2NJCQkkJaWhlarZWBggOrqavbu3cuuXbswm814fPnJR48e5eOPP6a5uXnUIOFyxcbGkpqaSlxc3Kg/WufjcDhoampi/fr16HQ6pk2bxvjx44OLER0dTVZW1nn/Tnd3t5JLvGDBAiWgjYiIID09nQkTJnD69Gk6OjpoaGigpKSExYsXK49EQ0NDSUlJYfr06Rw/fpympibcbjetra28+uqrTJw4kezsbCwWC9XV1Uo+sP8HNzw8nJkzZ2K1WqmoqBj1x8FkMrFp0yY8Hg8pKSnExsbidrvp6+ujqKiIXbt2UVZWhsvlwuPxUFVVxe7duzly5Ah9fX3Bhwtw5swZjh49Smtr63kDAYbk5h4+fJi8vDwyMzMBCA0NZcaMGURFRVFfX09lZWXwrjDkxs7j8TAwMKAMAeZ2uwkNDSUsLEzJv46Li+POO+9k4cKFSgChUqmUVmOTyRRwbKPRSElJCbt27WLlypVMnDgx4Lpyu91UVFQAkJeXp1wvOp2O7OxsEhISOH78OE6nk6ioKJYsWcLtt99OQkKCUjYuLo7Y2Fj6+vqUm1WXrzOozWbDaDTicrlQq9Xo9XoiIiKUOk1JSSE9PZ2WlhaOHTtGf3+/8tr8PB4PXV1ddHV1Bfxdm81GU1MT+/fvZ/v27bS1teF2uzEajZw4cYLNmzdz7Ngxtm/fzubNm3E6nWg0Gj755BPKyspGDX6vhNfrxWg0UlZWBsDs2bOVbdnZ2aSnp2MymTh06JDSpyXYlClTWLVqFXPnzlXWJSYmEh8fj8uX6+92u6mtraW5uVm5cfe34KalpTFlyhQsFgtVVVVKnfq/IzZs2EB0dDTz588fdvOdnZ3NihUrmDBhAtHR0UqucldXF8ePH2f58uXk5OTgdrtpaWnhtddeIz8/n6ysLCwWCzU1NTQ3Nwdcz0P5+wr4n7b09fXhdrvp7u7m2LFjbNy4kYaGhvMG1WazmR07dnDmzJlRb8yDRUdHk5qaSkJCAhqNZsQnDqOZOXMm69atY/bs2cq5FxoaisFgICQkBJev42ZERAQzZszggQceIDU1VenbYDAYlCdH/nPOM6RDptlsxm63o/L1sxiao+3xpYHiezpqsVjw+tKowsPDCQ0NRaPREBERweTJk3niiScYP3688t2uUqmIiooase9QTEwMAwMDNDc3B6y/VvxPtk+ePIlWq2X69OnKtpycHKWO9u3bF7CfEDer0aPTMeJ2uykuLmbfvn0kJiaydu3aS34M5nA46Ovr4+zZs/T29mK1Ws/bQu31ejlw4ABGo5GZM2cq6+vr63nvvfd4/vnnefrpp6mtrVW+7J999ln+8R//kZ07dyotGJ8FXl/e+uHDh9m9ezdf/vKXmT59+iX9wAw1MDCAxWJRfgyGHken05GQkIDJZMJqtdLX10d7ezsTJkwIeHwbEhJCTk4Ora2t9Pf3Mzg4SH19Pbt37yYlJYWamhpeeeUV/uu//os33niD2traYcHI7NmzaWtr4/jx4wHr/Xp7e3n77bcZP368kkNrtVopLi7m17/+Nd///vd55ZVXlBbw//3f/+WZZ57hf//3fykrK1MCxZF0dXUpnaAuxP8DNjg4SGpqqpLbrVKp0Gq1yuPk1tbW4F3B90M+e/Zsent72blzJ/v376e/v5/GxkZ6e3tJSUkhNzcXtVpNVFQUDz/8MCtXrlSebHi9Xjo7OwkJCQnIl3S73Zw4cYKDBw8SHx/P3XffHZAP7vV6sdlsDA4O4vF1Th4qIiKCkJAQuru78Xg8hIeHs2rVKr785S8THx+PWq3G6/XS39+PzWYjJydH+dHPyMggOjqaDRs2cODAAdrb26mqqqK5uZmFCxeSlJSkpI7Ex8czc+ZMtm3bNmId2e12ent7MZlMAYFJW1sb27Zt41/+5V/47ne/y4EDBzCZTJSWlvLss8/ygx/8gH/913/l7bffZtu2bbz++us888wz/OxnP+Pw4cPn/fwvl9vtprm5mb6+PiIiIgI+D41GQ2xsLJGRkZw5cwbHKKPhzJgxg7vuuovly5cr6/r6+jAajYSGhippNwMDA9jtdnQ6XcB70fj6G/j7adhsNjweD21tbbz11lvYbDYWLlwY8L3nl5KSwrRp0wKu+4aGBoqKisjOzmbSpEnExMQo1/OePXtIS0ujurqa3/72t/zyl7/kjTfeoK6ubsQA2h/8/+QnP+HJJ5+kvLwcs9nMgQMHePbZZ/n+97/Pli1b6OzsDN5VYbfbqa6uprOz86o3goxkwoQJLFy4kIKCAlwuF4ODg5w5c4bOzk6mTZvGhAkTCA0NJTQ0lLlz5/Lkk0+SlpaGTqfD6/VisVjo7e1lwoQJhIWFAZCQkEBubi6bN29m7969NDY20tTUxMmTJ5k7dy4ZGRmEhoYSFxfHxIkTqa6uZtOmTZSWltLT08PZs2cxm83k5eUpqXapqal86UtfIi0tTXki1N7eTk1NjfI6hwoPD8dsNo94zQ1l942+dDGLf+CDkbjdbs6ePUt/fz9RUVGkpqYq2/wNC2FhYZw+fTpgPyFuVtc9+D516hR79+5lcHCQv/3bvx32KPR8tFotVquV3bt389BDD3H33XezcuVKnn76afbs2RNcHHxBx8DAADU1NbhcLrKzs5Vt/g6Kzz33HAaDgZKSEt5//328Xi/PPvssr732GmvXrr0unfpGYzQa2b59O7t27eLFF18kOzt7WCB1KZKTk0lMTMRisVBSUhIQFLvdbgYGBoiNjQVfK5Tb7SY6OjqgJV2r1RITE0Nvby+Dg4OYTCZaWlpQqVQUFxfjdruZOXMmkyZNYu/evfzt3/4tW7duDWiNnDBhAr29vSOOyexwOOju7qa0tFR5YoDvB2XRokX8/Oc/5+6778ZisbB7927eeOMNli5dys9//nP+6Z/+iVmzZg1rCbpcVquV7u5upfUreDSPyMhI7Hb7qK3tYWFhzJ8/nyeffBKTycTf//3f89BDD/G3f/u33Hvvvdx9993DUkX8PB4PRqORoqIikpOTA/L7Kyoq2L17N06nk//v//v/lB9+P5VKRXh4OElJSZjN5mFPGBwOB16vl8TExFHrymKxUFlZidls5ktf+pLyN+bPn8+Xv/xlsrKyeOaZZ3jiiSf4t3/7N/r7+3n++ecDUqIMBgPjx4/nxIkT9Pb2Djn6OWazmcHBQeUJlz8oHDduHA899BD/8z//Q05ODnV1dWzatInq6mqeeuopXnvtNf793/+dV199lc2bN/Pmm2/y5ptvsmnTJr7zne8Mq4+rwesbdcRmsxESEjLs6V1ISAh6vZ729vbzNg4EKyoqoqWlhWnTpilPo5KTkwkPD6ejo4OOjo6A47l9KRDx8fGEhYXR1tbGgQMH2LNnDw8//DAzZswIOP5oPB4PZWVlHDp0iG9/+9vEx8eD76nT0OvZ4/Ewa9YsCgoK2LNnD0899RTbtm0b9nRhwoQJfOtb3+LFF18kLi6OiooK1q9fj8lk4gc/+AF//vOfue+++y658WUs9Pf388Ybb/C9732P1157jZSUFP75n//5vCPLWK1W6urqqKqq4qtf/aryvvLy8vj617/OwoULefnll3n88cd5/vnnKSoq4sUXXyQvLw98QfrKlSv5+7//e/bt28d3v/tdHn30UV555RV+9rOfKX0shmpvb+edd97h6aef5qc//SmPPfYY991337AnoaGhoTidzoC0pGAej4df/vKXPPHEExe1PPPMM7z33nvBhwHfOem/YQoJCVGeqPr5W/FHS88T4mYz8q/qGGlpaeG9997D6/XywAMPkJSUNGo6xEiSk5P5whe+wIsvvsgzzzzDCy+8wNq1a2lsbOQPf/gDp06dGvYD4PF1QBsYGECv1wcEAnq9nvj4eCZNmsSSJUvYu3cvp0+fJjY2liVLlrBgwQISExMDOny53W5OnTpFcXHxqEtZWRkNDQ3DXsuVcjqdrF+/ntraWlavXs306dMJH2UIqosVGxvLrFmzyM/P53//93/54IMP2L17Nxs2bOCtt96iqqqKpKQkDAaD8gh0pODM/xr8NzudnZ0YDAbuuusu7rjjDpYuXcodd9zB008/jdls5uDBgwGtHrGxscoTDXdQfq7NZqOnpwe73U50dLQSSKnVasLCwkhNTWX+/PlERESwZcsWurq6mDx5MkuWLGHSpEnDevf39PQEfF719fW0trZSXV2trKusrKSrqytgPz9/y6NaHTgEm593hEfwfk6nk7Nnz1JXV8eMGTP4whe+QEJCAlVVVbz//vt88sknIz5e93q99Pb28pvf/IawsDBuueUWZs6cidvtVn6AdTod99xzD0lJSaN+RnfccQcRERHK53vo0CE++OADPvzwQ2pqasjOzh7xmvR4PKxfv56WlhYlD9X/9KOtrY2GhgZiY2N58sknyczMpLm5mX379vHhhx9iHjLFtV6vJyYmhu7ubiwWy7AW6UHfmOfB6QJarZbo6GhycnJYuXIltbW1HDt2DI1Gw5IlS1iyZAm5ublkZGQwbtw40tLSSEtLY9y4ccTExIz4OeFLmamoqBh2DQdfz42NjSNezx7fyFEqX8e2kZzvfBjK4xt2dNeuXYSFhfHoo48q6XRTp05l3rx5OBwOXnjhBTZv3syuXbuUmwyn08m4ceNwu93s27eP/fv38+1vf5uJEyde9I3H6dOnaWxsJDk5mdmzZyv7mUymgOt5zZo1yvX81FNPYTQaOXjw4LBUK71eT2xsLBMnTuS2225TUoAiIyNZsmQJixcvJjk5eVhAeebMGaXuy8vLlf4m5eXlFBcXU1paSl1d3TVtCdfpdGRlZTF37lzS0tKoqqrizTffDMhdH8rj8bBv3z6KioqYP38+a9asURot+vr6OH36NFqtli996UvMmjWL7u5uDh8+zNtvv01LSwse35CejY2N1NbWsm7dOlatWoVOp+PEiRO88cYbnDlzZtgTw9DQULKyspg9ezY5OTns2LGDXbt2Dcv51mg0OH1jjI9GpVKxePFi7r333otabr/9dqZMmRJ8GIX/vB/t2lCpVBd9bQhxo7uuo5188MEHbNiwga6uLly+mbcOHz7Mnj17aG5upru7m5aWFrKzs0fMW9Pr9SQkJDB+/HhycnLIy8sjLS2N2tpaSktLyczMJC8vL+DL3OMbk3bz5s1kZmayevXqgB9ilUqFwzcG6ebNm5k2bRqFhYVkZWUpr2FoeafTyY4dO5T85ZGWzs5OXC4X6enpw35YhrLb7bS1tfHhhx+yZMkSZsyYEZDOMZTH46Guro433niD0tJS1Go11dXVHDlyhP3791NRUUFHRwe9vb1otVoiIyOVY3m9XkpKSpTh7IaOduLPIYyJiVGCPpfLhdFopKGhgbKyMr72ta8xZcoUZQi4ob3w8f04Hz58mKamJpYuXUpiYiIlJSV88sknfP/732fSpEkYDAaio6PJzMxky5Yt2O12MjIyyM/PB186h3+UgbVr1wYEgP7c/Pfff5/HH3+ccePGDfsMzWYzp0+fpqSkhHvuuYfp06cTFxc3LJUG35CVe/fuVT6v8vJy2tracPomDvGnoPjz2YeyWq00NTWxadMm7rnnHsaPHx/wmW3cuJHBwUEmT54ckAPs19PTw8svv4xKpWLp0qUsW7aMrKws0tPTOX36NEajkZiYGHJycpR9PB4PDQ0NbN26lerqapYtW8aSJUtIS0vDYrGwc+dO3n33Xfr6+rDb7QHXVWtrK93d3bS3t5Odna2MTOH2jfHs9E3sUlJSgtls5r777mPq1KnK0xSv14vJZOLjjz+mrKyMrKwsVq9erYyI4d9WXFzMmjVruP3228nMzCQ+Ph6r1conn3yi5JOHhYXhcrno7u7m7bffZu3atUycODHgOu/u7ubQoUMMDAzw0EMPKesZ8mPd39/Pvn37iIiI4NZbbyU/P19pSQv+rC/E4XCwY8cOampqhl3HI13PQ2/Evb6h4Xbv3k1cXBxLly4NaP0uLS2luLiY9PR0li9fPuwmcCh/q+n69evxer0sXryYpUuXKtdYeHg4ERERRERE0Osb39vty8WurKxEq9Xy6KOP0tHRwUcffcSRI0eIjY2loqKCo0ePsn//fsrLyzEajZw9exaDwUB8fLxynXk8HjZs2EBzczOFhYUBOc8dHR2UlJRQVFTE97//ffLz8zEYDMTExDBu3Di2bNmiBP8TJ04MeF8q3yyLJpOJbdu2kZ2dzbJly8jJyRn1M9u1axeVlZWc9d2klpaW4vV6GRwcpKuri7a2NhwOB6mpqaM+JcL3Xd3Z2cmGDRuYNm0a8+fPH/X7NZharcZgMCg3cj09PezZs4fU1FRSUlKUz8XrG8pv586dHD9+nIiICO68805lrHmLxcLhw4f54IMPuPXWW7ntttvIz88nISEBrVbL3r17SU1NJTk5maamJt555x3i4uKUvPPMzEyioqI4evQoKpWK5OTkgO8kjUZDVFQU6enppKWl0dTURGlpKXFxcRQUFCifYVdXF0eOHMHpdAYMXzmUSqUizjcS2Pjx4y+4ZGVlDWuc8vM3eu3YsYOMjAwWLVoUcG0UFRVRUVFBYmIid999d8C+QtyMht9+jqGBgQFyc3OVPMiSkhJKSkro6Oigq6uL2tpaysrKRu3A4/W1vPppNBqmTp1KQUEBWq1W6YQ1lMqXi+v/EhrtuC7f6A4Gg+G8veNVKhVhYWGEh4ePuoSGhqIfZfKEK2GxWEhNTSUxMZHu7m6l/urq6pQfpZKSkkvOjxw3bhx333033/nOd5g2bRqpqanKjce8efOYPn06ycnJRPsm0vBPPOHndDppb29XWshDfGOFW61WrEPy8dW+VILo6Gjlpmco1QgTeuDbb6Qf6aE8Q2bcTEtLO+9Nj1arDfi8QnwTaISEhCifbegoE96Eh4eTkpKCXq+np6cHi8WibPN4PPT19REaGqqMizyUP3B86623GDduHDNnzmTy5MmsWbOGp59+mrlz53L27NmAUUxcLhfV1dXKDdbixYu57bbbSE9Px2w2MzAwwMDAgNLCWVVVpZwXnZ2ddHV1UVNTQ0VFBTabjYyMDO655x4effRRpk6dSnJyMjqdjvDwcCZMmMCyZcuUunP7Jmbau3cv+/fvZ9y4ccoTF5PJxMDAAO3t7ZSUlNDV1cW6devIzs5m+fLlfOMb32DdunV0dnZy+PDhgBQTr9eLRqMZ9bMOvukO5k+z8D+5uhIq3+RGwdfw0CXMN1nQSK81OTkZg8GA1WoN6Bvi8XWotdlsZGVljRig+PlvHLdu3Up7ezvLly9n1apVhIaG0tbWhsvlQqVSMXXqVB577DG++MUvkpOTo3QoDAkJ4cEHHyQ9PR23201cXBx5eXlK4FriG+Wpv79fCc46OzuV70qv18vZs2eprKwkNDSUpUuXBry+UF9O+fmuZ3yNCSPxB6gW34Rc5xsDH9/fG/pdqtVq0ev1yrXp/zwudJ5cDrtvEjf/Zzt+/HiWLVvGnDlzsFgsHDlyRGmk8PjSwPbv38+BAwcI9/WTWLJkCYODg5h9M4CeOnWK8vJy1q1bx6RJk1iwYAEPP/wwX//61xkcHOTEiRPKjcb27dspLCykoKCAmTNnct999/Hkk0+Sk5PD8ePHqa6uDvi90mg0JCQkMHHiRObNm8eqVauora2luro64Dvae4GnM/jKNDc3U1VVdVGL/3dnJBqNhpSUFCIjI7FYLAFpeP5rw+FwDEuPEeJmNfqVNwYee+wxXnrpJf7nf/6HX/ziF8py6623UlhYyJNPPslPf/pTUlNT8Xg8mHxDVHl8j6a7u7vp6OgIeCxv903pGx4eTmpqakCLKb4f15iYGPR6PQ7fNLz4Akan04nFYlE6qkyYMIHOzk4aGxsDjjGUXq/nwQcf5Bvf+Maoy1e/+lVuueUWwkeZbfJiOZ1OTCaT8sU1depUnn32WX79618H1N83vvENli5dyu23387Pf/5zVqxYMWxkgwsJDw9nxowZrFu3junTp2M2m2lqauLJJ58kJSUFtW/s2PHjx1NWVobF1xPf4/FgNps5deoUEyZMIDExkaioKMaNG4daraalpSXgx8pqtWIymYiKigoIUP0/JBEREcMClZCQEOUH3mq14vRNv+10OgNa6a1WKxkZGRw9evS8uY15eXkBn9fKlSuZN28e69atU9bdd999Iz5SjYiIICMjg9TUVJqampTOYm7fyCvt7e3ExMSQlZWF1zeySW9vLxaLBbfbjcPhwOKbpdIf5PoDwNzcXKKiopSbT5dvEqIPPviAw4cPc8stt3DXXXcRExOjtHgajUYefPBBfvaznw27rm655RaWLl3Kk08+yY9+9COSk5OV/Pzp06dz5513Mm/ePKqqqtDr9axYsYL09HTUvtkPOzs72bt3L3/4wx+YPn06d9xxh5Kbf+rUKerq6pT89/CgMfMNBgNpaWmkpqZiGzJFtj9oiIiIUFo+hwr1zd7pv+b9+/hb6Lu7u6msrCQuLg63233FHbZCQkL44he/OOwaHrp85StfYfny5cPSN1S+kWfS0tKwWq3U1tYq2ywWC12+mWL94/cPvZ79729wcJCysjI++ugjDh06xCOPPKK00HZ2drJ161blXFar1cTFxbF8+XLuvPNOkpKSlKeIjz76KDExMSxZsoRnnnmG//u//ws4F772ta8xY8YMvvSlL/HCCy+wbNkypdXY7Xazbds21L70luTkZOV94Bs9xP+0qbm5edj1bDQaiY6ODrie/Z/Z4OAgnZ2dnDp1iszMTIxG47D+BsHuvvtupe4feughJk2axIoVK/jSl77EN77xDR555BFWrVp13kaSi+FyuTCbzcqTBK/XS2NjI5WVlfQPGXbU/z2j0WjQ+mZR9t9oHz9+nF/84hfExcVx++23M3PmTAYGBjh16hS1tbW0+2aejIiICLg+wsLClLQoj8eDzWbDbrdj881A7L8uNBoNBoOBqVOnotFocDgc2O12WltbKS4uxjRkxCP/TY6/sWnoNeRfH3wOD+X1etm0aRO/+c1vLmp54403OHLkSPBhwPe6/a3xA0FDHA4MDNDV1YXb7b6mk18J8VlyXYPviIgIYmNjiffNgudfwsLCCAsLIyoqitjYWDQaDfX19fz5z3/m1VdfZXBwEK/Xy7//+7/z7LPPsmXLFuWYp0+fpqamBoPBwIoVK5QfFD+1Wq38HZfvkbfbN0pBc3Mze/bs4ciRI9x3332sWLGCs2fPcubMmYBjXC+NjY288847vPzyy1gsFtS+ETCC689gMCitQvHx8SMGNRfD6+tA9tvf/paioiK+8IUvcNttt2HwdYrNz8+nsLCQ3bt3K0OMGY1GqqqqqKioYPny5UyYMIGEhARmzJjBtGnT2LNnj9KJ0mKx8Mknn9Da2kpeXl7ABDFdXV1ERkYO++HH90OVmJhIXFycEsiazWYaGhpoaWnhzTffRKvVcuedd5Kfn8+WLVtG7fB4pTQaDYmJidx3331UVFQoLVFms1kZ4m7q1KlMmTIFm29681/84hfs3LkTp2/656lTpyp5q34ej4fTp08TEhKijLTQ1tbGP//zP3P69Gnmz59PRkaG0qFr586dbNq0ifr6ekJDQ897XUVHRyvXlZ8/uP7Xf/1X6uvrWbFiRcDj6J6eHl5//XXeeustJXe+v7+fKt845u+88w7l5eXExsZiMBhoa2ujtLQUpy8v2mq10tHRQXNzc8AY8zZf/n5WVtaIaRjh4eHodDrcbrcSPHR2dtLU1MSJEyd48803WbZsGatXr8blco041vlY8d80LV68GL1er0yShO+xen19PZmZmSxbtozw8HAaGxt5++23+fWvf43Fl+++Z88efv/731NRUcF3v/tdvF4v9fX1nD59mgMHDvDKK68MO5c9Hg8VFRX8+te/ZmBggB/84AfKiBshISGjfkfo9XoiIyOJi4sj1NeZ1ePxMDg4yAcffEBGRgaFhYUBfwtfR8AZM2YwdepUZUxzhlzPbW1t5OXlMXXqVGWfFt806gcPHmT79u3cf//93HrrrXR3d1NeXj7k6NdPc3MzH3zwAb/4xS8wGo1YrVZ+85vf8P3vf59du3Ypn+XZs2cpKyujv7+flStXEhMTQ39/P5s2beLFF19k3rx5TJs2DafTSVVVFSdPnuTNN9/k+PHj6PV6kpKS6Onp4cSJE8qNi8M3znlVVRUTJkwgKyuLhIQEMjIylAmr8H0nW61WioqKyMrKIiMjg9raWn71q1/x+OOPU1FRgdf3RNhoNPLBBx8oIyYN/S10Op0XDL7VajXr1q3j29/+9kUtjz76qDJzbjCVSkVISIiS4njo0CGlPj/55BOampoYP348K1euDNpTiJvTdc35VvlmeQteduzYgdPpJD8/n9zcXABOnDjBRx99RH19vZIv2draSoVvVraGhgZ27NjBgQMHSElJ4YEHHmDSpElKy8RQal9+tP+RbGpqKh988AGvvvoqVVVVFBQUcMsttxAbG8vevXs5efIk/f39hIaGEuObjOdqGhwcZP/+/bz66qts2bKFU6dOYTabqa+vp6enR2lxPXnyJJs2beLUqVOsXLlSaREJrr8zZ87Q2NhIaGgoK1asUN5/d3c3R44c4Xe/+x1bt27l9OnTytODXt8skaG+KYh7enrYunUrr776Kjqdjttuu40VK1ZgMBiU44WFhRETE4PX62X//v0cO3aMPXv2UFJSwoMPPshtt92mPAoPDQ1l4sSJnDhxguLiYj755BMOHDjAli1bWLNmjZI64W8N2r59O06nk2nTpjFp0qQhtXXuvLFarVRVVZGYmEhqaio9PT28+eab/OpXvyI8PJz58+czZcoUXC4Xb775ppL/fDGPuU+dOkVfX5/y4xZ8/gTT6/Xk5uZy9uxZSktL2bdvn5Jjfe+997J69WoSEhKwWCzs27eP9957j9jYWKZOnarkvRcXF3P06FGOHz/OsWPHeOONNzCbzdx6662sWrUKl8vFH//4RzZt2kRZWRknTpxgy5YtfPjhh3z44Yfs2rULq9WqzHrpP++HLtu2bcPj8ZCfnx8w9FhzczNbt27ltddeU57kLFq0iKghsyOuX7+eDz74gKNHj1JeXs6OHTtYv349H374oZJ7Pm/ePCZPnkxSUhIDAwO89957nDp1imPHjrFhwwbKyspYvnw5d999t3JetLa2sm/fPlJSUli0aNGwkYS0Wi1FRUV0dXVx1113odPp2LlzJ6+//jq7du1i/PjxrFixguTkZGXkpK6uLuXGNPjmeywkJyfj9XqVEWf8w4CmpKTw8MMPK7OdlpSUKJPhrFixAqfTya9//Ws2bNhAXV0dhw4dYuPGjXz44YesX7+e/fv34/F4+MIXvqB0SK6vr+fNN99k/fr1FBQUcNdddzFt2rSAXObg80ClUlFZWUl5eTm5ublMnjxZeSrX09PD5s2b6ezsZPny5UoL61Aq301GXl4ex48f5+TJkxw9epQDBw6wdetW7rzzTlavXq1cz16vl/Xr1/P73/+ekpIS8vLyWLVqFTExMRw5coRjx47R29tLqC9lJfhJ11Amk4mDBw+SlZXFuHHjLqq12+rra/Db3/6Wjz/+mNLSUoxGI42NjbS1tTF16lTUvlkfN2/ezNGjR1m9ejXR0dFYrVaam5s5cOAANTU17N27l82bN2M2m/nCF77ArbfeisFg4MCBA/zlL39h3759nDlzhj179iif3UcffcSxY8eYMmUK06ZNIz09Ha1Wy3vvvUd5eTlFRUVs27aN7du3M3/+fKXvSGRkJLGxsezcuZPi4mJOnDjBnj17WL9+PXq9XumsGRERgVar5eTJk5w6dYqioiL27dvH+vXrUalUPPTQQyxZsiSgrvx9GuLj40e8wfKLjIwkISGBpKSkCy7+p5zB54ufSqUiJSUFh8NBRUWF0tC1e/dusrOzeeihh8jOzr7g960QNwOV3W73+h+xeXyP7mNa/wcm/7/gsmPmt7/9LVarFf8U2oCSr+h0OpXWV//kJV1dXUpLjtfrJSMjQ3lkPxp/pyOtVst3v/tdTp48yenTp4mMjGTq1Knk5eVhNpvZu3cvJpOJzMxMJkyYQFJS0lUPvh0Oh/J4c2BgQBkL1X9j4B+T19/h0Ww2s3bt2oDHkUMdOHCAkpISIiMj+drXvqast1gstLa2UlVVRZ9vSvsw3+ggQ1tHTCYT1b7JhqKjo8nPz2fixIkkDRkn2s9qtVJTU0NVVZXSyhkWFsaMGTMCcq39LWqHDx9WWu78j0Jnz55Neno6YWFheHwTUDz//PPKj/RIeYBGo5Fdu3Zx+PBh1q5dS0FBAaWlpVRWVjJ9+nQmT56spGN8/PHHpKamkpOTQ2ZmpjLqwGhqamowGo2kp6eT7JuS+UI8Hg/FxcU0NzcrOaJer5f58+eTlpZGSEgINpuNM2fOcOLECfLy8pg1axZhYWGYzWaOHTumDBnnT/NITk5m8uTJZGZmYrVaOX78ODU1NViG5JUPlZqayty5c8nMzAx4pO3361//GpfLxcKFC5VJXJxOJ4cOHeLkyZMYDAZyc3OZNm3asBsU//UxWk5naGgoixYtYvz48TidTqW/hv/m0OPxYDAYKCgoIDc3F51Oh9Pp5NixY7zyyis88sgjzJ49e9jfBfjNb37D8ePH+fGPf0xKSgpnzpxRctZnzJhBQUEBTqeT4uJiqqqqGDduHLm5uQEd4caS1+ulqamJ06dP09fXp3wW48ePZ/LkyUoLf0NDA6WlpVgsFu644w60vg53o6VhaLVa4uLiuOOOO4iKiqK5uVl5YhIbG8v06dPJyckJ6Mg2mv3797Nz507mzZvHsmXLlKdZLS0t/OlPfyIlJYWlS5cGdPQdyu12K9dzv28iH//1PGfOHNLS0pS69/o6eJ86dQqtb4KVSZMmYTabOXToEB0dHWRmZpKbm0tSUpLynTGSgYEBTpw4QVpampJDfCFOp5Pm5mYqKiqw+PKN/S3+SUlJSmfS5uZmysrKaG9v5+677yY6OpqOjg6lMSPEN1Skv9Fm8uTJpKWloVKpqK6upqysjJaWluA/r1iwYIEyAEBTUxPHjx/H6xstyuv1otPpKCgoIC8vj4iICJxOJ11dXUranHdInnZKSgqzZs0i1je5WG9vL0eOHKG/v19Jh/F6vSQkJDBt2jTlZtdv48aN+AcleOSRRwJe57Xk9T3JOXPmjPJavV4vEyZMYNKkSRd17gpxM/hMBt/+IDs9PT2gJ7fLN5vY0JYR/2u2Wq1KC8DFBEsDAwNKK8WqVavIz89XWoWGBtduXyekkYLc68HtduN2u8/7A9Xc3ExXVxc6nS7g0e/FMplMNDc309TUxPz584mJiRkxmBvK6xtSUKVSXfAH0W6343A4hpX1+tI1SnwjoxQWFjJv3rwR697tdmMymfjDH/5Aeno6CxcuJCMjA7vdjn5I5yuvL+/RHwReay6XC4fDgdvtJjIycsS/6XA40Gg0w96X1WpVOh7FxsYSGhp6wXq/FCUlJXg8HiVwwReYlJWVYTQamT17dkBr95Xw13u/b+r38PBwIiMjlffs9eXTFhUVUVtby7e+9a1Rz7P169dTVFTEunXrlBGAXL6ZS4deB/7vMfUIHTevB/93k81mI8zXKTDYxVzPo2ltbaWhoYHQ0FAmTZp0STcazc3NNDY2kpqaSkZGhvL3+/r6OHz4MJMmTbromxebb5Sc4Os5mP/mfOj3943w/er19bcwmUzo9XpCff0QrpTH10HTZrOh9w17O1rDzoCvI7XK12dp6JONoWy+mWVVKhWGIZNSBfv973+PyWRi9uzZwzrUjgWPr0O83W5XUsuE+Dz5TAbfY8WfY1dXV8edd9456o+/GBtOp5OWlhY2bNjArbfeSnZ29gVbQmprazl16hQGg4ElS5bIl/gNwmq1Kq39/uEoRwvATpw4QVFREXq9ngceeOC8AZ4Q4vy8Xi8vvfQSSUlJ3HHHHaQNmYlVCDE2PteRZmJiInPmzOGWW25hwDcMmLh+zGYzDoeDxx57jIKCggsG3vhmzSssLGTChAl0d3cHbxafUZ2dnWRnZ3PnnXeSkpIyauCN7zPOzs7mk08+GTYcpRDi4nm9XpxOJ319fYSHh0vgLcR18rkOvvENLZaSkqJ0NhTXT3R0tDLqxaU8gYiKiiIlJWXEsbTFZ5N/2MGLueYMBgMJCQmEhITQ1dUlN8lCXCar1crevXuZPHkyBQUFwZuFEGPk4iOcm5RKpUKn06HT6S4p4BNXn8Y3Qcil5mdrNBp0Ot2o+ZLis+dSrjm1Wk1mZiZ33HGH0kFPCHFp3G43RqORkpIS8vPzR+1MK4S49i78yyeEENdZTEwMc+fOJTo6GqfTKeknQlwiu92O2WxWhhr1T1QmhBh7EnwLIT7zNBoN0dHRLFmyhOjoaGWUDCHExfF4PMqcDcHj6QshxpYE30KIG4JarSY5OZnExMSLGgJPCPGpyMhIxo8ff9WHMBVCXDq5AoUQQgghhBgjEnwLIYQQQggxRiT4FkIIIYQQYoxI8C2EEEIIIcQYkeBbCCGEEEKIMSLBtxBCCCGEEGNEgm8hhBBCCCHGiATfQgghhBBCjBEJvoUQQgghhBgjEnwLIYQQQggxRiT4FkIIIYQQYoxI8C2EEEIIIcQYkeBbCCGEEEKIMSLBtxBCCCGEEGNEZbfbvR6PB6/Xi8fjwel0EtP6P8HlhBBCCCGu3OT/F7xGiM+VEYNvvV4fXE4IIYQQ4oqEN/xCgm/xuTdq8B0eHh5cVgghhBDi8p16QYJv8bknOd9CCCGEEEKMEQm+hRBCCCGEGCMSfAshhBBCCDFGJPgWQgghhBBijEjwLYQQQgghxBiR4FsIIYQQQogxIsG3EEIIIYQQY0SCbyGEEEKIz6GGhobgVeISXG793dDBt9vtxmazYbPZgjddMrfbjdVqxeFwBG+6JF6vF5fLhcViweVyBW/+XPN4PJhMJpxOZ/CmG5bNZsNisQSvvm6cTicmkwmPxxO8SQghbhrenlY8hzeeW6qKgjeLMeY5vBH3pt8GLPK5jO6GDr6LioqoqakJXn3JbDYbu3fvprOzM3jTJevs7GTXrl3Y7fbgTZ97Xq+X/v5+KioqaGlpCd58Q7JarZw9e5bi4uIrvnG7GpxOJ52dnZw4cYL+/v7gzUIIcUPzVBXh+O4cnD+6C9cbPz63/PIJnD+6C/em3wYXH3sOM2bz56/hzX10I+5NvwlYvNUSfI/mhgy+XS4XtbW11NTUYDQa0Wq1wUUu2sDAAGfOnKG6uhqHw4FGowkuctG6u7upqqqisbERtVqNWn1DVu81pdVqqaqqoqam5jPVYny51Go1ZrOZoqIiuru7r3urvkqlwuv1cuLECZqbm6/KUyEhhPgscP7yCVy/fCJ4Nfhawt2bfoPzR3fh7WkN3nxxmvbzpz//acRlU5k5uPSIOnf/Hy/+ehdX3pT3+WYu2xT0GazncG0vN8ttzQ0XHXq9XgYHB9m0aRMxMTFkZ2dfdvDt9XppbW1lx44dTJs2jcTExMsOvr1eL6dOnaKyspJ58+YRHh4+avDt8Xhwu90XlRrg9Xpxu93DFo/Hg9frDS7+mTP0vWo0GtLS0ggPD6etre2qPLW4FE6nE5fLddH1djF1Hx0dTUJCAi6Xi7KyMoxGY/BhrgmXy4XdbsdutwecR2FhYaSlpaHT6aitraWtrS1gv6vN4/Eon/FIy8Wc41ebP/UruG6EEDcuz+GNeH1pDKr4NDR3Pon+5SJ0P92I9unfopo4B5Qg/DJbwPtqKC+rpFPaLK47a2sF5WWNmPwrHI3s+v3PePHl/bReytd6135efvFl9ncFb7i+Ro4OP8M8Hg9ms5njx48THx9PWlpacJGL5nK56Ojo4OTJk0yaNIno6OjgIhfN4XBQX19PW1sbM2bMQK/XBxdR2Gw2+vv7GRgYOG9w4PV6cTqdDAwMDFssFssNEYAPDAxgNBqxWq3KusLCQmw2G9u2bQsoe621trbS3d193jr3u5S6T0tL49Zbb+X999+nqakp+FBXndvtpq+vj7q6OuUJgtvtVraHhoaybt06SktLKSq6to/9bDbbsPoJrquxPkedTifd3d00NDTcFE9XhBDgeuPH4Au8dT/diObOJ5Q8Y/XEOWgf+THqhXcB4DlyLhf88kQx9c6Hefirgcud0wzBBcU1l8Zi/2fw9ad47h8eIrNrE6+8WxlccHRuKwPmAayf/kR+JqjsdrvXH0h4PB6cTid6vZ7w8PDgsp8JnZ2dHDp0iMrKSu6//34mTpwYXOSiVVdXc+zYMTo7O/nmN7+JwXD5F9fx48c5efIkkZGRfOlLXwrerDAajbz11lscO3aMe++9l1WrVhEWFhZcDHzvdevWrfznf/5n8Cbi4uL4+c9/TkFBwaj7X08ej4e+vj7+7d/+DbVazbp16ygsLARf8PjOO+9QVVXF008/TVRU1KhPCa5EV1cX5eXl7N+/n9LSUpqamvjiF7/IE088QVRUVHDxAJdS916vl66uLv7hH/6Bhx9+mIULF16Tz8TpdHLq1CnWr19PT08PYWFh9Pf3U1dXxwMPPMBtt93G+PHjwXdj+dJLL5Gens6DDz54Ref2+Tz33HPs3r17xPQWrVZLZmYmv/71r0lISAjefNW5XC527tzJ9u3bcTqdxMfH09TUxLx587jrrruu6EZdCHGVnHoBJv+/4LXn5Tm8UQm+tU+fC7aBc536qo+je/pcS7e3pxXnj84F4KqJc5T1F+3k73n2rS5WPv1DbksJ3ghQwu+ffRtW3wNHNnHG7AJ1GJlrHue7y859v3Ru/Rm/KJ3J935wG0kA5nLW//49Dreea4DSGiZw+9cfZ6nv66jkD8/ytmUm8yzlHOuJOve3DZW89+s/cazLBWiJm7uSCfXbMN32El+fcW4/a+02/vT2PmrNLlBrSVv4dR6/ewKX+svT0NBAdnZ28OqLMrRDpfuNHw9L91EvvEu5IQKUz+1idG79Gb/YnchDL32dmUPWW4+8wk82aHnoha8zU33++i35w7O8fXrIzpMe4qXHZp53n0t1ufV39SOea6ynp4eioiImTJhwwQDqQhoaGmhqamLSpEnodLrgzZekvLwcq9U66ofgfxS+YcMGNm7cSE1NDf39/edthXU4HAwODqJWq7n33nv5yle+oiz3338/iYmJl51ycy15fR0rX3vtNfbu3UtjYyMDAwPKdo1GQ2xsLFqtltLS0muWJ+12u9Hr9UycOJG5c+diMpno6Og4b537XUrdq1QqQkJCSE1Npbm5mdbWy8w3vACz2cz//d//cfbsWQoKCrjjjjtYu3YtKSkpfPTRR+zbt0/p9KnVaklMTMRisVBbWxt8qKumtbWVcePG8eijj/LYY48py9y5czEYDFeUynWpDhw4wJ49e3A6naxbt45Vq1YxdepUysvL+ctf/iKjDwlxg/IM6binnjgHT1URnqoiJdjz/x9f0A1Az7VLuTtzoJyCx57jhRee5/FCA02b32X/iBmHnWz79Z8oibiN773wEi+98EPuyWhl0x/WE/CMtOkMHfkP8tQ/fIeVSb3s//3rHHNM5aEfvMAL//w97taWcKxnSPn2bfzfq4dxLnyCF/7lJV54YhGuI6/wyr7eIYWuPW91ES5fHn5w4I3vCYTrl0/g9t04XQ1h2VnEeVppbOKC9Tv1wed47puLiCOORd98jucenHrBfcaCp6ro+gffg4ODGI3GgMfDXq9XSVcIfmTd399PeXk5KSkpAa3zQ/cZ2grn8XiU4wcfq7W1VQkehgYILpcLk8lEf3+/Ehj6g+eenh7sdvuwY1VXVzM4OEhycnLAej+Hw8G+ffs4ffo0drudyMjI4CIjCgsLIy8vj0ceeYRvfetbyvLwww+TkpIyavBtt9sxmUwBw855vV5sNhs9PT0BaQpXW1dXF3v27KG2thaNRkNoaGhwEWJiYggJCeHkyZMXFXy7XC6qqqpobW1lcHAwePOIIiIiyMnJobCwkJUrV15y6+ul1L1Go2HcuHHKOXUteDweOjs7GTduHAsXLmT58uWsWrWK22+/nba2NsrKygJGOElOTmZwcJDq6uqA41xN06ZN4/777+fxxx9X6uerX/0qM2bMICcnhwceeOCaPAUYyp8itGPHDpqbm5kxYwarV69m8eLF3HnnnWg0Gnbv3k1VVVXwrkKIG4C399x3qj+w9gd8niPn8sA/DQDbUMVdRvNlgF52/fJZnn12yPLzbQEdKPPvfJxFGWFotWFMmD2VODppaR9SQBHH0iee44ePLSJJC2jjmDczE4y9BITJ+Wv57t0zSYs2oDVXUNysZea9DzEzXotWH0fBvSvJH1K8ct8+OlOW8tCtmWjVoM2+kwfnG2gtreDiuoVeHZo7n0Bz55PBqwOo4tPQPPLjS2r1vjAzvUYuWL/aCAMGw7nfnzCDAUOE9oL7jIme1usbfPf29lJSUsLu3bs5ceKE0kGrtraWvXv3cuDAAfr6+gKCR5PJRH19vRK8MWR4tSNHjrBjxw6qq6txu904HA4qKirYsWMHxcXFmExK6j4ej4euri66urpISEhQ0h6sVitNTU3s37+f7du3097ejtvtxmg0cuLECTZv3kxVVVVAAOh2u5WRJUbKG7dardTW1vL++++TlpbG7NmziYmJCS42IrVajV6vx2AwEBkZicFgICYmhqioKLRaLSqVKngXBgYGqKqqYs+ePezevZvBwUE8Hg/t7e0cOXKELVu20NLSck2GQzSZTJSWlrJlyxYKCwvJz88f8UYjIiICjUZDdXX1RbVI2u129u3bR0VFxUV3ajQYDKSmppKUlIROpxuxrs7nUupeo9GQkJBAR0cH3d3dAce5WsLCwrjnnntYsmQJKSnnnolqNBoyMzPR6/UMDg4G5NZHR0czODjI2bNnhxzl6rrttttYsGABERERytLZ2Ul7ezuRkZEUFhYq1+m14n/ScvLkSbRaLTNm+J7LAjk5OaSmptLX18e+ffsC9hNC3BjUeXPP/cPXmq1/uQj9y0Vo7nwS1cQ5yv+HBniqvMsN9uJY+fRLvPTSkMWfQuI37EG5C+vwzDtAS1iElTM7/8Sv/u1FXnzxRV78cIQnkeohB2xqpJUk0ke9h+ik6awLrb2WzUNGA9laawWrlU9/AcbG+QLwaxN4n6NTc/H1G+By9rnK4tOub/BdVFTEq6++yjPPPMMvf/lLjEYjAwMDvPbaazzzzDP853/+JyUlJcqjdIfDgdFopLOzk4iICKXl0Wg0cvjwYX75y1/y9NNP85e//AWj0Uh7ezv/+q//yg9+8ANee+01zpw5o/xtu91Ob28vJpMJg8GgBN9tbW1s3bqVF198ke985zscOnQIk8lESUkJzz77LD/4wQ/44IMPaG5uBt8Pv9VqpaurC4fDMSxX3uPx0NTUxPvvv4/H42HZsmVMnjw5oMxo/MPGud1uTCYTra2tdHZ2YrFYzjumdG1tLX/96195/vnn+cEPfkBjYyNms5mPP/6YZ599ln/6p39iz549V30caLfbTUlJCfv27SMmJoZ169aRmpoaXAwAvV6Px+Ohrq7uooJvl8tFfX09HR0dAQHmtXKpda9SqYiMjKSzs5OenqHPB6+eiIgIHnvsMW699ValXt1uNy0tLbhcLuLj40lMTFTKh4eHMzAwcM1a4gGmTp0akGrl8XjYtm0bLpeLlStXEhoaOupNj91uZ3Bw8KKW802A5XK5OHv2LP39/coNl59GoyEuLo6wsDBOnx6a/CeEuFH4A2n/xDqj8fa04jlybrv6soPvq6mTbf/1C9bXGlj21ad46v/3FE+tzgouNIIwtKOP2QAeCEuYQH5+vrLMXH4PD6ydyrXp3XN+IwXg1yzw7uvFRBpZmVxm/V7OPleXKj71+gbfhYWF/PSnP+Whhx7C4XCwf/9+/vznPzNjxgxeeuklXnjhBebOnau0nFmtVsxms5Jj608ViY2NZfXq1fzf//0fy5Yto7u7m+3bt7NlyxYefPBB/vu//5u/+7u/Cwh6zWYzVqsVtVodECBkZmby5S9/mf/+7/8mJyeH2tpaNm3aRF1dHX/7t3/La6+9xsMPP0xW1rkPy9+x0OFwoNVqh41ycvbsWfbv309xcTHf+c53LqmDqFqtxu12c+bMGb797W9z7733snr1ah599FE2bNgwavrFpEmTeOqpp/jhD39IeHg4J06c4P3330ev1/OP//iP/Pa3v2XNmjXExcUF73pFKisr2bNnDxaLhb/7u787byc/vV6PWq0OeLLxWXKpda9SqQgLC1OCxbFitVrZtm0beXl5zJ49OyDFIyQkBJfLhdk8Ng8i3W43ra2tFBcXEx0dzdKlS4OLKDweD//zP//DE088cVHLD3/4Q/76178GHwaGPMWy2+2EhIQMuwEODQ1Fo9Fc82EXhRDXhio+FVX8uaZg9+ZPZ05U5c1Bs+Bchz5vT6vSKRPOtS5ed+0llHTFMffee5iZYcAQ7U99OI/MLNJo9OU0jySJtBQwu8KYOnce84YuU9IuucPl5fBUFSmzWPoNDcBHCryvzqyXvezfWYIrYxZToi+zfi9nn2vgugbfYWFhpKSkMHv2bBITE9mwYQMdHR3k5uayZMkSpk2bRmRkpBIY2+12bDYbGo1m2CP/iIgI0tPTWbx4MXa7nT179mA2m5kzZw5LliwhNzc34Ed5cHAQp9M57FharZbo6GhycnJYsWIF1dXVHD9+HK1WS2FhIUuWLCEjI0O5IfB4PAz4hgxUq9UBx+rt7WXHjh2UlZXx9a9/nZycnEt6BB8bG8vKlSv5t3/7N5555hl+8pOf8JWvfEUJXI4fPx6QSuOn1+uJj49n8uTJLFiwgB07dlBZWUl8fDyFhYXMmzeP+Pj4gJxlp9NJeXk5xcXFoy5lZWU0NTUNyxd3u910dHTw7rvv4vV6ue+++0hOTj5vRzu1Wq3k6Y8WfNfV1Sl/u7S0lI6ODhobGzl16hTFxcWUlJRQW1t7TYLdy6l7rVaLzWYbtYXWaDQOq9Pg5fTp03R0dATvOqL29na2bNlCW1sbq1evZv78+cOuC5fLNeqTgiv5zEcyODjI+++/T1JSEtOnTz9vh2iVSsXChQu59957L2pZs2YNU6dODT6MwuMbsUmlUo04co7/SYYQ4sbjD+bwBdnuN36M648/Bl8nP/em356bXOcCo29cLKvZjNkYtIz8tX5+YWGE0suZkiZcHnD1VLJ+x7kn8M6Rf/YgegqzMlyUfLSeSjPgcdG0eRefPreHqfNnEla7jT8d6jw36YzHTOWHv+Bn79eOySQ03uoiZRbLofwBeHDgDVzmrJcurL7676w9xvqX/5tN7UmsvH8pcVxk/WpAi4nOLl/NXMw+15gqPg3Nj370ox/7f5S8vuEGNRrNFY/+cbFUKhUDAwPU1tayf/9+1q1bx8yZM0lMTESv1wcEEyaTifLyco4ePcq3vvWtYS2rKpVKCXDa2tpYt24dU6dOJTIycljOb3d3NwcPHmRwcHDY0ID+H2qj0ciePXuIjIzk1ltvZeLEiUormv9Y/lzqrVu3Mn78eJYvX64c5+jRo6xfv56SkhIiIyMpLS3lyJEj7Nu3jzNnztDf309jYyPx8fHExMQMC1b9NwLjx48nJyeHvLw8xo0bx8DAAB9//DGZmZlMmDBhxDxzlUqFw+Ggu7ubjz76iDlz5rB48WIyMzMJCQkZdqNgs9nYvn07tbW1nD17dsSlq6sLj8dDenp6QOBut9vZtWsX7777Lp2dnbhcLoqKijh8+DB79+6lubmZ7u5uWltbycrKIjQ0FLPZzKlTpzh27Bhf+9rXRswLP3jwIGVlZZw9e5aGhgZOnjyp3IB1d3fT0tKCzWYjKSmJiIiI4N0Vbrebrq4uPv74YzIyMli2bNmInUCHutS6958HO3fuJCsrSxlWcai2tjZ27tw5rF6HLv39/eh0ugsOi9fY2MihQ4c4duwYCxYs4NZbbyUjIyMg8Ozu7ubo0aMMDg7y4IMPBuzPFX7mwRwOB83Nzfz2t7+lsLCQRYsWnbdfg0qlIjY2lqysLMaPH3/BJSsrS8ndD+Z2u+np6WHnzp2kpaWxaNGigPOhqKiIiooKEhMTufvuuwP2FUKMsa59kLgseO0FnWv5Vp0L3qxmvM1VeEr34CndM3JAZzXjLd2LesYtqMJHfwoboKOEHeXNNBfvZ/+BwKWC6SzJNVOyoxymrWKWfyjCgVoOHqknwrfOUnuQwx0pLFoygYjQLMbpqzi8awfbduxg1ydNxEzNxNrcSljeMgpioP3kDsqZyqqZ/gOGkTUlA+MnW9i8dRs7du6iPDSFpJ4+Qvx/N2Eqc5J72P/he2zatoMdO/dTbp/MfV9cQsrFt++BbxCL831Xj8RbXaTUeXC6iXriHOUpxVD+VnL1xLnDAvORWGoPcrihlTO++j9c3oAjeSlfePwrLPCPnXAR9UtELK6qwxw8sIMdLQmsWrDgwvtcgsupP653y7ef1+tVhnZLTk4edXSE0Vq1hnK73cpoJCkpKaOWV19g+nd/vq/VaiUkJIT4+PjgIorg1nM/q9VKUlISmZmZ1NbWcvLkSUpKSmhqaqK3t1cJKM83+ojX61Va7NRqNePHj2fmzJlKfvFI4yv7eX2jQFgsFqKioi7YEhkWFkZ4ePioS1hY2LCbGHyBp8ViITc3l8jISKqqqigpKaGkpIT29na6urqora1VhmMc2tIdfMMxlD+FwP+3/Wk9oaGhyvqQkJBhr+dquZy6P995pdFohtVp8BIaGjpigOnn9Xqpq6vj0KFDnDp1ivHjx/OVr3yFzMxMBn0jBw0te77XcyWfebCenh6OHj2KWq0mPz+f9PT04CIBvL7ZZauqqi5qqauro6tr5CnKNBoNqampREZGYrFY6O39tM+6/8mUw+FQxkAXQtyYNHc+ge6nGz8dTtDHP+Pl0DGl8aei/PLJi28Bn/H1wI6WQ5Yf3p4EzOTrL3061jYAKbfxwyHrkm7/YUAHzbRl3+X5F17guX94nhde+CEP3/t1nnvpOe7xdZWZ+dhL58aeHiqigAd+8AIv/Og5nn/hJZ5/bOawXG7DtAf44Qsv8cJz58q88PcPMDW40BhwfHfORS2XKun2HwZ+Bv/8PN97bCUFQe/xQvULcSz97gu88NxzvPDIuXq+8D7X3nWdZMflcmGxWNi1axcbNmygtbWVVatW8YUvfGHE8bJ7e3t57733+OlPf8qRI0dIS0vDPWS6b4vFwptvvsn+/ftRqVSsXLmSr3zlKyO2ira2tvKzn/2MhoYGPvzwQ/C9Hn/Q3dHRwSuvvEJZWRmpqamsXbt2xFYzf2evJ554gqVLl/JP//RPyjabzYbNZhvWofDtt99mz549rFy5knXr1pGcnIxarVZadf2t4CaTCYvFQnh4uDIRjdPpZPv27Tz77LN84xvf4P777yczM1M5tn/YPofDQVlZGX/84x+pqalh9uzZ3HvvvSxcuHDIK7k6vL5Op3a7fdhNxIsvvojZbGb16tWsXr2aqKgoNBoN9fX1fPjhh7zzzjts2LBh1CEa/YxGIz/72c+YNGkSixcvJicnJ7jIqPyj3jz11FMsXLiQ5557LuBO1eVyKZ/V5da93W7n2LFj/PznP2fFihU8/fTTQ17B1eF2u+nu7uZPf/oTTU1NTJ8+na9+9auo1WpMJhMNDQ243W4WLFgAwMmTJ3nttdcYGBjg1VdfDT7cVeN2uzl69Cj/9V//xZo1a7jtttsuGHx7PB5+9atfcfLkyeBNI4qJiWH+/Pl8+ctfDt6E1+vFbrfz7W9/G6fTySOPPMKaNWvA97Ts5z//Ofv37+eHP/wha9euDd5dCDGWLmOSndH4g+qhLa3ncos/TYfwz4h547BS/sZ/c3jCw3x9YRpaTy+VH73O6ydieegfvs7MkdsmL9vlTBITXMeXQnPnk2jufCJ49Q3rcuqP693y3drayrvvvovZbObuu+9mxowZHDhwYNScV3+r59CA25+6UVtby2uvvUZaWhp33HEHiYmJ7Nq1a8TWSXwjQeh0OuVY+GY1bGpqoqioiHfeeYfly5ezevVqnE4nx48fDz4E+Fo6IyMjUavVymvyCwkJITo6mvj4+IAlMjKSkJAQDAYDcXFxhISE0NHRwebNm/mXf/kXZXjDv/71r/zN3/wNb775ppLX3NTURFlZGR7fyClDR7fw3wg0Nzezc+dOTpw4wX333cctt9xCfX39NRvv2d+CGhMTM+y9hoWFERoaSlRUlDKxjkqlwu124/V6lbq7ntrb26+47v0BYGho6CXl9V8st9tNZ2cnP/nJTzh+/DgTJkxg5syZVFdXU1VVxd69e9m6dWtAMOvv03Ctb6S7u7s5c+YMLS0trFy5UhkG8XzUajV33HEH3/72ty9qefTRR1m8eHHwYcB3/oWEhLB06VJUKhUHDx5UrulPPvmEpqYmxo8fz8qVK4N3FULcwFTxacNSHII7/t1YgTdAGAXL58Lul/l///gsz/6/n/F6WSi3feuRqx54Xy5V3hxfEH3py+UPAXlzua453/fccw9arZY5c+YwY8YMdDodf/3rX2lvb8dqtRIREUFsbKxSXqPR0NzczJ49e3jooYeIiori5MmT/OlPf+KPf/wjCQkJLFmyhAkTJtDT08MHH3ygpHT4x2n202q1FBUV0d3dzbp169DpdOzYsYPXX3+d3bt3Kz/WSUlJVFRUsHfvXrq6utBqtURFRQXkDOv1ejZv3kxycjILFy5UcmNVKtWIS0lJCXV1deTm5jJ58mT0ej3V1dVs3bqV7du3s3LlSuLj4+nv76e6upq9e/fS2trK3r17lVkMH3nkEebMmUN4eLiSEuDv8PbKK69QV1fH5MmTWbZsGTExMezcuZPy8nKMRiNhYWHExsaeN+XjUgW/R/+yc+dOHA4HEydOJC8vTynf3t5ObW0tdrudNWvWjJpq5Ge32zl48CCJiYmMGzcu4LwYjc1mo6ysjJdffpmPP/6Y4uJient7lRzy/Pz8q1b3TqeTyspKWltbyc/PZ9q0acEv54r09PSwe/dufve733Hq1ClKS0vZtm0bH374IR9++CHbtm2jv7+fiRMnMm/ePPB1WG1sbCQmJoZlyy49x/Ji7du3j6NHj7J48WIWL158wXx6v8jISBISEkhKSrrgkpiYSHR09KjnrEqlIjU1FafTSUVFBXv27OHIkSPs3r2b7OxsHnroIbKzs5XPSwhxnVxmzvelOJdTrEL75H8Eb7ohqKPHM2fZSlbdsoQFt9zBnSvnMT762jRSXU7Osio+DfXEOZe1BN8s3egup/643sG3yWRi8eLFTJkyhcTERGJiYkhMTGT69Onk5uaSnJwc0GqnVqtpb2+nuLiYFStWKC2pYWFhpKWlsXTpUnJzc4mLiyM6OpqMjAymT59OTk4O8fHxAS2SarWa06dP09/fz8KFC4mIiEClUmEwGMjNzWXRokVkZWUpLbY5OTlMmjSJrKwsYmJiAgJsjUbDgQMHiIuLY/LkySOmuQzV0dGB0+kkPz+f7OxstFotarWaqKgoJkyYwLx58zAYDBgMBtLT08nOzmbcuHFkZGQoLZ7z589X0iGGUqvVxMTEMH36dGbPnk1qaqryHgoKCpR83LFqca6vrycqKoq8vLyAVITGxkYaGxsxGAwsWrTogq3FarVa+WySkpIuOsDzer2EhISQk5PDwoULWbRoEZMnTyYrK0uZ2fRq1L3D4eDEiRM4nU4KCgqYMGFCwOu4Ul6vF61Wq3TmXLBgATNnzlSWefPmUVhYyNy5c5UUnvLycnp6ekhLS2PWrFnBh7wq/Ck9FouFe++9l8TExIs+r/w5/Bez6HS6UQNvv8jISGJjY0lJSSEhIYHk5GQmTpzIokWLmDp1KvqgYUCFENfBGATfKAH4DU6tI+T8X3tX7HICR/Gpy62/65rzbbfb0el0AT/WLpcL9Xk6iZWUlPDKK69wzz33MHfuXOLi4gJet79ly5+7PVpnSIAPP/yQ4uJi7rzzTmbOnIler8flcuHxeAJ+qP31ow4aIWSoX/7yl6jValatWnXBSXT8k8WkpKSQkZGhBPKjvQ9/bry/89todePncDhQq9UBo1O43W5UF9Fh9WorLS3F5XKRmpoaMPnJzp07+eSTTygoKLiolu9r7Urr3mQy8fLLLxMbG8vixYuvesv35XjjjTfo6elh1qxZAaPwXE0Oh4NTp05hNptZsmTJqPUzljweDw6HA7vdrqSXCSE+I65izrcQN6rr+kvpH/JuKH8r8Gji4uKYNWsWtbW1yjjLarV62KgXKpVKyS8eTWZmJunp6Zw+fVrpqOhvjRtKrVafN4gHmDx5MiEhITQ0NARvGmb8+PEsXLhQafX2G+196HQ6YmJiRqyvkej1+oDj4kvZuZh9r7ahLfB+/lx9h8PB9OnTPxPB0ZXWvcvlorm5mbS0tFFn9RxLXq+Xjo4OwsPDyc3NDd581ej1embOnMnSpUvPWz9jSe2bOCs6OvozcW4JIYQQQ302fi0vQWJiIosWLaK0tDRgSLHLMWHCBLKzszl27NioE6NcrFmzZqHX62UK64vgdrsxm824XC4mTJgw7EbhRuPxeLDb7XR1dZGYmEhCgn8Q0uvD6xtisq+vj9DQ0AuOPCKEEEKIsXPDBd8hISEkJycTGRmJyWRiYGAguMhFMxgMJCQkEBISQldX16gjo1yM2NhYpRNgZ2fnsCH3xKdKSkoICQkZdfSKG013dzfHjx/n1ltvvaiRPq41u93OgQMHyMvLY9KkScGbhRBCCHEd3XDBt9rX8e7ee+9VJum4XGq1mszMTNasWcPBgwfp7OwMLnLRtFotM2bMID8/nx07dmC324OLfO55vV5sNhtnzpwhIiKCOXNu/A4xTqeTzs5Ozpw5w9KlSy84Xvm15n+qUFJSQl5eXsAIM0IIIYS4/m644Btfnuns2bNJTk7G4/FccYv1nDlziIqKwul0XlH6SUZGhpL7PTg4OGxync87j8dDd3c3KSkp5OXlkZTknwPsxmWxWPB4PEyePJnx48df946jDocDo9FIXl4eOTk5l90TWwghrg0V8Ol8GEJ8Hl3X0U6uVG9vLy6Xi7CwsIAxvC+Vf+ZAjUZDRETEFQVQNpuNvr4+9Ho9UVFR0uFrCP8kQHFxcURGRl5w6LgbQW9vL1arlaSkpAt28B0LFouFjo4OUlNTL9hJVAghxlzDHyBuPkRJSpz4/Lqhg28hhBBC3EDM1dD0Dox7AKIKfC3hQny+SPAthBBCiLFjroaeQzDYLCko4nNJgm8hhBBCCCHGiCSECiGEEEIIMUYk+BZCCCGEEGKMSPAthBBCCCHEGJHgWwghhBBCiDEiwbcQQgghhBBjRIJvIYQQQgghxogE30IIIYQQQowRCb6FEEIIIYQYIxJ8CyGEEEIIMUYk+BZCCCGEEGKMSPAthBBCCCHEGJHgWwghhBBCiDGistvtXo/Hg9frxePx4HQ60ev1weWEEEIIIYQQV0havoUQQgghhBgjEnwLIYQQQggxRiT4FkIIIYQQYoxI8C2EEEIIIcQYkeBbCCGEEEKIMSLBtxBCCCGEEGNEgm8hhBBCCCHGiATfQgghhBBCjBEJvoUQQgghhBgjEnwLIYQQQggxRiT4FkIIIYQQYoxI8C2EEEIIIcQYkeBbCCGEEEKIMXKdg28nLWcqOdpoCt4AmKgpraS0zRm8QQghhBBCiBvSdQ6+jZwsKuad0vbgDUA7uw8Xs7HGGLxBCCGEEEKIG9J1Dr6FEEIIIYT4/FDZ7Xavx+PB6/Xi8XhwOp3o9frgctdIN5vf3M4Owxx+cdfEoG1VvPKbIjonr+a5pQm+FJVamkPTWJAVpZSyttZR2h1K7vQ04pW1bjprSjlQZcKEjtzp0ynMiFS2AvQ0VjK8UT0q6Dhgbq5kf2UHnQ4dGRMnsTw3Fp2y1URNaSs9Q8qjiyJ3QhrxQVXo7G/l6IlqamwQZhjHioU5JH16oCAjHNcvJIHp+QmEAda2OkpNUUxPc1N0rJIam4ak8VNYPWnoawQcJmpqW+kZmsETfJwuB2EJ2UxPCx1SCMBGy+kGmp1BdeM0UVNWzoF2J+gjmT5jJrMTNYG7CiGEEEKIAJof/ehHP/Z6vQBKAK7RjFUQNUh1WR11IWncnj805AXo4URRG5bECSzLCgf6OLDtIBv7oz4tO1jF6x8cY0+Tjay540kFwMaJjR/ycnk/7ogIwh39HCwt50BfFAtzYpSgtHL/dt4600VTVxfV7Z2cam7hZPBxNn/Ir060M6CJJFJl4nh5BXvqvRQUJBOlAmjkvQ9PsKe9h6bOTqrbO6luqmNH8RnaQnOYmaQFwFqxi598XEGDN5xYvZeOs2f4+GQXifnjSR0xAB/huO2dnGpq4WS3lvnT0ogA+koO8Jviag5VnKVXH4FusJPiM1XsbQthcX78uffaVsRLfz3CwZYe6jt8x2lu4WRX8HGaKGl2kD8jg5ihL+XsJ/zHjkpONA+pm8EqXnlzLzu6vMRE6PH0t7Cr+BRNYROY43vPQgghhBBiuOucdpJAigHobOO0J3jbhdg4sbOE067AtdaT+/lTaxi3rHuQv79rOV+7/y5+vCgBW20puzv8pbppNwMpM/nJYw/yk8ce5OmJgS3jVB/lnbMeJi2+m2fvX87X7rqTf1k3kai+Ct4+HthBNH7iLcpxfvKN+7g/1knpyQo6AWhl+8leoiYt5ydfXMnX1q7k7780nWxnB7vLBwKOEyzguI89yIMpwSUATxRrv3juvT7+xQd5anIkttYKPm4GGGDP/io6Y6fw/7726XGGvVc/WyMHqoeucHK0qBHz0FVAzSdnaA7P4TuP3Mnja5fz+JfWcX+8m9MVVcPKCiGEEEKIT13n4Btmz51IkqeVV/6wiVc27+X1zXt5ffMWXvp9CaeDCw9hPXOUd9vDmJ4WGEiebuqG2CxWnGu+BiBs6gIeX5THxJChJc+vtLoVp2EC90wZkoaROocVydDS0DB6kOlx4QIIj8AAQBp3f+VBnl2WBrixGgcwO6PIiACb3Ra896WLSGTiuT8EQPqSfCZho6qxD3Ay6AL0oRgu+EknMHscnKioxOpf1V/OgY5QchMDU1Fyb7mLnzy0gGw1OAcHMBtdpMSFgsv56b5CCCGEEGKYC4Zk11zqHJ59aCX3Z0Wis5lotwFEMn1GBunBZf08jbx3sJWI/EWsDsiR8LVoh4X6Al+/KHKnF5AbUBbiY+ICVyi6ae4HDAaSgraMj40cFmT2VO3h+T+8y/N/+AvPvLKRDdY0vnZrAWH+Ar1VvP7mX/jeb/7Cc+9u4d8/PMrRaxWlquNIN4Db4wZiWZAbBW1FvLixiAOllRwtraS03x68F6Bh8tQsDB2nfa3m0FDSQEtMNisSg1JJPCaObt7IM6+8xTN/3sy/friF1+qvwo2EEEIIIcRN7voH3wCGZApXnksRefb+5XxtbSFrZyfwabfKQA17TnBCl8VXCxMCOxYSSrgWOJfCfh4mOi3B64aKJip05OMMOocHrvHjF/D9e9fw/XvX8tStBUynldc3FvnSTjp4f1MRVeFTePYbX+YX33yQnzx2C8sjgo9ytTiwDelYGT//Tp6bl4CptYqNReVsLi5nV+coY6dnTGJFrI2j5Y1gq2J7rY3cgqkBHVABGvbt5J32UO6694v84vEv8i/nS2URQgghhBCKz0bwfSnMZ/hzNRTespjsYa8+kuwEHfR1UjM0h9zWyObNe9nja9HFOECPB9KTEoYUGkpHRlwodAXnondwosU5vEVcF4YhOhJDdCTpubP42uxkMLdyvAPoaOb0IIzPmzJkdJPAAPmKeFwEHKq/g3obxEZG+1aYKKvpxhk7hR9+/QI530Rxy6w0OFvF5k+qOa3PYu204B6h3ZxqtUFiFoVDRjcZ6aZECCGEEEIEGha+fuaZB7CMn83944I3nJM9eyLpjrO8u6fx3NB6jm4ObDnKjnaISwBnVyObd1fSok5gUlbw3p/Knj+RXE8rb2yooMVxbmi907s+4YAtklVzg4ZFdFoxGwfOLT2NbD7dDdooxicCiQlkaaHmTCktxgHMPa3s2HCIA1crS8PSyHtHWrE6AfNZ3t9cSYsujcJJ54Jma/EhNvRFsmr59GEt2CPKK2BBaDc7TptIz5s6wg1OAuPjNNBZx57WAczGPmqObOe3tVfrbkIIIYQQ4uY1LLT6zNOl8dCy80TNMdP57qqJhDce4sXX3uJ7v9/OxoFkvnTvcqaHQtmRQ+zoUjN98VIWBA9pPVT4FB6/s4AMYyn/8fu3+N5rm3ilHhbcspq1QzpzAvRUH+D5tzeeW949xAFXAnffUcgkNaDO4oFl44jqqeA/3t7I8+/u5Wj4BBYYoKer48o7KEbEEtd6iOdee4vvvXmAA9YoVq0pZHrouSEB/1TchyFvDmuTg3ccTTLL86NAnUDhzJETfyYtW8CCkD42bNzI829v4ZWaMFaOjwRzF1VX66ZCCCGEEOImdJ0n2bm2nIMD2AjDEH5l45Y7BwewuUMwGIJTMC6FG6vRCuGRhF3JYYbo3L+Rl86m8exX5pDktGEehNDo0KA8+GvnatWvEEIIIcTnxY3X8n0JdOGRVyUw1IVHXmHgDaAhLPrqBd7D6EIxjGHgzVWsXyGEEEKIz4ubOvgWQgghhBDis+SmTju56TkGMNuvNB1GCCGEEEKMFWn5vpHpr0Y6jBBCCCGEGCsSfAshhBBCCDFGJPgWQgghhBBijEjwLYQQQgghxBiR4FsIIYQQQogxIsG3EEIIIYQQY0SCbyGEEEIIIcaIBN9CCCGEEEKMEQm+hRBCCCGEGCOjznAZHh4eXFYIIYQQQghxBaTlWwghhBBCiDEiwbcQQgghhBBjRIJvIYQQQgghxogE30IIIYQQQowRCb6FEEIIIYQYIxJ8CyGEEEIIMUYk+BZCCCGEEGKMSPAthBBCCCHEGJHgWwghhBBCiDEiwbcQQgghhBBjRIJvIYQQQgghxogE30IIIYQQQowRCb6FEEIIIYQYIxJ8CyGEEEIIMUYk+BZCCCGEEGKMSPAthBBCCCHEGFHZ7Xavx+PB6/Xi8XhwOp3o9XrCw8ODy37m2Bxu7A4XLrcHFaDXawnVa9Bq5J5CCCFG4nC6sTncOF1uAPQ6DaF6LTqtfG8KIcRYuGGDb4/XS0lVJ8VnOmjqMKHTqJmWm8SCKakkx0egCt5BCCE+57xeL1VNfRyvbKeqqReAydkJzJ2cQk5aNCqVfHMKIcS1dkMG306Xh9KaLvYWn6W+tR+bw41KBZFhehZPS2P+lFQyk6OCdxNCiM+1U/U9HDjZTEV9N4M2FwARoTpmTkxi0bQ08jPjgncRQghxld2Qzxldbg9lNZ00thsxWRw4nG7sDjc9RiunGnpo6RwI3kUIIT73qpp6qW3pp99sx+F043C66TPbqDrbR11Lf3BxIYQQ18ANGXy7PV7aeyzY7OdabobqNdkwWRzBq4UQ4nOvu9/KwODw70eTxU6vyRa8WgghxDVwQwbfKhWEhWjRqIe/fL1Og043fL0QQnzehYzSIV2n1aDXaYJXCyGEuAaGfwvfALQaNZNzEoiODAnexPjUaFLjI4JXCyHE515uRizJccO/H9MSIhifGh28WgghxDVwQ3a49Hi9GAfsfHKqjZPVXbT3WNBq1OSNi2XRtDRy0qMJD9EF7yaEEJ9rJouD0tpOiio7aGwzAZCTHsO8SSlMHh+PIVwfvIsQQoir7IYMvgG8QGffIJ29g5gHHahVKhJjwkhJiCAiVAJvIYQI5gX6TDY6ei30me0AxEeFkhwfQXRkiAzRKoQQY+CGDb6FEEIIIYS40dyQOd9CCCGEEELciCT4FkIIIYQQYoxI8C2EEEIIIcQYkeD7M6C+vp6mpqbg1SJIZWUl7e3twavFCGpqamhubg5eLUbQ0NBAQ0ND8GoRpKqqitbW1uDVQgghLtF173DZ1taGxWIJWNff349WqyUyMjJg/cW4kn2NRiMajeay91Wr1RgMhuBNF1RSUoJOp2PKlCnBmy7IZDKhUqku6++aTOeGGouKigredEFmsxmv13vZ+3o8HqKjL21c4UOHDpGSkkJOTk7wpgvq6+tDr9cTETF8jOMLuZJ9+/v70el0l73v5Z7Lx48fJzIykoKCguBNF3S9roMr2fdKzuWysjK8Xi/Tp08P3nRB1+M66OvrIyQk5LK+o6/kXD569ChxcXHk5eUFrI+Pjyc2NjZgnRBCiNFd9+C7uLiYzs7OgHWNjY2EhoaSnJwcsP5iNDY2EhISQkpKSvCmC2pqakKv11/WvmfPnkWr1ZKamhq86YLOnj2LRqMhLS0teNMFNTc3o1KpSE9PD950QS0tLQCXtW9raysej4eMjIzgTRfU2tqK2+1m3LhxwZvOq66ujqioKBISEoI3XVBdXR0Gg4HExMTgTRdUX19PREQESUlJwZsuqKGhgbCwsMs+l6/XdaDT6S77XJbr4OJcj+ugvr6eyMjIq3od5OXlXdYNsRBCfF5d9+BbCCGEEEKIzwvJ+RZCCCGEEGKMSPAthBBCCCHEGJHgWwghhBBCiDEiwbcQQgghhBBjRILv68jfydXf4XU0Q8tdTPkb3aW8x0spe7O52POHIfV0seVvNv66upj3PbReP2+8Xu9F11XwOfV5rC8hhLgcMtrJdeJ0Ount7aW+vh69Xk9aWtqIw8I5nU76+/tpaWnB4XAAoNfrSU1NJT4+Hq1WG7zLDcvr9WKz2Thz5gyDg4MkJyeTmpo64rno8Xiw2WzU1tYyODhIXFwc48ePv6nq43zcbjcDAwPU1NTgcrlITU0lLS1t2Pv3eDzY7XbOnDmjnD9arZaYmBjGjRuHTqcLKH+z8Xg8WK1W2tra6OzsJDs7m9TUVFQqVXBR8JWvqqqiv78fg8FAVlbWZY13fiNyuVxYLBba2toYHBwkNTV11CEjHQ4HVVVV2Gw2PB4PKpWKkJAQJk2adNOfU0IIcaWk5fs6sNls1NfX88EHHxAeHo7RaOTkyZNUVFQEF8Vms1FZWUllZSX19fU0NzfT2dmJ2+2+YMvUjaa1tZU9e/bQ2dlJZGQkp06dYt++fdjt9oByXq8Xo9HI22+/rUwI09DQwNatW3E6nQFlb0Zer5fm5mbee+89vF4vKpWKiooKDhw4EFwUl8tFd3c3RUVFVFVV0dzcTEdHB4ODgzfd+TMSr9eL3W6nu7ubjz/+mJqamlHft8lkYuvWrTQ2NqLT6ejs7OSjjz5icHDwc9Gq6/F4GBgYoLq6mkOHDtHY2BhcRGG32zlw4ABnzpyhubmZtrY2jEbjqHUrhBDiUxJ8Xwc9PT1UVlbS0dGhzA7X3t7OsWPHgovicDiUcpmZmWRlZZGenk5kZCRq9c3z8bndbpqamjh8+DAJCQmkp6djtVqprq6mubk5IPixWq2cPXuW4uJiQkNDSU9Px+l0cvDgQYxGI263O+DYN5uBgQEaGhooLy8nLi6O9PR0+vr6KCoqYmBgIKCuXC4XAwMDyuRRWVlZZGRkEB8ff1OdP6Pxt8gmJiZy9uxZ+vr6RgwQPR4PPT09bNmyBa1WS1paGmq1mqqqKhoaGobdAN6M1Go1ISEh6PV6urq6MBqNwUUUHo8Hi8VCfHw8WVlZZGZmkpqa+rk4p4QQ4krJN+V10NnZSWNjI5mZmYSHh5ORkYFKpeL06dPDWrS9Xi8Oh4Ps7GyysrJIS0sjLS0Ng8GARqMJOO6NzGaz0dHRQUtLC7m5ucTGxhIdHY3b7aampiYgoDSbzTQ2NqLRaIiKiiI1NRWDwUBXVxft7e1KesXNqre3l7a2NvR6PbGxsaSnp6PX6+ns7KSrqyvg5sPtduNwOMjMzCQzM1NJb0pMTLypzp/RqNVqIiIiyMnJISQkJHizwuFw0NPTw5kzZ0hOTiYpKQmDwUBISAinTp3CarUG73LT0Wq1REVFkZ6eTmhoaPBmhf9pS3x8PGlpaUp6SkZGxufinBJCiCslwfdV5vV1WBpp8bNYLPT39xMbG4tGoyEiIgKtVovJZMJqtQ5rmfN6vdTV1bF3714+/vhjjhw5ouRa3iwGBgawWCyEhIQQEhKCWq0mLCwMtVpNV1dXQJ1YrVZ6enqIiYlR8kv1ej0RERF0dnbe9K2UAwMDmM1mYmJilJbG0NBQ9Ho9HR0dAcG3P+e5t7eX48ePs3nzZvbu3UtPT89Ndf5cKZvNRn9/v3L+aTQaQkJCCAsLo62t7XORznSxvF4vTqcTu91OWVkZH3/8Mdu3b6e+vh6XyxVcXAghRBAJvq8ip9OJ2Wyms7Nz2NLV1YXD4cA7ZCSF8PBw1Go1er0enU6H19fhcGhQFBISwoQJE5g+fTq33347OTk5lJeXs3nzZsxmc8Dfv5G5XC68Xm9Ai5ter0er1Q5ryfZ4PLhcLiU4B5RgyW633/RBpcvlwuPxEBYWpnQc1Ol0aLVa7HZ7wI2KTqcjMTGRadOmsXr1ambNmkVfXx+vv/46JpNpyFE/39xuN263O+Cc0mq16PX6z8U5dan0ej3Tp0/nlltuYeXKlej1el555RW6u7tv+rQvIYS4UhJ8X0UWi4WmpiZKSkqGLaWlpZjNZjweDxqNBq1Wq+Tn2u12HA4HarWa0NDQgLzJsLAw8vPziY+PJyYmhpSUFKKjo6moqMBmswX8/RuZTqdDrVYHtPw7HA5cLtewdAGNRoNer8disSg/9C6XC5vNNqz+bkY6nQ6NRhPQEdDhcOB0OgkNDQ0YySMkJISUlBTS0tKIi4sjIyODhIQEysvLb/onBJdCq9Wi0+kCzil/6+7n4Zy6FCqVirCwMAoKCkhKSiItLY2kpCT6+/vp6OiQ80oIIS5AflGuIp1Oh8FgICkpadiSkJCAXq9HpVIRGRlJbGwsvb29ypBxbrebmJgYQkNDcTgc2Gw2XC4XDoeD5uZm3G43arVaCRL8LcU3i4iICCIjI3G73VitVtxutxIIJScno1KpGBwcVIKhxMRE+vr6lHpwOBxYrVaSkpKGBes3G4PBQFRUFL29vXh8w4Ta7fYR68pms9HW1qYElDfr+XO5LBYLdrsdvV5PdHS08vTJ5XJht9sZHBxUcuo/7ywWCzabDbtv9BiHw4HH40Gn06HT6XA6ncNS7IQQQgwnwfdVFBERQVZWFrNmzRq2zJw5E4PBgFqtJiEhgaysLPr6+ujp6aGpqQm1Ws2kSZPQaDQ0NTVRW1tLd3c3ZrOZTz75hNraWjo6Ouju7sZqtZKfn39TBZnh4eFKC21dXR1tbW2YzWbCw8OZMGECarWayspK6urqUKlUZGZmotPp6O3tpbm5GbPZTGJiImlpaTdVvYwkNjaWtLQ0VCoVXV1dnD17FofDodzoGY1GKisraW1tZXBwkMrKSk6fPk1bW5tSrwUFBTd9PTFkPPjOzk5cLhdmsxmj0ajkJp86dYqGhgZcLheJiYnk5eXR2dlJc3Mz/f39qNVqCgoKztsB8WbhdrsZHBykr6+PwcFBzGaz8rTO4XBQWlpKY2OjMm56UVERzc3NtLa2YjQaiY+PJy4uTm5UhBDiAjQ/+tGPfuxvqfDnI2s0Gpko4RqKiIhAr9dTXl6ORqOhpqaGyMhICgsLiYyMZNu2bVRXV6PX64mPj6e6upq6ujpMJhPd3d04nU7WrVtHdHT0TfM4XKVSofdN7lRcXIzJZGJwcJCMjAzmzJmDWq3mz3/+M11dXUqQ7g8OamtrcTgczJo1i9zc3Jt+xAW9Xo9Go2FgYICenh7lXJkxYwbp6elUVFSwa9cuALKzs+nt7eXQoUPYbDba29uxWCysXr2a1NTUm76unE4nXV1dFBcXU1lZiV6vx2AwEB0dTWhoKK+//jpGo5HExERlqampUcZCj46OZvny5Z+LgNJms9Hc3MzJkydpbGxEq9USGxtLXFwcJpOJN954A6fTSW5uLna7nW3btuFyuWhtbcVkMjFjxgymTZv2uagrIYS4EjLD5XXiH3/Z45sdTqfTERoaikajwWQy4fF4lBEsBgcHlU6H/tQTf2fN0WbquxH5h8Xzd3BT+8YdDgsLA6C7uxutVktERISS8+xPn/DngYeEhNxUdTIal8uF1WpVWnD9nQP1ej0OhwOz2UxISAgRERHY7XYllUft6+AbEhKCTqe76evK6/Uq55XFYkGv1xMaGqr0Mejq6lK+7/yde/0pPPhSyT4vM1x6vV6l74TD4UCr1RIWFoZOp8PjGwc9JCQEg8GAyzcbptPpVK49jUYT0AlYCCHEyCT4vs78AdHQH6yhOZP+9f7PSKVS3TSt3aPxn4vB9eK/UQleh6+ePo8/+qO9/+C68gehKpXqpm/tvhTB9cSQ4ULx3eyKc0aqK5fLJeeUEEJcIgm+hRBCCCGEGCPSrCOEEEIIIcQYkeBbCCGEEEKIMSLBtxBCCCGEEGNEgm8hhBBCCCHGiATfQgghhBBCjBEJvoUQQgghhBgjEnwLIYQQQggxRiT4FkIIIYQQYoxI8C2EEEIIIcQYkeBbCCGEEEKIMSLBtxBCCCGEEGNEgm8hhBBCCCHGiATfQgghhBBCjBEJvoUQQgghhBgjEnwLIYQQQggxRiT4FkIIIYQQYoyo7Ha71+Px4PV68Xg8OJ1O9Hp9cDkhhBBCCCHEFZKWbyGEEEIIIcaIBN9CCCGEEEKMEQm+hRBCCCGEGCMSfAshhBBCCDFGJPgWQgghhBBijEjwLYQQQgghxBiR4FsIIYQQQogxIsG3EEIIIYQQY0SCbyGEEEIIIcaIBN9CCCGEEEKMEQm+hRBCCCGEGCMSfAshhBBCCDFGJPgWQgghhBBijEjwLYQQQgghxBiR4FsIIYQQQogxorLb7V6Px4PX68Xj8eB0OtHr9cHlrpmexkpqjIHrwqKTyUuLJUwXuP6G01vF5ooQFizNIj5428W6GscQQgghhBCfCdc9+D6x8S3+1K4hVK/GH2vbHE6c6Ji+aA1fmxoZtMeNo/PgRl4qV3P3Q3dyS3Tw1otzNY4hhBBCCCE+Gz4bwbd5Is9+ZQ5J/pWeAY5u2sw77RHc/YU7uSUmcJ8bhxunQ4PuiqrzahxDCCGEEEJ8Fmh+9KMf/djr9QIoAbhGowkud820VZVT6oincFoaEf6VKj0ZWVBb0kStKoPCzDDfBjedp4v56Fg1x8/2ERKZRGJEYNq6s6OOrUdKOVjZSJ05jIzkSEJUQwrYuik91URDRzctQ5ZeTzTJBg3gpOVMNactejJiQobsOJSJmtJ6mpV9zulprKSsA+ITwtEB1rYGSpqshCUbCA/Y/xxrWx0nWt3Eh5g5erCIXaebaXUZyE4Mw3/U4GNY2+o4UT/0mOdeb4NzyGvpb+VoVReq6FiitP6/dr66G/k9B/+t4P/Dp/VpDkkgLtS/0o219Swn6tsD6tgWUEYIIYQQ4vPns9vhUq9DB7g97nP/93Sz5933eOlAEz2As6uWV95/j1cqbMouLfs38syG45SaAKycLtrF828X0eJRioCxkY2Hi3m/qJzNxeVsLi7l/cPFbFQSz42cLCrmndL2ITsFa2d3wD7nNJYW805RI2bf/801FbxzuJLGgFKfMtdU8M6BXfz0L/s5agHnQDt7923h+Y1VWIeWGXKM4P/7X2/Aa2mp5J3DFZz0r7pg3Y38noP/VvD/4dP63N3iX2HjxMb3eG7TUdYXB9bxp2WEEEIIIT6fPrPBd88n1ZxGQ25Gwrn/Hz/Khr4o7v/qfXx37XIe/9KDPJWn4/SJkzQAWCrZXGdn0vy7efb+5Xxt7RqeWzUOg7mW3XVDDtxtpIdIlq99kJ889iA/eWwmuUM2jzlPFGu/+CB/f9dyHv/igzw1ORJbawUfNwcXvHwXrLurqeY477SqWbDyAf7lsc9IHQshhBBCfEZ8NoJvayvvbt7L65v38vrGTbz4+7/w4kkThvELuHs8QB9Ha0yQkkPhkPyN7MxEdIOdnOoAIgp4/LEHeXxGKHicmI0DmONiScaN1T7kb12s3upzr2fzXt7ZX8HpLl8L/NUWkchEw6f/TV+SzyRsVDX2DS11BS6i7q4mtxsnGsLCxy51SQghhBDiRvHZCL6H0kQyadJ0Hr/3QX5yWxbnsr376LQArUV87zdvfbrsPItzyK7W+iJe/sNbfO+Vd3nhvS38+4cVo6R8RJCSHLxudD1nK3jl/b/wq2OmwPVVe3j+D+8qy7vny1S5WOo40g1D0m2u2MXVHQDtJQHv55dVA8ElgA7eHVLm+c219AzdnJfNbJ2NPVs28c6RSo6WVnK0tJvAmhNCCCGE+Hz6bATfYWk8uHY5X/Mt9y8sYFLy0EG+Q4nSgyF3MT956K6gZQWrEwFbJb/fUYVpXCE/efzL/Ns3Rk536Oy3BK0ZRVye8nq++5Uv8niWhoZT5QFpGoakCaydNVVZZkQN2XjZHNiGRcVX4iLqzi8qI+D9rEwaaaD1KGYMKbO2IIEhDfegzuLhR5azQGviaFmpL+e7mc6hZYQQQgghPqc+G8H3BSWSZABzdy+O6EgMQxdDJDo1UNtKjSeS6VPGYfC/K5tzWOtuj8UKhmgygtZfSHxEGDicAS24+phxLJheoCx5Iw1pciEeV+Br7O+g3gaxkVdrUO+LqDu/8ISA9zN9xNFewsgbUmZBTjTDRkFsrOPkoIbZK74oOd9CCCGEEEPcIMG3jsLp4wjtr+SVXY30OAGnidP7t/CPf9jLaQeQHks6AxSXNdJpHMDcWsc7H5ZS4z+EZ4CG0gOsb3RjSMv4dEzx0bh9eePGATobi3m3egBdSip5weWulKWR9460YnUC5rO8v7mSFl0ahZNGanX2czPoe21moxWbB3Balddrtg9NWbmIuruaPK28f/gs7rSZPCARtxBCCCFEgBsk+AZyC/mHW8ZB/SFefO0tvvfaJl6pgcJbFjBJD8TM4qFZsVjqD/HS2xt5ftMJOrJzmKSG5o5W6DrDnw+fpS96Ik8su4iE745Snn97I8+/vZGXtlVjSpzOd9ZM9OWgX0URscS1HuK5197ie28e4IA1ilVrCpl+3vGwu3nf99qef/sAByzQU31Aeb3PH+sOLH6huruKWg4WccAWy123XoO6EkIIIYS4wV33GS4vh9M8gE0ThmGkETU8TsxmO6HBKRWfQZ37N/LS2bRzs3s6bZgHITQ6lPO1eV+p89adEEIIIYS4pj7j4enIdIbI0YNHtQ5D9Gc/8B5GF4rhGgfeXKjuhBBCCCHENXWjhahCCCGEEELcsG7ItJObhmMAsz0Eg+Fat3cLIYQQQojPAmn5vp70kRJ4CyGEEEJ8jkjwLYQQQgghxBiR4FsIIYQQQogxIsG3EEIIIYQQY0SCbyGEEEIIIcaIBN9CCCGEEEKMEQm+hRBCCCGEGCMSfAshhBBCCDFGJPgWQgghhBBijEjwLYQQQgghxBiR4FsIIYQQQogxorLb7V6Px4PX68Xj8eB0OtHr9YSHhweXFUIIIYQQQlwBafkWQgghhBBijEjwLYQQQgghxBiR4FsIIYQQQogxIsG3EEIIIYQQY0SCbyGEEEIIIcaIBN9CCCGEEEKMEQm+hRBCCCGEGCMSfAshhBBCCDFGJPgWQgghhBBijEjwLYQQQgghxBiR4FsIIYQQQogxIsG3EEIIIYQQY0SCbyGEEEIIIcaIBN9CCCGEEEKMEZXdbvd6PB68Xi8ejwen04leryc8PDy4rAjicrkYHBxkcHCQ6OhowsLCgouMyuVyYTKZ6O/vJzw8fNT9/Z9JT08PAJGRkRgMBlQqVXDRAA6HA4fDgUajISQkBLU68D7L6XRiMplQqVRERkai1+sDtvs5nU76+/txOByEhYURExMz7FgAXq8Xo9GI2WzG6/WSmJg44t8VQgghhPg8k+D7Mng8Hmpra6msrGRgYACNRoPb7SYrK4upU6cSFRUVvIvC6/XS2NhIeXk5XV1dhIaGYrfbMRgM5ObmMmPGDKVsZ2cn1dXVNDY24vV6GRwcRKVSkZaWxqJFi4iKikKj0QQcH8But1NcXExlZSXTpk1jypQphIaG4vF46O/vp7S0lK6uLrxeLy6XC5VKRUZGBrNmzSIiIgKVSoXFYqGqqoq6ujpsNht2ux2n00lkZCRLly4lOTmZkJAQPB4PFouF/fv309/fD773aLPZmDFjBnl5eURHRwe/RCGEEEKIzyXNj370ox97vV7wBU0ejweNRoNOpwsuK3xaWlrYunUrW7ZswWaz4Xa7OXz4MI2NjURERJCdnT1qy7TRaGTbtm28//77WCyW/3979x4cVX3/f/y5yd6ym8vmQhKSkHtIgiGSiIAGRFHQ1pSqVTt1Wp2p0zq9WKcd22mnOpZqay9Op7WtWiq2taKj8UJVBAWkUC4iJBIMhBACIQkhIfdkk+z9/P4h+yMBbFVI+i2vx8z5g93P2fPZwz+vfef9+Rzi4uJobm5m9+7dtLe3U15ejtVqxefzsWPHDqqqqmhoaMBms3H8+HG2b99OdXU1ycnJpKenn1GxDoVCNDQ0sHr1atasWUN6ejoFBQXY7Xb6+vrYs2cPzz33HK2trYRCITo6Oti9ezfV1dXk5eXhcrkwmUw0NTWxcuVK6urqCAQCDAwM8MEHH/DGG2+QkJDA9OnTiYuLw+12s3fvXlatWkVPTw92u52hoSHeffddjh8/Tnp6Oqmpqee8HyIiIiIXkykP34ZhMHb90wPaWDX+vy20GYbBSy+9xPbt28nLy+Phhx/miiuuICUlhV27dvGvf/2LyspKzGbzWef+3nvvsW7dOkwmE3/4wx+YO3cuixYt4vjx42zatIn8/HxSU1Pp7u7mxRdf5P3332fFihV87nOf44YbbiAyMpJ//etf7Nmzh2XLlo2rKhuGgdvtZuXKlaxbtw6r1Up5eTnFxcXY7XZ27tzJ6tWr6ejo4NFHH6WysjJcxf7Tn/6EyWQiMzMTi8XC1q1befTRR7n//vv50pe+xGc/+1kKCgrYvHkzNTU1FBcXk5+fz7Fjx/jd735HVFQUd911F7feeiulpaUUFRXxq1/9ipycHEpKSjCbzePug4iIiMjFaMobcnt6emhra6Orqyv8WjAY5OTJk+Hq7H8LwzAYHR1lx44d+P1+rrzyyvB7s2fPJisri/b2djZv3szIyMi4c8ecPHkSn89HYmJiuGXEbDYTFxdHXFwcg4ODhEIhYmNjmTNnDtdccw1JSUlERkZiMplIT08nJyeHgwcP4vV6x322z+fjj3/8IxEREcybN4/p06ePe7+pqYn6+nqWLl0a7hs3m82kpqZyzTXXUFNTQ3t7O1FRUeTl5bF8+XKysrKw2WwAxMbGMm/ePNrb2xkYGIBTLS4tLS3Ex8fjdDoBsNvtZGZmEhkZicfjwefzjZuHiIiIyMVqSsN3TU0Nf/7zn/nxj3/MU089xcjICH6/n+eee44f/vCHPPbYY+zbt++/JryFQiHa29vp7OzE4XCQnZ0dfs/hcJCUlITVamX//v3nnHNaWhoRERHU1NTw7rvvMjw8zNDQEH19fQCUlJRgs9lwOp1cffXV3HXXXSQnJ4crxz6fj0AgQFJS0rhqcnd3N2+++Satra2UlZVRXl4+7n2/3x9eEHl68DeZTERFRZGRkUFnZydutxubzcasWbO4//77mTlzZnghaDAYZHh4GJfLhd1uBwgH9T179rB79zVr0/QAABl3SURBVG46OjoYHh5m3759ZGRkkJaWdtaFpCIiIiIXoykN32OLDH0+H9XV1dTX17Njxw4GBwdJTk4mMzMTh8NxRvtGMBikra2Nt956i6effppnnnmGTZs2havGnOqtPt/BfaxH2u12ExUVRXx8fPg9k8mE0+nEZrPR0tJCIBAYd+6YgoICLr/8cqKiovj973/PE088wdNPP83Q0BDXX389GRkZmM1mzGYzaWlpFBYWEhUVhclkwuv10tbWRm9vL8uWLQtXmscWUb799tvMmzeP8vJyEhMTx13XZDJhtVqJiIjgxIkTZ8wvIiICs9lMREQEkZGRuFwu5syZg8vlIjIykkAgQE9PDx9++CHz5s0jLS0NgKSkJG655Raio6NZu3YtTzzxBM8//zzr16/nc5/7HLNnz1bLiYiIiMgpUxq+CwoKuOWWW7j++uux2Wxs2LCBbdu2MWvWLL72ta/xla98hdzc3DP6z/1+P3V1dRw6dIjGxkb27t3Lu+++y/r16/nggw+oq6tj3759HD58+IyQebrh4WE6Ozs/8ujt7cXj8cBpPdWBQACz2XzGYkez2UxkZCRDQ0PnbJdxOp1kZWWRnZ1Nb28v77zzDs8//zxHjhxhxowZBIPBiafAqWs3NDTQ2NhIbGxsOPB6PB7q6urYvn07sbGxLF26lIyMjImnYzabycrKIisrix07dvDhhx/S3NzM0aNHqa+v5/DhwyQmJp51lxvDMDh+/Dh79+7F6/WybNmycNXfbreTm5tLdnY2o6Oj7Nq1i9dee41NmzaRkJBAdHR0uKdfRERE5GI35QsuIyIiGB4eprW1lS1btlBQUMCiRYvIz88nOjr6jH2iDcPA5/OFFxzefPPNFBUV0dLSQlVVFZ2dnTQ1NdHV1UVpaSlpaWln3Y4P4OjRo9TU1NDa2nrOY3BwEJvNRlxcXLjivmXLFqZPn87VV18dbr8AqKuro7a2lvj4eK699tpwZfp0tbW1bNu2jUAgwH333UdCQgLd3d0cOHCAlpYWSkpKiI+PH1ctDgaDdHd3U1VVRUdHB0uWLOGzn/0sFouFlpYWXnvtNXbv3s03v/lN7HY7w8PD1NbWcuDAAVJSUkhJScHhcBATE4NhGLz11lt4vV7cbjdHjhxhy5YtbNiwgTlz5rBo0aJwVZtT97u/v5/NmzezZcsWKioquPnmm5k2bRqhUIjjx49TVVXF8PAwn//85ykrK6O7u5uGhgaamppIT09nxowZZ/xQEREREbkY/Vfs833gwAFWr17NX/7yF1555RVKS0vPGlzHjAXwYDCI1+vFMAzsdjvt7e0cPXoUq9VKZmYmKSkp4ZaNs9m0aRPr1q2b+PI4mZmZLFy4kPLycgKBAAcOHOC73/0uBQUFPPDAA+OqzH/729947rnnmDdvHt/73vfOaP0AuO+++xgdHeWuu+5i/vz5hEIh3G43q1ev5qWXXqKoqIhHHnmElJQUONXqMjAwwIoVKzCbzVx33XUsWbIkHGZXr17N3/72N2pqakhKSgp/16GhIQYHB3E6ncTGxrJixQpuvPFGgsEg9fX1VFdXY5x6GM7Jkyf52c9+xpNPPsnVV19NQkJCeL5er5eVK1dy8OBBLrvsMu644w5sNhsmk4n+/n42btzIt771LV555RXKy8uxWCwMDg5y8OBBvvOd7zB37lzuuuuucYtTRURERC5WUx6+DcNgw4YNPPfcc9TX13PvvfeybNkyUlNTJw4N8/l8vP/+++zevZvm5mZ8Ph8pKSncdtttJCUlhfe0rq2tZenSpef8Ln19ffT29k58eRybzYbL5SI6OjochO+55x4sFgv33nsvCxYsgFNPrHz88cepqqri29/+NsuXLycmJmbcZ/n9fu68805iY2P50Y9+FG7dCIVCbNq0ieeff5729nZWrVpFRkYGXq+XAwcO8Mwzz5Cens6iRYvCD8zp6OggIiKC0dFRuru76evrG1ct37p1K9u2baO8vJyFCxeG+7RNJhMejyfcH797927WrVvH0NAQK1asICcnB7PZTDAYpK+vjz/84Q+YTCbKysqYP38+ycnJtLe3EwgEGBoaYseOHfz85z/nrbfeori4GJPJRCgUYnBwkHvuuQen08ktt9xCZWXlaXdCRERE5OI0pT3fvb29bNu2jd7eXkpLSykpKWHXrl3jth2cyDAM/H4/J06cICcnhyVLljBv3jwMw+Cvf/0rr7zyCq+99hpbt24lJibmjLaV08XHx5OXl/eRR0ZGBtHR0XCqRSYmJoY5c+YAsGfPnnA/c2NjI21tbSQmJjJ//nzsdjudnZ1s3bo1/DAek8lEQkICPp+P5ubm8DzGArHf7ycnJweLxcLQ0BBbtmzhxRdfxGQyUVRUREJCAsPDwxw8eJC33nqL/fv3Ex0dzdy5c1myZAlXXXVV+Jg1axbTpk2jsLCQiooK0tLSwj3pTqeTadOm0dTURG1tLXa7na9//evhMR6Ph/379/Pb3/6W7u5uZsyYQUZGBoFAgNbWVjZu3EhNTQ1ut5u4uDgCgQBtbW243W449X8UDAYZGhrC5XKRlJQU/q4iIiIiF7Mp7fl+8sknOXz4MGlpaeFA+/bbbxMdHY3D4cBqtZ51m7pQKITH46GsrIyysjJycnJwOp20trYSCAQIBAK4XC4uv/zyfxvAP66xXUF6e3s5duwYQLhfvb+/n7lz53LDDTdgNps5cOAAr7/+Onv37uXKK6/E4XAwODhIT08PLS0t+Hw+Ojo62L9/PzU1NXi9Xm688UYKCwupr6/nxRdfZN26dTidTkZGRjh48CA1NTXs3LmTLVu2kJGRQV5eHomJiVgslnHHwYMHaWhooLCwkNLS0nD13+v10t7ezvbt29m+fTuGYVBRUcF1110X3s+7ubmZtWvX8tRTT2G1WgkEAhw7doyamhqqq6t5++23sdls5Ofnk5SURFNTEyMjIwwMDNDd3U1TUxPvvfcera2tLFq0iMsvvzz8A0ZERETkYjal4fv73/8++fn5zJ8/n6KiIhwOB++99x4ejwer1UpSUtK4/mNOVYnNZjMZGRnhQDn2UJeKigry8/MpLS2lvLwcl8t1XoP3mLHHure1tVFdXU1rayvt7e1cdtll3HrrreGgeeTIEerq6hgdHWXRokVER0eTkZGBx+OhtraWQ4cOceLECWpqavD5fFx55ZXcdNNN2Gw2du3aRV1dHQMDA/T393PkyBEaGxtpbGyktbUVYNzC1ImamppoaWmhoKCAwsJCbDYbhmHQ09PDli1bWL9+PTExMSxdupTrrrtu3H1qbGxk586d9PX1MTIyQmtra/jahw8fZnR0lEsvvZQ5c+aQlZVFTk4O27dvp7m5mba2NhobG6mpqeH6669nyZIlZ919RURERORiNKU93263G7vdHu5VHmspiYyMPOcOJf9NgsEgo6OjuN3ucQ+eOd3YwtCJFXyv10tXVxd9fX3hHxljlefzoba2ln379lFYWMjs2bOJiorC7/fT0NDAs88+y1e+8hXy8vLO2/9zKBSiq6uL/v7+8I8jq9V6zsWuIiIiIhejKQ3foVAIk8k0LqAZhvF/JrAZhjHurwVnm/fYmIkVeMMwCAQCBIPBcC/22c7/pDweDx6PB5vNhs1mIyIiAsMw8Hq99Pf343K5wg/dOV/Gvo/JZMJisZzX7yMiIiLyv2BKw7eIiIiIyMXk/JU9RURERETkIyl8i4iIiIhMEoVvEREREZFJovAtIiIiIjJJFL5FRERERCaJwreIiIiIyCRR+BYRERERmSQK3yIiIiIik0ThW0RERERkkih8i4iIiIhMEoVvEREREZFJovAtIiIiIjJJFL5FRERERCaJwreIiIiIyCRR+BYRERERmSQK3yIiIiIik0ThW0RERERkkpi8Xq8RCoUwDINQKITf78dqtU4cJyIiIiIin5Iq3yIiIiIik+SclW+HwzFxrIiIiIiIfAqqfIuIiIiITBKFbxERERGRSaLwLSIiIiIySRS+RUREREQmicK3iIiIiMgkUfgWEREREZkkCt8iIiIiIpNE4VtEREREZJIofIuIiIiITBKFbxERERGRSaLwLSIiIiIySRS+RUREREQmicK3iIiIiMgkMXm9XiMUCmEYBqFQCL/fj9VqxeFwTBz7P8/tdhMREUFUVBQmk2ni2/9WKBQiEAgQCATO+RmGYTA6OkogECA2Nnbi22F+vx+fz0coFMLpdBIRcfbfScFgEI/HQyAQICYm5pzjOHVtn89HT08PPT09OBwOkpKSiIuLmzhURERERC6Aizp8BwIBRkZGGBwcZHh4mJaWFpKTkykuLsZqtU4c/m91dXXR0dFBMBikuLgYm80Gp67jdrtxu90MDQ3R3d2NxWJhwYIF484fC8ednZ243W5GRkbw+/3ExMSQnJyMy+UKz8swDPr6+ujp6aGvrw+/3098fDzJycnExsaeMf9AIEB/fz9tbW00NzfT2tpKZmYmpaWl5OTkjBsrIiIiIhfGRR2+Ozo62L17N+vWrWPnzp0cO3aMr371qzzwwAO4XK6Jwz9SMBjk5Zdf5oUXXiA1NZWf/vSnJCcnw6lQ/s9//pNNmzaxa9cuhoaGWLJkCStXrhz3GR6Ph5aWFh599FHcbjfx8fH4fD5qamq48847ueWWW8jNzQXA6/WyevVq3nnnHQDi4+Opra3lzjvv5DOf+QxZWVnjPrurq4tXX32VtWvXUlBQwLx587j00kuZMWMGTqdz3FgRERERuTAiH3zwwZ8YhgGnqqmhUIjIyEgsFsvEsf9zRkZGCAaDZGZmcskll3Do0CFmzJjB4sWLiYqKmjj8I61fv541a9bQ1NREcnIy1157bTjU+nw+BgcHKSkpIS4ujtHRUex2OzfddFP4fMMwOHToEL/85S9xOBx84QtfoLKykvLycnJycnjhhReIj49nxowZ+Hw+du7cyTPPPMPixYu54447WLBgATNnzuTZZ58lLi6OGTNm4HA4MAyD3t5efv/739PS0sJNN91EZWUlRUVFTJs2Dbvd/pGtKiIiIiJy/kx56nK73fT29jI4OBh+LRQKMTAwQE9PD2M/DC6E6OhosrOzKSsro6Sk5CN7sM8lEAiwb98+qqur8Xq9Z1ScAaKiopg5cyZlZWUUFBSctarudrtpbGxk69atlJSUUFZWRlFREbNnz+aaa67BZDJx4MABjh49Snd3N2vXriUyMpJLLrmE0tJSiouLqaiowGKxsHfvXg4dOgSn5rdhwwba2trIzMykoqKC/Px8kpOTcTgcREZGTpyKiIiIiFwgUxq+Ozs72blzJ2+88Qbbt2/H7/cTDAapq6tj7dq1bNiwgc7OToLB4MRTzwuHw8G0adNITEzEYrGcdYHkR/H7/Zw8eZL169djGAaXXHJJuC3kdHa7nfT0dFwu1zn/ojA0NERrayvd3d3k5+eHA7rFYmHatGlkZWXR2dlJW1sbfX19bN26ldzcXFJSUjCbzZjNZlwuF4WFhbS1tXHo0CFCoRBDQ0OsWbMGh8NBdnY2PT091NTUcPDgQfr7+wmFQhOnIiIiIiIXyJSG7wMHDrBmzRp+/etf8+c//5m+vj76+vqoqqriN7/5DX//+99paGggEAhMPBWfz0d/fz8nT56kq6uLgYGBcSE9GAwyMjJywSrnYwse33vvPXbt2sWCBQuoqKj42AF+jNfrZWRkBOCMNhCTyURcXBx+v5/h4WGGh4dpbm4mJSVlXL92REQE6enpDA4O0tXVhc/no729nd27d2M2mxkYGODll19m1apVPP/889TU1NDX13fB7pGIiIiIjDel4fuKK67goYce4vbbb8fn87Fjxw5efPFFZs+ezSOPPMJPfvITLrvssjN27vD7/dTV1fHYY49x991387WvfY0nnniCzs7OcFDv7Oxk/fr1jI6Ojjv3fBkeHqa6uponnniCu++++6zz/DhcLhfTp08nGAxSX19Pf3//uPdHRkZwOp1YrVaGhobwer04nc5xlXSTyURMTAwjIyMMDQ0xOjrKsWPHCAQCNDY20tfXF25Pqa+v5+GHH+bvf/87Pp9v3LVERERE5MKY0vBtt9tJSkri0ksvJTk5mTfeeIOuri7y8vKYP38+s2bNwuFwnFFN9vv91NfXU1FRwfe+9z2++MUvMjw8zCOPPMLTTz/Ns88+y9tvv010dPQZ554PgUCAbdu2sXnzZiorK5kzZ86n3is7OjqaoqIirrvuOtasWUNVVRUbN27knXfeYdWqVezdu5eoqCiSkpLgVOU9IiLijO839m/DMPB6vbS2tmK1Wrn66qtZvnw5CxcuZPHixXzjG98gLi6OPXv2UF1dPe4zREREROTCmNLwzWmtEgkJCezZs4ecnBzS0tKIj48/58NlIiMjycnJoaysjAULFrBo0SIWLVpEeno6Xq8Xr9dLXFwceXl55+yx/jROnDjBzp072bx5M8eOHaOqqoqVK1eyZs0a9u7dS319PX/961/Ztm0b3d3dE08/K4vFQm5uLl/96leZNWsWfX19HD58mLa2Njo6OnC73WRnZ5OTk4PNZsNiseD1ese12hiGgcfjwWq1EhUVRSgUwuv1YhgGWVlZzJw5k+nTp5Oenk5FRQVZWVn09/fT0NAwbi4iIiIicmGcmWynQEREBKFQiMHBQTIyMv7tvtMWi4WZM2eGFw8ePXqU9PR0vvzlL7Nw4UKuuOIKLr/8csxm88RTz4vBwUHMZjOxsbEcPXqUzZs3884777Br1y6OHj1KW1sbmzdvpqGhAbfbPfH0c0pKSqKyspJ77rmHuXPnkpSUFL4XM2fOpLS0lBkzZhAdHU1CQgJ9fX14PJ7w+YZh0NPTQ3R0NC6XKzxHv9+P1+sd1ztvs9nCC0CHh4fDr4uIiIjIhTOl4dswDPx+Py0tLbS3t5Odnc3+/fvP6HeeyOfzsX37dlatWsUvfvELVqxYwaOPPkpnZyd5eXkUFBTg8XjYuHHjuHD6SRmGQTAYxO/3YxgGM2fO5L777uOFF15g5cqV4eMHP/gBy5YtY+HChTz22GPcfvvtZGRkTPy4jxQZGUlJSQnLly/nhhtuIDo6mrVr17J8+XKKi4sxm81ER0dzySWX0NbWxsDAQPjcYDBIU1MTLpeLtLQ07HY72dnZREREnHU7x+HhYcxmc/hhQCIiIiJyYU1p+D5x4gSvvfYabrebG2+8kdLSUnbs2MHJkycnDg0zDINAIMDo6Ch33HEHjz/+OI888ghz587l4Ycf5sEHH+Shhx7i1Vdfpays7FMtghxz8uRJNmzYwM9//nPa29sBcDqdJCQkjDtiY2OJiorCZrOF22Y+6T7aAwMD/OMf/6CqqorbbruN66+/ntTUVACSk5O5+eabqa+v58iRI4yMjDA6OkpTUxP19fUUFRVx6aWX4nQ6mT17NiUlJdTX17N37144Fbzr6upoaWkhOTmZefPmTbi6iIiIiFwIU/qEy3vvvRe3201xcTGlpaVERkby+uuvMzo6imEY2O32Mx58YzKZMJlM4QfkpKSkkJCQQHJyMsnJyaSlpZGZmcmsWbMoLCwkKirqjEWJY3w+H01NTbz00kts2bKF999/Pxxk29vbycrKwmq10tzczIYNG3jzzTe56qqrSExMxGazERERMe4Y21/b4/GwdOnS8ILPkZERGhsbefPNN9mwYQO1tbX09vYSCoXo7e0lJiYGp9MZ/kvAnj17eP311zly5AiFhYVUVlaG58Kptpv4+Hh6e3tpaWmhvr6eDz/8kI0bN5Kdnc0NN9zAzJkzsVqtWCwWnE4nLS0tNDQ0cOTIEfbt28emTZuYNm0a1157LaWlpResRUdERERE/r8pDd/r16+nrKyMOXPmkJmZSXR0NP39/UybNo3U1FSSk5PPCN+cas1ISEgYF0YTExMpKioiPT2d3NxccnNzcTqd5wzenGrT6O/vp7m5GZPJRFpaGrm5ucTHxxMTE0N+fj5Wq5Xh4WGGhoaIiIhg4cKFxMfHnzWs9vT00N3djdVq5corrww/ot7v99Pf38/x48cxmUykpqaSm5tLQkIC8fHxpKam4nQ68fv94QcP9fb2kpeXx+LFiykuLh5XQTebzcTFxeFyufB6vXg8HkwmExaLhcrKSkpKSoiJiYHTFrQGg0ECgQChUAjDMDCbzSxevJjLLrvsrPdYRERERM4/k9frNcYCWSgUwu/3Y7VacTgcE8eedyMjI9hstnCwHGspiYyMPOsuJ1MpGAzi8/mw2+3nDPTHjx/n8OHDjI6OctVVV33se+h2u2lqaqKuro65c+eSl5d31pB/urHeba/XS2Ji4jnnxmkP8gmFQrhcrk/cEiMiIiIin8yUhu//NWP3kFPV+U8iFAoRCoXCrSz/ibG/XHxU8B7zccaKiIiIyPn1n6U7+Y+YTCYiIyM/cfDmVJuI2Wz+j4M3p/XB/yc+zlgREREROb/+84QnIiIiIiKfisK3iIiIiMgkUfgWEREREZkkCt8iIiIiIpNE4VtEREREZJIofIuIiIiITBKFbxERERGRSaLwLSIiIiIySRS+RUREREQmicK3iIiIiMgkUfgWEREREZkkCt8iIiIiIpNE4VtEREREZJIofIuIiIiITBKFbxERERGRSaLwLSIiIiIySRS+RUREREQmicnr9RqhUAjDMAiFQvj9fqxW68RxIiIiIiLyKanyLSIiIiIySRS+RUREREQmyf8DNsv5eHzZq04AAAAASUVORK5CYII=)"
      ]
    },
    {
      "cell_type": "code",
      "execution_count": null,
      "metadata": {
        "id": "BgjK94O9Cfxe"
      },
      "outputs": [],
      "source": [
        "#Лабораторна робота. Метод половинного ділення, хорд\n",
        "\n",
        "\n",
        "def rec(a, b, eps):  # метод половинного ділення\n",
        "    while (abs(a - b) > eps):\n",
        "        if f(a) * f((a + b) / 2) < 0:\n",
        "            b = (a + b) / 2\n",
        "        else:\n",
        "            a = (a + b) / 2\n",
        "        x = (a + b) / 2\n",
        "\n",
        "    print('x= ', round(x, 5), '  -   Half division method')"
      ]
    },
    {
      "cell_type": "code",
      "execution_count": null,
      "metadata": {
        "id": "Sz_KWVf7D2tL"
      },
      "outputs": [],
      "source": [
        "def hord(a, b, eps):\n",
        "    if f(a) * f(b) > 0:\n",
        "        print(\"На відрізку немає кореня (однакові знаки)\")\n",
        "        return\n",
        "\n",
        "    x0, x1 = a, b\n",
        "    while abs(x1 - x0) > eps:\n",
        "        x0, x1 = x1, (a * f(b) - b * f(a)) / (f(b) - f(a))\n",
        "    print('x =', round(x1, 5), '- Chord method')"
      ]
    },
    {
      "cell_type": "code",
      "execution_count": null,
      "metadata": {
        "colab": {
          "base_uri": "https://localhost:8080/"
        },
        "id": "upx7R4yoFZj_",
        "outputId": "4b3fe03f-197f-4068-d189-3115d5db5535"
      },
      "outputs": [
        {
          "output_type": "stream",
          "name": "stdout",
          "text": [
            "Розв'язки на відрізку [-1, 1]\n",
            "x = -0.16667 - Chord method\n",
            "\n",
            " Розв'язки на відрізку [1,2]\n",
            "x = 1.16667 - Chord method\n"
          ]
        }
      ],
      "source": [
        "if __name__ == \"__main__\":\n",
        "    a1, b1 = -1, 1\n",
        "    a2, b2 = 1, 2\n",
        "    eps = 0.0001\n",
        "    print(\"Розв'язки на відрізку [-1, 1]\")\n",
        "    rec(a1, b1, eps)\n",
        "    hord(a1, b1, eps)\n",
        "    print(\"\\n Розв'язки на відрізку [1,2]\")\n",
        "    rec(a2, b2, eps)\n",
        "    hord(a2, b2, eps)"
      ]
    },
    {
      "cell_type": "code",
      "execution_count": null,
      "metadata": {
        "id": "5igfimI6gppq"
      },
      "outputs": [],
      "source": [
        "#Лабораторна робота 3. Метод Ньютона (дотичних). Комбінований метод\n",
        "\n",
        "import numpy as np\n",
        "import numdifftools as nd\n",
        "\n",
        "def f(x):\n",
        "    return 4.5*x**4 - 4*x**3 + 1.5*x**2 - 2*x - 7\n",
        "\n",
        "def nuton(a, b, eps, f):\n",
        "    df1 = nd.Derivative(f, n=1)   # створюємо callable для 1-ї похідної\n",
        "    df2 = nd.Derivative(f, n=2)   # і для 2-ї\n",
        "    xi = b if f(b) * df2(b) > 0 else a\n",
        "\n",
        "    xi_1 = xi - f(xi) / df1(xi)   # використовуємо актуальну похідну в точці xi\n",
        "    while np.abs(xi_1 - xi) > eps:\n",
        "        xi = xi_1\n",
        "        d = df1(xi)\n",
        "        if d == 0:\n",
        "            raise ZeroDivisionError(\"Похідна дорівнює нулю — зупинка.\")\n",
        "        xi_1 = xi - f(xi) / d\n",
        "\n",
        "    print('Метод Ньютона, x =', round(float(xi_1), 4))"
      ]
    },
    {
      "cell_type": "code",
      "execution_count": null,
      "metadata": {
        "id": "9YeW1KGD1m9K"
      },
      "outputs": [],
      "source": [
        "def komb(a, b, eps, f):\n",
        "    df2 = nd.Derivative(f, n=2)(a)\n",
        "    if f(a) * df2 > 0:\n",
        "        a0 = a\n",
        "        b0 = b\n",
        "    else:\n",
        "        a0 = b\n",
        "        b0 = a\n",
        "    ai = a0\n",
        "    bi = b0\n",
        "    while np.abs(ai - bi) > eps:\n",
        "        ai_1 = ai - f(ai) * (bi - ai) / (f(bi) - f(ai))\n",
        "        bi_1 = bi - f(bi) / nd.Derivative(f, n=1)(bi)\n",
        "        ai = ai_1\n",
        "        bi = bi_1\n",
        "    x = (ai_1 + bi_1) / 2\n",
        "\n",
        "    print('Комбінований метод, x = ', x.round(4))"
      ]
    },
    {
      "cell_type": "code",
      "execution_count": null,
      "metadata": {
        "colab": {
          "base_uri": "https://localhost:8080/"
        },
        "id": "_elFza6O10Rq",
        "outputId": "35ddf9f1-1c4e-41db-c92d-3778f534f12c"
      },
      "outputs": [
        {
          "output_type": "stream",
          "name": "stdout",
          "text": [
            "Розв'язання на відрізку [-1, 1]\n",
            "Метод Ньютона, x = -0.8249\n",
            "Комбінований метод, x =  1.4189\n",
            "\n",
            " Розв'язання на відрізку [1, 2]\n",
            "Метод Ньютона, x = 1.4191\n",
            "Комбінований метод, x =  1.4191\n"
          ]
        }
      ],
      "source": [
        "if __name__ == \"__main__\":\n",
        "    a1, b1 = -1, 1\n",
        "    a2, b2 = 1, 2\n",
        "    eps = 0.001\n",
        "\n",
        "    print(\"Розв'язання на відрізку [-1, 1]\")\n",
        "    nuton(a1, b1, eps, f)\n",
        "    komb(a1, b1, eps, f)\n",
        "    print(\"\\n Розв'язання на відрізку [1, 2]\")\n",
        "    nuton(a2, b2, eps, f)\n",
        "    komb(a2, b2, eps, f)"
      ]
    },
    {
      "cell_type": "markdown",
      "metadata": {
        "id": "-oeSg6_dgEAJ"
      },
      "source": [
        "Завдання 3. Лабораторна робота 3\n",
        "\n",
        "Тема: Відокремлення дійсних коренів рівнянь та їх уточнення методом простої ітерації."
      ]
    },
    {
      "cell_type": "code",
      "execution_count": 15,
      "metadata": {
        "colab": {
          "base_uri": "https://localhost:8080/"
        },
        "id": "vu_Oi93lgDmR",
        "outputId": "8549cd00-982c-41b4-bf98-487ef2879859"
      },
      "outputs": [
        {
          "output_type": "stream",
          "name": "stdout",
          "text": [
            "Requirement already satisfied: numdifftools in /usr/local/lib/python3.12/dist-packages (0.9.41)\n",
            "Requirement already satisfied: numpy>=1.9 in /usr/local/lib/python3.12/dist-packages (from numdifftools) (2.0.2)\n",
            "Requirement already satisfied: scipy>=0.8 in /usr/local/lib/python3.12/dist-packages (from numdifftools) (1.16.1)\n"
          ]
        }
      ],
      "source": [
        "!pip install numdifftools"
      ]
    },
    {
      "cell_type": "code",
      "execution_count": 16,
      "metadata": {
        "id": "XdzczvkxgWia"
      },
      "outputs": [],
      "source": [
        "import numdifftools as nd\n"
      ]
    },
    {
      "cell_type": "markdown",
      "metadata": {
        "id": "Fh62b7IQ4enR"
      },
      "source": [
        "![image.png](data:image/png;base64,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)"
      ]
    },
    {
      "cell_type": "markdown",
      "metadata": {
        "id": "1fSEoZa14LuD"
      },
      "source": [
        "Визначаємо, що корінь належить відрізку [-3; -1]"
      ]
    },
    {
      "cell_type": "code",
      "execution_count": 17,
      "metadata": {
        "id": "yUq3lsAX4oH6"
      },
      "outputs": [],
      "source": [
        "def f(x: float):\n",
        "    return x**3 + x - 3\n",
        "\n",
        "def fprime(x: float):\n",
        "    return nd.Derivative(f, n=1)\n",
        "\n",
        "def phi(x: float):\n",
        "    # c = -0.1 (забезпечує |phi'(x)|<1 на [-3,-1])\n",
        "    return x - 0.1 * f(x)\n",
        "\n",
        "def iterate_fixed_point(x0: float, iters: int = 5):\n",
        "    xs = [x0]\n",
        "    x = x0\n",
        "    for _ in range(iters):\n",
        "        x = phi(x)\n",
        "        xs.append(x)\n",
        "    return xs\n",
        "\n",
        "def error_bound(x_last: float) -> float:\n",
        "    # μ = min_{x∈[-3,-1]} |f'(x)| = 2\n",
        "    mu = 2.0\n",
        "    return abs(f(x_last)) / mu"
      ]
    },
    {
      "cell_type": "code",
      "execution_count": 18,
      "metadata": {
        "colab": {
          "base_uri": "https://localhost:8080/"
        },
        "id": "bbEcN8CQgtt6",
        "outputId": "60bb33f2-6324-45bd-f20f-d83cef14bb7f"
      },
      "outputs": [
        {
          "output_type": "stream",
          "name": "stdout",
          "text": [
            "Fixed-point iteration for f(x) = x^3 + x - 3 with phi(x) = x - 0.1*f(x)\n",
            "Interval: [-3, -1], start x0 = -1.0\n",
            "x_0 = -1.0000000000\n",
            "x_1 = phi(x_0) = -0.5000000000\n",
            "x_2 = phi(x_1) = -0.1375000000\n",
            "x_3 = phi(x_2) = 0.1765099609\n",
            "x_4 = phi(x_3) = 0.4583090345\n",
            "x_5 = phi(x_4) = 0.7028514795\n",
            "\n",
            "Error bound after 5 iterations:  |ξ - x5| ≤ |f(x5)| / μ\n",
            "f(x5) = -1.9499397476,  μ = 2  ⇒  |ξ - x5| ≤ 0.9749698738\n"
          ]
        }
      ],
      "source": [
        "def main():\n",
        "    x0 = -1.0\n",
        "    iters = 5\n",
        "    xs = iterate_fixed_point(x0, iters)\n",
        "    print(\"Fixed-point iteration for f(x) = x^3 + x - 3 with phi(x) = x - 0.1*f(x)\")\n",
        "    print(f\"Interval: [-3, -1], start x0 = {x0}\")\n",
        "    for i, xi in enumerate(xs):\n",
        "        if i == 0:\n",
        "            print(f\"x_{i} = {xi:.10f}\")\n",
        "        else:\n",
        "            print(f\"x_{i} = phi(x_{i-1}) = {xi:.10f}\")\n",
        "    bound = error_bound(xs[-1])\n",
        "    print(\"\\nError bound after 5 iterations:  |ξ - x5| ≤ |f(x5)| / μ\")\n",
        "    print(f\"f(x5) = {f(xs[-1]):.10f},  μ = 2  ⇒  |ξ - x5| ≤ {bound:.10f}\")\n",
        "    return xs[-1], bound\n",
        "\n",
        "if __name__ == \"__main__\":\n",
        "    root_approx, bound = main()"
      ]
    },
    {
      "cell_type": "markdown",
      "metadata": {
        "id": "0y8G60mBgyWa"
      },
      "source": [
        "Спрощений варіант коду"
      ]
    },
    {
      "cell_type": "code",
      "execution_count": 19,
      "metadata": {
        "colab": {
          "base_uri": "https://localhost:8080/"
        },
        "id": "UEJVD4v3g1hS",
        "outputId": "f0472baa-7ce6-4869-8caf-84c3239da614"
      },
      "outputs": [
        {
          "output_type": "stream",
          "name": "stdout",
          "text": [
            "x_0 = -1.0000000000\n",
            "x_1 = -0.5000000000\n",
            "x_2 = -0.1375000000\n",
            "x_3 = 0.1765099609\n",
            "x_4 = 0.4583090345\n",
            "x_5 = 0.7028514795\n",
            "\n",
            "Оцінка похибки: |ξ - x5| ≤ 0.9749698738\n"
          ]
        }
      ],
      "source": [
        "# Рівняння: f(x) = x^3 + x - 3 = 0\n",
        "# Ітераційна функція: φ(x) = x - 0.1 * f(x)  (c = -0.1)\n",
        "# Початкове наближення: x0 = -1\n",
        "# Кількість ітерацій: 5\n",
        "# Оцінка похибки: |ξ - x5| ≤ |f(x5)| / μ, де μ = min_{[-3,-1]} |f'(x)| = 2\n",
        "\n",
        "def f(x):\n",
        "    return x**3 + x - 3\n",
        "\n",
        "def phi(x):\n",
        "    return x - 0.1 * f(x)   # c = -0.1\n",
        "\n",
        "def fixed_point(x0=-1.0, iters=5):\n",
        "    xs = [x0]\n",
        "    for _ in range(iters):\n",
        "        xs.append(phi(xs[-1]))\n",
        "    return xs\n",
        "\n",
        "# Запуск і вивід результатів\n",
        "xs = fixed_point(-1.0, 5)\n",
        "\n",
        "for i, xi in enumerate(xs):\n",
        "    print(f\"x_{i} = {xi:.10f}\")\n",
        "\n",
        "# Похибка методу простої ітерації після 5-ї ітерації\n",
        "mu = 2.0                      # μ = min_{[-3,-1]} |3x^2 - 1| = 2\n",
        "err_bound = abs(f(xs[-1]))/mu\n",
        "print(f\"\\nОцінка похибки: |ξ - x5| ≤ {err_bound:.10f}\")"
      ]
    }
  ],
  "metadata": {
    "colab": {
      "provenance": [],
      "include_colab_link": true
    },
    "kernelspec": {
      "display_name": "Python 3",
      "name": "python3"
    },
    "language_info": {
      "name": "python"
    }
  },
  "nbformat": 4,
  "nbformat_minor": 0
}